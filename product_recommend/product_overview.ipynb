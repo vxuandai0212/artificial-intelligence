{
 "cells": [
  {
   "cell_type": "code",
   "execution_count": 1,
   "metadata": {},
   "outputs": [],
   "source": [
    "import pandas as pd\n",
    "import numpy as np\n",
    "import time\n",
    "from sklearn.model_selection import train_test_split\n",
    "import turicreate as tc"
   ]
  },
  {
   "cell_type": "code",
   "execution_count": 2,
   "metadata": {},
   "outputs": [],
   "source": [
    "customers = pd.read_csv('data/recommend_1.csv') \n",
    "transactions = pd.read_csv('data/trx_data.csv')"
   ]
  },
  {
   "cell_type": "code",
   "execution_count": 3,
   "metadata": {},
   "outputs": [
    {
     "data": {
      "text/html": [
       "<div>\n",
       "<style scoped>\n",
       "    .dataframe tbody tr th:only-of-type {\n",
       "        vertical-align: middle;\n",
       "    }\n",
       "\n",
       "    .dataframe tbody tr th {\n",
       "        vertical-align: top;\n",
       "    }\n",
       "\n",
       "    .dataframe thead th {\n",
       "        text-align: right;\n",
       "    }\n",
       "</style>\n",
       "<table border=\"1\" class=\"dataframe\">\n",
       "  <thead>\n",
       "    <tr style=\"text-align: right;\">\n",
       "      <th></th>\n",
       "      <th>customerId</th>\n",
       "    </tr>\n",
       "  </thead>\n",
       "  <tbody>\n",
       "    <tr>\n",
       "      <th>0</th>\n",
       "      <td>1553</td>\n",
       "    </tr>\n",
       "    <tr>\n",
       "      <th>1</th>\n",
       "      <td>20400</td>\n",
       "    </tr>\n",
       "    <tr>\n",
       "      <th>2</th>\n",
       "      <td>19750</td>\n",
       "    </tr>\n",
       "    <tr>\n",
       "      <th>3</th>\n",
       "      <td>6334</td>\n",
       "    </tr>\n",
       "    <tr>\n",
       "      <th>4</th>\n",
       "      <td>27773</td>\n",
       "    </tr>\n",
       "  </tbody>\n",
       "</table>\n",
       "</div>"
      ],
      "text/plain": [
       "   customerId\n",
       "0        1553\n",
       "1       20400\n",
       "2       19750\n",
       "3        6334\n",
       "4       27773"
      ]
     },
     "execution_count": 3,
     "metadata": {},
     "output_type": "execute_result"
    }
   ],
   "source": [
    "customers.head()"
   ]
  },
  {
   "cell_type": "code",
   "execution_count": 4,
   "metadata": {},
   "outputs": [
    {
     "data": {
      "text/html": [
       "<div>\n",
       "<style scoped>\n",
       "    .dataframe tbody tr th:only-of-type {\n",
       "        vertical-align: middle;\n",
       "    }\n",
       "\n",
       "    .dataframe tbody tr th {\n",
       "        vertical-align: top;\n",
       "    }\n",
       "\n",
       "    .dataframe thead th {\n",
       "        text-align: right;\n",
       "    }\n",
       "</style>\n",
       "<table border=\"1\" class=\"dataframe\">\n",
       "  <thead>\n",
       "    <tr style=\"text-align: right;\">\n",
       "      <th></th>\n",
       "      <th>customerId</th>\n",
       "      <th>products</th>\n",
       "    </tr>\n",
       "  </thead>\n",
       "  <tbody>\n",
       "    <tr>\n",
       "      <th>0</th>\n",
       "      <td>0</td>\n",
       "      <td>20</td>\n",
       "    </tr>\n",
       "    <tr>\n",
       "      <th>1</th>\n",
       "      <td>1</td>\n",
       "      <td>2|2|23|68|68|111|29|86|107|152</td>\n",
       "    </tr>\n",
       "    <tr>\n",
       "      <th>2</th>\n",
       "      <td>2</td>\n",
       "      <td>111|107|29|11|11|11|33|23</td>\n",
       "    </tr>\n",
       "    <tr>\n",
       "      <th>3</th>\n",
       "      <td>3</td>\n",
       "      <td>164|227</td>\n",
       "    </tr>\n",
       "    <tr>\n",
       "      <th>4</th>\n",
       "      <td>5</td>\n",
       "      <td>2|2</td>\n",
       "    </tr>\n",
       "  </tbody>\n",
       "</table>\n",
       "</div>"
      ],
      "text/plain": [
       "   customerId                        products\n",
       "0           0                              20\n",
       "1           1  2|2|23|68|68|111|29|86|107|152\n",
       "2           2       111|107|29|11|11|11|33|23\n",
       "3           3                         164|227\n",
       "4           5                             2|2"
      ]
     },
     "execution_count": 4,
     "metadata": {},
     "output_type": "execute_result"
    }
   ],
   "source": [
    "transactions.head()"
   ]
  },
  {
   "cell_type": "code",
   "execution_count": 5,
   "metadata": {},
   "outputs": [],
   "source": [
    "transactions['products'] = transactions['products'].apply(lambda x: [int(i) for i in x.split('|')])"
   ]
  },
  {
   "cell_type": "code",
   "execution_count": 6,
   "metadata": {},
   "outputs": [
    {
     "data": {
      "text/html": [
       "<div>\n",
       "<style scoped>\n",
       "    .dataframe tbody tr th:only-of-type {\n",
       "        vertical-align: middle;\n",
       "    }\n",
       "\n",
       "    .dataframe tbody tr th {\n",
       "        vertical-align: top;\n",
       "    }\n",
       "\n",
       "    .dataframe thead th {\n",
       "        text-align: right;\n",
       "    }\n",
       "</style>\n",
       "<table border=\"1\" class=\"dataframe\">\n",
       "  <thead>\n",
       "    <tr style=\"text-align: right;\">\n",
       "      <th></th>\n",
       "      <th>customerId</th>\n",
       "      <th>0</th>\n",
       "      <th>1</th>\n",
       "      <th>2</th>\n",
       "      <th>3</th>\n",
       "      <th>4</th>\n",
       "      <th>5</th>\n",
       "      <th>6</th>\n",
       "      <th>7</th>\n",
       "      <th>8</th>\n",
       "      <th>9</th>\n",
       "    </tr>\n",
       "  </thead>\n",
       "  <tbody>\n",
       "    <tr>\n",
       "      <th>0</th>\n",
       "      <td>0</td>\n",
       "      <td>20.0</td>\n",
       "      <td>NaN</td>\n",
       "      <td>NaN</td>\n",
       "      <td>NaN</td>\n",
       "      <td>NaN</td>\n",
       "      <td>NaN</td>\n",
       "      <td>NaN</td>\n",
       "      <td>NaN</td>\n",
       "      <td>NaN</td>\n",
       "      <td>NaN</td>\n",
       "    </tr>\n",
       "    <tr>\n",
       "      <th>1</th>\n",
       "      <td>1</td>\n",
       "      <td>2.0</td>\n",
       "      <td>2.0</td>\n",
       "      <td>23.0</td>\n",
       "      <td>68.0</td>\n",
       "      <td>68.0</td>\n",
       "      <td>111.0</td>\n",
       "      <td>29.0</td>\n",
       "      <td>86.0</td>\n",
       "      <td>107.0</td>\n",
       "      <td>152.0</td>\n",
       "    </tr>\n",
       "  </tbody>\n",
       "</table>\n",
       "</div>"
      ],
      "text/plain": [
       "   customerId     0    1     2     3     4      5     6     7      8      9\n",
       "0           0  20.0  NaN   NaN   NaN   NaN    NaN   NaN   NaN    NaN    NaN\n",
       "1           1   2.0  2.0  23.0  68.0  68.0  111.0  29.0  86.0  107.0  152.0"
      ]
     },
     "execution_count": 6,
     "metadata": {},
     "output_type": "execute_result"
    }
   ],
   "source": [
    "transactions.head(2).set_index('customerId')['products'].apply(pd.Series).reset_index()"
   ]
  },
  {
   "cell_type": "code",
   "execution_count": 7,
   "metadata": {},
   "outputs": [],
   "source": [
    "data = pd.melt(transactions.set_index('customerId')['products'].apply(pd.Series).reset_index(), \n",
    "             id_vars=['customerId'],\n",
    "             value_name='products') \\\n",
    "    .dropna().drop(['variable'], axis=1) \\\n",
    "    .groupby(['customerId', 'products']) \\\n",
    "    .agg({'products': 'count'}) \\\n",
    "    .rename(columns={'products': 'purchase_count'}) \\\n",
    "    .reset_index() \\\n",
    "    .rename(columns={'products': 'productId'})\n",
    "data['productId'] = data['productId'].astype(np.int64)"
   ]
  },
  {
   "cell_type": "code",
   "execution_count": 8,
   "metadata": {},
   "outputs": [
    {
     "data": {
      "text/html": [
       "<div>\n",
       "<style scoped>\n",
       "    .dataframe tbody tr th:only-of-type {\n",
       "        vertical-align: middle;\n",
       "    }\n",
       "\n",
       "    .dataframe tbody tr th {\n",
       "        vertical-align: top;\n",
       "    }\n",
       "\n",
       "    .dataframe thead th {\n",
       "        text-align: right;\n",
       "    }\n",
       "</style>\n",
       "<table border=\"1\" class=\"dataframe\">\n",
       "  <thead>\n",
       "    <tr style=\"text-align: right;\">\n",
       "      <th></th>\n",
       "      <th>customerId</th>\n",
       "      <th>productId</th>\n",
       "      <th>purchase_count</th>\n",
       "    </tr>\n",
       "  </thead>\n",
       "  <tbody>\n",
       "    <tr>\n",
       "      <th>0</th>\n",
       "      <td>0</td>\n",
       "      <td>1</td>\n",
       "      <td>2</td>\n",
       "    </tr>\n",
       "    <tr>\n",
       "      <th>1</th>\n",
       "      <td>0</td>\n",
       "      <td>13</td>\n",
       "      <td>1</td>\n",
       "    </tr>\n",
       "    <tr>\n",
       "      <th>2</th>\n",
       "      <td>0</td>\n",
       "      <td>19</td>\n",
       "      <td>3</td>\n",
       "    </tr>\n",
       "    <tr>\n",
       "      <th>3</th>\n",
       "      <td>0</td>\n",
       "      <td>20</td>\n",
       "      <td>1</td>\n",
       "    </tr>\n",
       "    <tr>\n",
       "      <th>4</th>\n",
       "      <td>0</td>\n",
       "      <td>31</td>\n",
       "      <td>2</td>\n",
       "    </tr>\n",
       "  </tbody>\n",
       "</table>\n",
       "</div>"
      ],
      "text/plain": [
       "   customerId  productId  purchase_count\n",
       "0           0          1               2\n",
       "1           0         13               1\n",
       "2           0         19               3\n",
       "3           0         20               1\n",
       "4           0         31               2"
      ]
     },
     "execution_count": 8,
     "metadata": {},
     "output_type": "execute_result"
    }
   ],
   "source": [
    "data.head()"
   ]
  },
  {
   "cell_type": "code",
   "execution_count": 9,
   "metadata": {},
   "outputs": [],
   "source": [
    "def create_data_dummy(data):\n",
    "    data_dummy = data.copy()\n",
    "    data_dummy['purchase_dummy'] = 1\n",
    "    return data_dummy"
   ]
  },
  {
   "cell_type": "code",
   "execution_count": 10,
   "metadata": {},
   "outputs": [],
   "source": [
    "data_dummy = create_data_dummy(data)"
   ]
  },
  {
   "cell_type": "code",
   "execution_count": 11,
   "metadata": {},
   "outputs": [
    {
     "data": {
      "text/html": [
       "<div>\n",
       "<style scoped>\n",
       "    .dataframe tbody tr th:only-of-type {\n",
       "        vertical-align: middle;\n",
       "    }\n",
       "\n",
       "    .dataframe tbody tr th {\n",
       "        vertical-align: top;\n",
       "    }\n",
       "\n",
       "    .dataframe thead th {\n",
       "        text-align: right;\n",
       "    }\n",
       "</style>\n",
       "<table border=\"1\" class=\"dataframe\">\n",
       "  <thead>\n",
       "    <tr style=\"text-align: right;\">\n",
       "      <th>productId</th>\n",
       "      <th>0</th>\n",
       "      <th>1</th>\n",
       "      <th>2</th>\n",
       "      <th>3</th>\n",
       "      <th>4</th>\n",
       "      <th>5</th>\n",
       "      <th>6</th>\n",
       "      <th>7</th>\n",
       "      <th>8</th>\n",
       "      <th>9</th>\n",
       "      <th>...</th>\n",
       "      <th>290</th>\n",
       "      <th>291</th>\n",
       "      <th>292</th>\n",
       "      <th>293</th>\n",
       "      <th>294</th>\n",
       "      <th>295</th>\n",
       "      <th>296</th>\n",
       "      <th>297</th>\n",
       "      <th>298</th>\n",
       "      <th>299</th>\n",
       "    </tr>\n",
       "    <tr>\n",
       "      <th>customerId</th>\n",
       "      <th></th>\n",
       "      <th></th>\n",
       "      <th></th>\n",
       "      <th></th>\n",
       "      <th></th>\n",
       "      <th></th>\n",
       "      <th></th>\n",
       "      <th></th>\n",
       "      <th></th>\n",
       "      <th></th>\n",
       "      <th></th>\n",
       "      <th></th>\n",
       "      <th></th>\n",
       "      <th></th>\n",
       "      <th></th>\n",
       "      <th></th>\n",
       "      <th></th>\n",
       "      <th></th>\n",
       "      <th></th>\n",
       "      <th></th>\n",
       "      <th></th>\n",
       "    </tr>\n",
       "  </thead>\n",
       "  <tbody>\n",
       "    <tr>\n",
       "      <th>0</th>\n",
       "      <td>NaN</td>\n",
       "      <td>2.0</td>\n",
       "      <td>NaN</td>\n",
       "      <td>NaN</td>\n",
       "      <td>NaN</td>\n",
       "      <td>NaN</td>\n",
       "      <td>NaN</td>\n",
       "      <td>NaN</td>\n",
       "      <td>NaN</td>\n",
       "      <td>NaN</td>\n",
       "      <td>...</td>\n",
       "      <td>NaN</td>\n",
       "      <td>NaN</td>\n",
       "      <td>NaN</td>\n",
       "      <td>NaN</td>\n",
       "      <td>NaN</td>\n",
       "      <td>NaN</td>\n",
       "      <td>NaN</td>\n",
       "      <td>NaN</td>\n",
       "      <td>NaN</td>\n",
       "      <td>NaN</td>\n",
       "    </tr>\n",
       "    <tr>\n",
       "      <th>1</th>\n",
       "      <td>NaN</td>\n",
       "      <td>NaN</td>\n",
       "      <td>6.0</td>\n",
       "      <td>NaN</td>\n",
       "      <td>NaN</td>\n",
       "      <td>NaN</td>\n",
       "      <td>NaN</td>\n",
       "      <td>NaN</td>\n",
       "      <td>NaN</td>\n",
       "      <td>NaN</td>\n",
       "      <td>...</td>\n",
       "      <td>NaN</td>\n",
       "      <td>NaN</td>\n",
       "      <td>NaN</td>\n",
       "      <td>1.0</td>\n",
       "      <td>NaN</td>\n",
       "      <td>NaN</td>\n",
       "      <td>1.0</td>\n",
       "      <td>NaN</td>\n",
       "      <td>NaN</td>\n",
       "      <td>NaN</td>\n",
       "    </tr>\n",
       "    <tr>\n",
       "      <th>2</th>\n",
       "      <td>NaN</td>\n",
       "      <td>NaN</td>\n",
       "      <td>NaN</td>\n",
       "      <td>NaN</td>\n",
       "      <td>NaN</td>\n",
       "      <td>NaN</td>\n",
       "      <td>NaN</td>\n",
       "      <td>NaN</td>\n",
       "      <td>NaN</td>\n",
       "      <td>NaN</td>\n",
       "      <td>...</td>\n",
       "      <td>NaN</td>\n",
       "      <td>NaN</td>\n",
       "      <td>NaN</td>\n",
       "      <td>NaN</td>\n",
       "      <td>NaN</td>\n",
       "      <td>NaN</td>\n",
       "      <td>NaN</td>\n",
       "      <td>NaN</td>\n",
       "      <td>NaN</td>\n",
       "      <td>NaN</td>\n",
       "    </tr>\n",
       "    <tr>\n",
       "      <th>3</th>\n",
       "      <td>NaN</td>\n",
       "      <td>NaN</td>\n",
       "      <td>NaN</td>\n",
       "      <td>NaN</td>\n",
       "      <td>NaN</td>\n",
       "      <td>NaN</td>\n",
       "      <td>NaN</td>\n",
       "      <td>NaN</td>\n",
       "      <td>NaN</td>\n",
       "      <td>NaN</td>\n",
       "      <td>...</td>\n",
       "      <td>NaN</td>\n",
       "      <td>NaN</td>\n",
       "      <td>NaN</td>\n",
       "      <td>NaN</td>\n",
       "      <td>NaN</td>\n",
       "      <td>NaN</td>\n",
       "      <td>NaN</td>\n",
       "      <td>NaN</td>\n",
       "      <td>NaN</td>\n",
       "      <td>NaN</td>\n",
       "    </tr>\n",
       "    <tr>\n",
       "      <th>4</th>\n",
       "      <td>NaN</td>\n",
       "      <td>NaN</td>\n",
       "      <td>NaN</td>\n",
       "      <td>NaN</td>\n",
       "      <td>NaN</td>\n",
       "      <td>NaN</td>\n",
       "      <td>NaN</td>\n",
       "      <td>NaN</td>\n",
       "      <td>NaN</td>\n",
       "      <td>NaN</td>\n",
       "      <td>...</td>\n",
       "      <td>NaN</td>\n",
       "      <td>NaN</td>\n",
       "      <td>NaN</td>\n",
       "      <td>NaN</td>\n",
       "      <td>NaN</td>\n",
       "      <td>NaN</td>\n",
       "      <td>NaN</td>\n",
       "      <td>NaN</td>\n",
       "      <td>NaN</td>\n",
       "      <td>NaN</td>\n",
       "    </tr>\n",
       "  </tbody>\n",
       "</table>\n",
       "<p>5 rows × 300 columns</p>\n",
       "</div>"
      ],
      "text/plain": [
       "productId   0    1    2    3    4    5    6    7    8    9   ...   290  291  \\\n",
       "customerId                                                   ...              \n",
       "0           NaN  2.0  NaN  NaN  NaN  NaN  NaN  NaN  NaN  NaN ...   NaN  NaN   \n",
       "1           NaN  NaN  6.0  NaN  NaN  NaN  NaN  NaN  NaN  NaN ...   NaN  NaN   \n",
       "2           NaN  NaN  NaN  NaN  NaN  NaN  NaN  NaN  NaN  NaN ...   NaN  NaN   \n",
       "3           NaN  NaN  NaN  NaN  NaN  NaN  NaN  NaN  NaN  NaN ...   NaN  NaN   \n",
       "4           NaN  NaN  NaN  NaN  NaN  NaN  NaN  NaN  NaN  NaN ...   NaN  NaN   \n",
       "\n",
       "productId   292  293  294  295  296  297  298  299  \n",
       "customerId                                          \n",
       "0           NaN  NaN  NaN  NaN  NaN  NaN  NaN  NaN  \n",
       "1           NaN  1.0  NaN  NaN  1.0  NaN  NaN  NaN  \n",
       "2           NaN  NaN  NaN  NaN  NaN  NaN  NaN  NaN  \n",
       "3           NaN  NaN  NaN  NaN  NaN  NaN  NaN  NaN  \n",
       "4           NaN  NaN  NaN  NaN  NaN  NaN  NaN  NaN  \n",
       "\n",
       "[5 rows x 300 columns]"
      ]
     },
     "execution_count": 11,
     "metadata": {},
     "output_type": "execute_result"
    }
   ],
   "source": [
    "df_matrix = pd.pivot_table(data, values='purchase_count', index='customerId', columns='productId')\n",
    "df_matrix.head()"
   ]
  },
  {
   "cell_type": "code",
   "execution_count": 12,
   "metadata": {},
   "outputs": [
    {
     "name": "stdout",
     "output_type": "stream",
     "text": [
      "(24429, 300)\n"
     ]
    },
    {
     "data": {
      "text/html": [
       "<div>\n",
       "<style scoped>\n",
       "    .dataframe tbody tr th:only-of-type {\n",
       "        vertical-align: middle;\n",
       "    }\n",
       "\n",
       "    .dataframe tbody tr th {\n",
       "        vertical-align: top;\n",
       "    }\n",
       "\n",
       "    .dataframe thead th {\n",
       "        text-align: right;\n",
       "    }\n",
       "</style>\n",
       "<table border=\"1\" class=\"dataframe\">\n",
       "  <thead>\n",
       "    <tr style=\"text-align: right;\">\n",
       "      <th>productId</th>\n",
       "      <th>0</th>\n",
       "      <th>1</th>\n",
       "      <th>2</th>\n",
       "      <th>3</th>\n",
       "      <th>4</th>\n",
       "      <th>5</th>\n",
       "      <th>6</th>\n",
       "      <th>7</th>\n",
       "      <th>8</th>\n",
       "      <th>9</th>\n",
       "      <th>...</th>\n",
       "      <th>290</th>\n",
       "      <th>291</th>\n",
       "      <th>292</th>\n",
       "      <th>293</th>\n",
       "      <th>294</th>\n",
       "      <th>295</th>\n",
       "      <th>296</th>\n",
       "      <th>297</th>\n",
       "      <th>298</th>\n",
       "      <th>299</th>\n",
       "    </tr>\n",
       "    <tr>\n",
       "      <th>customerId</th>\n",
       "      <th></th>\n",
       "      <th></th>\n",
       "      <th></th>\n",
       "      <th></th>\n",
       "      <th></th>\n",
       "      <th></th>\n",
       "      <th></th>\n",
       "      <th></th>\n",
       "      <th></th>\n",
       "      <th></th>\n",
       "      <th></th>\n",
       "      <th></th>\n",
       "      <th></th>\n",
       "      <th></th>\n",
       "      <th></th>\n",
       "      <th></th>\n",
       "      <th></th>\n",
       "      <th></th>\n",
       "      <th></th>\n",
       "      <th></th>\n",
       "      <th></th>\n",
       "    </tr>\n",
       "  </thead>\n",
       "  <tbody>\n",
       "    <tr>\n",
       "      <th>0</th>\n",
       "      <td>NaN</td>\n",
       "      <td>0.1</td>\n",
       "      <td>NaN</td>\n",
       "      <td>NaN</td>\n",
       "      <td>NaN</td>\n",
       "      <td>NaN</td>\n",
       "      <td>NaN</td>\n",
       "      <td>NaN</td>\n",
       "      <td>NaN</td>\n",
       "      <td>NaN</td>\n",
       "      <td>...</td>\n",
       "      <td>NaN</td>\n",
       "      <td>NaN</td>\n",
       "      <td>NaN</td>\n",
       "      <td>NaN</td>\n",
       "      <td>NaN</td>\n",
       "      <td>NaN</td>\n",
       "      <td>NaN</td>\n",
       "      <td>NaN</td>\n",
       "      <td>NaN</td>\n",
       "      <td>NaN</td>\n",
       "    </tr>\n",
       "    <tr>\n",
       "      <th>1</th>\n",
       "      <td>NaN</td>\n",
       "      <td>NaN</td>\n",
       "      <td>0.166667</td>\n",
       "      <td>NaN</td>\n",
       "      <td>NaN</td>\n",
       "      <td>NaN</td>\n",
       "      <td>NaN</td>\n",
       "      <td>NaN</td>\n",
       "      <td>NaN</td>\n",
       "      <td>NaN</td>\n",
       "      <td>...</td>\n",
       "      <td>NaN</td>\n",
       "      <td>NaN</td>\n",
       "      <td>NaN</td>\n",
       "      <td>0.0</td>\n",
       "      <td>NaN</td>\n",
       "      <td>NaN</td>\n",
       "      <td>0.0</td>\n",
       "      <td>NaN</td>\n",
       "      <td>NaN</td>\n",
       "      <td>NaN</td>\n",
       "    </tr>\n",
       "    <tr>\n",
       "      <th>2</th>\n",
       "      <td>NaN</td>\n",
       "      <td>NaN</td>\n",
       "      <td>NaN</td>\n",
       "      <td>NaN</td>\n",
       "      <td>NaN</td>\n",
       "      <td>NaN</td>\n",
       "      <td>NaN</td>\n",
       "      <td>NaN</td>\n",
       "      <td>NaN</td>\n",
       "      <td>NaN</td>\n",
       "      <td>...</td>\n",
       "      <td>NaN</td>\n",
       "      <td>NaN</td>\n",
       "      <td>NaN</td>\n",
       "      <td>NaN</td>\n",
       "      <td>NaN</td>\n",
       "      <td>NaN</td>\n",
       "      <td>NaN</td>\n",
       "      <td>NaN</td>\n",
       "      <td>NaN</td>\n",
       "      <td>NaN</td>\n",
       "    </tr>\n",
       "    <tr>\n",
       "      <th>3</th>\n",
       "      <td>NaN</td>\n",
       "      <td>NaN</td>\n",
       "      <td>NaN</td>\n",
       "      <td>NaN</td>\n",
       "      <td>NaN</td>\n",
       "      <td>NaN</td>\n",
       "      <td>NaN</td>\n",
       "      <td>NaN</td>\n",
       "      <td>NaN</td>\n",
       "      <td>NaN</td>\n",
       "      <td>...</td>\n",
       "      <td>NaN</td>\n",
       "      <td>NaN</td>\n",
       "      <td>NaN</td>\n",
       "      <td>NaN</td>\n",
       "      <td>NaN</td>\n",
       "      <td>NaN</td>\n",
       "      <td>NaN</td>\n",
       "      <td>NaN</td>\n",
       "      <td>NaN</td>\n",
       "      <td>NaN</td>\n",
       "    </tr>\n",
       "    <tr>\n",
       "      <th>4</th>\n",
       "      <td>NaN</td>\n",
       "      <td>NaN</td>\n",
       "      <td>NaN</td>\n",
       "      <td>NaN</td>\n",
       "      <td>NaN</td>\n",
       "      <td>NaN</td>\n",
       "      <td>NaN</td>\n",
       "      <td>NaN</td>\n",
       "      <td>NaN</td>\n",
       "      <td>NaN</td>\n",
       "      <td>...</td>\n",
       "      <td>NaN</td>\n",
       "      <td>NaN</td>\n",
       "      <td>NaN</td>\n",
       "      <td>NaN</td>\n",
       "      <td>NaN</td>\n",
       "      <td>NaN</td>\n",
       "      <td>NaN</td>\n",
       "      <td>NaN</td>\n",
       "      <td>NaN</td>\n",
       "      <td>NaN</td>\n",
       "    </tr>\n",
       "  </tbody>\n",
       "</table>\n",
       "<p>5 rows × 300 columns</p>\n",
       "</div>"
      ],
      "text/plain": [
       "productId   0    1         2    3    4    5    6    7    8    9   ...   290  \\\n",
       "customerId                                                        ...         \n",
       "0           NaN  0.1       NaN  NaN  NaN  NaN  NaN  NaN  NaN  NaN ...   NaN   \n",
       "1           NaN  NaN  0.166667  NaN  NaN  NaN  NaN  NaN  NaN  NaN ...   NaN   \n",
       "2           NaN  NaN       NaN  NaN  NaN  NaN  NaN  NaN  NaN  NaN ...   NaN   \n",
       "3           NaN  NaN       NaN  NaN  NaN  NaN  NaN  NaN  NaN  NaN ...   NaN   \n",
       "4           NaN  NaN       NaN  NaN  NaN  NaN  NaN  NaN  NaN  NaN ...   NaN   \n",
       "\n",
       "productId   291  292  293  294  295  296  297  298  299  \n",
       "customerId                                               \n",
       "0           NaN  NaN  NaN  NaN  NaN  NaN  NaN  NaN  NaN  \n",
       "1           NaN  NaN  0.0  NaN  NaN  0.0  NaN  NaN  NaN  \n",
       "2           NaN  NaN  NaN  NaN  NaN  NaN  NaN  NaN  NaN  \n",
       "3           NaN  NaN  NaN  NaN  NaN  NaN  NaN  NaN  NaN  \n",
       "4           NaN  NaN  NaN  NaN  NaN  NaN  NaN  NaN  NaN  \n",
       "\n",
       "[5 rows x 300 columns]"
      ]
     },
     "execution_count": 12,
     "metadata": {},
     "output_type": "execute_result"
    }
   ],
   "source": [
    "df_matrix_norm = (df_matrix-df_matrix.min())/(df_matrix.max()-df_matrix.min())\n",
    "print(df_matrix_norm.shape)\n",
    "df_matrix_norm.head()"
   ]
  },
  {
   "cell_type": "code",
   "execution_count": 13,
   "metadata": {},
   "outputs": [
    {
     "name": "stdout",
     "output_type": "stream",
     "text": [
      "(133585, 3)\n"
     ]
    },
    {
     "data": {
      "text/html": [
       "<div>\n",
       "<style scoped>\n",
       "    .dataframe tbody tr th:only-of-type {\n",
       "        vertical-align: middle;\n",
       "    }\n",
       "\n",
       "    .dataframe tbody tr th {\n",
       "        vertical-align: top;\n",
       "    }\n",
       "\n",
       "    .dataframe thead th {\n",
       "        text-align: right;\n",
       "    }\n",
       "</style>\n",
       "<table border=\"1\" class=\"dataframe\">\n",
       "  <thead>\n",
       "    <tr style=\"text-align: right;\">\n",
       "      <th></th>\n",
       "      <th>customerId</th>\n",
       "      <th>productId</th>\n",
       "      <th>scaled_purchase_freq</th>\n",
       "    </tr>\n",
       "  </thead>\n",
       "  <tbody>\n",
       "    <tr>\n",
       "      <th>9</th>\n",
       "      <td>9</td>\n",
       "      <td>0</td>\n",
       "      <td>0.133333</td>\n",
       "    </tr>\n",
       "    <tr>\n",
       "      <th>25</th>\n",
       "      <td>25</td>\n",
       "      <td>0</td>\n",
       "      <td>0.133333</td>\n",
       "    </tr>\n",
       "    <tr>\n",
       "      <th>32</th>\n",
       "      <td>33</td>\n",
       "      <td>0</td>\n",
       "      <td>0.133333</td>\n",
       "    </tr>\n",
       "    <tr>\n",
       "      <th>35</th>\n",
       "      <td>36</td>\n",
       "      <td>0</td>\n",
       "      <td>0.133333</td>\n",
       "    </tr>\n",
       "    <tr>\n",
       "      <th>43</th>\n",
       "      <td>44</td>\n",
       "      <td>0</td>\n",
       "      <td>0.133333</td>\n",
       "    </tr>\n",
       "  </tbody>\n",
       "</table>\n",
       "</div>"
      ],
      "text/plain": [
       "    customerId productId  scaled_purchase_freq\n",
       "9            9         0              0.133333\n",
       "25          25         0              0.133333\n",
       "32          33         0              0.133333\n",
       "35          36         0              0.133333\n",
       "43          44         0              0.133333"
      ]
     },
     "execution_count": 13,
     "metadata": {},
     "output_type": "execute_result"
    }
   ],
   "source": [
    "# create a table for input to the modeling\n",
    "\n",
    "d = df_matrix_norm.reset_index()\n",
    "d.index.names = ['scaled_purchase_freq']\n",
    "data_norm = pd.melt(d, id_vars=['customerId'], value_name='scaled_purchase_freq').dropna()\n",
    "print(data_norm.shape)\n",
    "data_norm.head()"
   ]
  },
  {
   "cell_type": "code",
   "execution_count": 14,
   "metadata": {},
   "outputs": [],
   "source": [
    "def normalize_data(data):\n",
    "    df_matrix = pd.pivot_table(data, values='purchase_count', index='customerId', columns='productId')\n",
    "    df_matrix_norm = (df_matrix-df_matrix.min())/(df_matrix.max()-df_matrix.min())\n",
    "    d = df_matrix_norm.reset_index()\n",
    "    d.index.names = ['scaled_purchase_freq']\n",
    "    return pd.melt(d, id_vars=['customerId'], value_name='scaled_purchase_freq').dropna()"
   ]
  },
  {
   "cell_type": "code",
   "execution_count": 15,
   "metadata": {},
   "outputs": [
    {
     "name": "stdout",
     "output_type": "stream",
     "text": [
      "((106868, 3), (26717, 3))\n"
     ]
    }
   ],
   "source": [
    "train, test = train_test_split(data, test_size = .2)\n",
    "print(train.shape, test.shape)"
   ]
  },
  {
   "cell_type": "code",
   "execution_count": 16,
   "metadata": {},
   "outputs": [],
   "source": [
    "# Using turicreate library, we convert dataframe to SFrame - this will be useful in the modeling part\n",
    "\n",
    "train_data = tc.SFrame(train)\n",
    "test_data = tc.SFrame(test)"
   ]
  },
  {
   "cell_type": "code",
   "execution_count": 17,
   "metadata": {},
   "outputs": [
    {
     "data": {
      "text/html": [
       "<div style=\"max-height:1000px;max-width:1500px;overflow:auto;\"><table frame=\"box\" rules=\"cols\">\n",
       "    <tr>\n",
       "        <th style=\"padding-left: 1em; padding-right: 1em; text-align: center\">customerId</th>\n",
       "        <th style=\"padding-left: 1em; padding-right: 1em; text-align: center\">productId</th>\n",
       "        <th style=\"padding-left: 1em; padding-right: 1em; text-align: center\">purchase_count</th>\n",
       "    </tr>\n",
       "    <tr>\n",
       "        <td style=\"padding-left: 1em; padding-right: 1em; text-align: center; vertical-align: top\">16380</td>\n",
       "        <td style=\"padding-left: 1em; padding-right: 1em; text-align: center; vertical-align: top\">193</td>\n",
       "        <td style=\"padding-left: 1em; padding-right: 1em; text-align: center; vertical-align: top\">1</td>\n",
       "    </tr>\n",
       "    <tr>\n",
       "        <td style=\"padding-left: 1em; padding-right: 1em; text-align: center; vertical-align: top\">11494</td>\n",
       "        <td style=\"padding-left: 1em; padding-right: 1em; text-align: center; vertical-align: top\">153</td>\n",
       "        <td style=\"padding-left: 1em; padding-right: 1em; text-align: center; vertical-align: top\">1</td>\n",
       "    </tr>\n",
       "    <tr>\n",
       "        <td style=\"padding-left: 1em; padding-right: 1em; text-align: center; vertical-align: top\">14779</td>\n",
       "        <td style=\"padding-left: 1em; padding-right: 1em; text-align: center; vertical-align: top\">137</td>\n",
       "        <td style=\"padding-left: 1em; padding-right: 1em; text-align: center; vertical-align: top\">1</td>\n",
       "    </tr>\n",
       "    <tr>\n",
       "        <td style=\"padding-left: 1em; padding-right: 1em; text-align: center; vertical-align: top\">306</td>\n",
       "        <td style=\"padding-left: 1em; padding-right: 1em; text-align: center; vertical-align: top\">146</td>\n",
       "        <td style=\"padding-left: 1em; padding-right: 1em; text-align: center; vertical-align: top\">1</td>\n",
       "    </tr>\n",
       "    <tr>\n",
       "        <td style=\"padding-left: 1em; padding-right: 1em; text-align: center; vertical-align: top\">22196</td>\n",
       "        <td style=\"padding-left: 1em; padding-right: 1em; text-align: center; vertical-align: top\">52</td>\n",
       "        <td style=\"padding-left: 1em; padding-right: 1em; text-align: center; vertical-align: top\">2</td>\n",
       "    </tr>\n",
       "    <tr>\n",
       "        <td style=\"padding-left: 1em; padding-right: 1em; text-align: center; vertical-align: top\">18484</td>\n",
       "        <td style=\"padding-left: 1em; padding-right: 1em; text-align: center; vertical-align: top\">127</td>\n",
       "        <td style=\"padding-left: 1em; padding-right: 1em; text-align: center; vertical-align: top\">2</td>\n",
       "    </tr>\n",
       "    <tr>\n",
       "        <td style=\"padding-left: 1em; padding-right: 1em; text-align: center; vertical-align: top\">16739</td>\n",
       "        <td style=\"padding-left: 1em; padding-right: 1em; text-align: center; vertical-align: top\">47</td>\n",
       "        <td style=\"padding-left: 1em; padding-right: 1em; text-align: center; vertical-align: top\">1</td>\n",
       "    </tr>\n",
       "    <tr>\n",
       "        <td style=\"padding-left: 1em; padding-right: 1em; text-align: center; vertical-align: top\">11559</td>\n",
       "        <td style=\"padding-left: 1em; padding-right: 1em; text-align: center; vertical-align: top\">44</td>\n",
       "        <td style=\"padding-left: 1em; padding-right: 1em; text-align: center; vertical-align: top\">2</td>\n",
       "    </tr>\n",
       "    <tr>\n",
       "        <td style=\"padding-left: 1em; padding-right: 1em; text-align: center; vertical-align: top\">13947</td>\n",
       "        <td style=\"padding-left: 1em; padding-right: 1em; text-align: center; vertical-align: top\">60</td>\n",
       "        <td style=\"padding-left: 1em; padding-right: 1em; text-align: center; vertical-align: top\">3</td>\n",
       "    </tr>\n",
       "    <tr>\n",
       "        <td style=\"padding-left: 1em; padding-right: 1em; text-align: center; vertical-align: top\">6706</td>\n",
       "        <td style=\"padding-left: 1em; padding-right: 1em; text-align: center; vertical-align: top\">45</td>\n",
       "        <td style=\"padding-left: 1em; padding-right: 1em; text-align: center; vertical-align: top\">1</td>\n",
       "    </tr>\n",
       "</table>\n",
       "[106868 rows x 3 columns]<br/>Note: Only the head of the SFrame is printed.<br/>You can use print_rows(num_rows=m, num_columns=n) to print more rows and columns.\n",
       "</div>"
      ],
      "text/plain": [
       "Columns:\n",
       "\tcustomerId\tint\n",
       "\tproductId\tint\n",
       "\tpurchase_count\tint\n",
       "\n",
       "Rows: 106868\n",
       "\n",
       "Data:\n",
       "+------------+-----------+----------------+\n",
       "| customerId | productId | purchase_count |\n",
       "+------------+-----------+----------------+\n",
       "|   16380    |    193    |       1        |\n",
       "|   11494    |    153    |       1        |\n",
       "|   14779    |    137    |       1        |\n",
       "|    306     |    146    |       1        |\n",
       "|   22196    |     52    |       2        |\n",
       "|   18484    |    127    |       2        |\n",
       "|   16739    |     47    |       1        |\n",
       "|   11559    |     44    |       2        |\n",
       "|   13947    |     60    |       3        |\n",
       "|    6706    |     45    |       1        |\n",
       "+------------+-----------+----------------+\n",
       "[106868 rows x 3 columns]\n",
       "Note: Only the head of the SFrame is printed.\n",
       "You can use print_rows(num_rows=m, num_columns=n) to print more rows and columns."
      ]
     },
     "execution_count": 17,
     "metadata": {},
     "output_type": "execute_result"
    }
   ],
   "source": [
    "train_data"
   ]
  },
  {
   "cell_type": "code",
   "execution_count": 18,
   "metadata": {},
   "outputs": [
    {
     "data": {
      "text/html": [
       "<div style=\"max-height:1000px;max-width:1500px;overflow:auto;\"><table frame=\"box\" rules=\"cols\">\n",
       "    <tr>\n",
       "        <th style=\"padding-left: 1em; padding-right: 1em; text-align: center\">customerId</th>\n",
       "        <th style=\"padding-left: 1em; padding-right: 1em; text-align: center\">productId</th>\n",
       "        <th style=\"padding-left: 1em; padding-right: 1em; text-align: center\">purchase_count</th>\n",
       "    </tr>\n",
       "    <tr>\n",
       "        <td style=\"padding-left: 1em; padding-right: 1em; text-align: center; vertical-align: top\">756</td>\n",
       "        <td style=\"padding-left: 1em; padding-right: 1em; text-align: center; vertical-align: top\">291</td>\n",
       "        <td style=\"padding-left: 1em; padding-right: 1em; text-align: center; vertical-align: top\">1</td>\n",
       "    </tr>\n",
       "    <tr>\n",
       "        <td style=\"padding-left: 1em; padding-right: 1em; text-align: center; vertical-align: top\">16653</td>\n",
       "        <td style=\"padding-left: 1em; padding-right: 1em; text-align: center; vertical-align: top\">211</td>\n",
       "        <td style=\"padding-left: 1em; padding-right: 1em; text-align: center; vertical-align: top\">1</td>\n",
       "    </tr>\n",
       "    <tr>\n",
       "        <td style=\"padding-left: 1em; padding-right: 1em; text-align: center; vertical-align: top\">11802</td>\n",
       "        <td style=\"padding-left: 1em; padding-right: 1em; text-align: center; vertical-align: top\">236</td>\n",
       "        <td style=\"padding-left: 1em; padding-right: 1em; text-align: center; vertical-align: top\">2</td>\n",
       "    </tr>\n",
       "    <tr>\n",
       "        <td style=\"padding-left: 1em; padding-right: 1em; text-align: center; vertical-align: top\">3140</td>\n",
       "        <td style=\"padding-left: 1em; padding-right: 1em; text-align: center; vertical-align: top\">20</td>\n",
       "        <td style=\"padding-left: 1em; padding-right: 1em; text-align: center; vertical-align: top\">1</td>\n",
       "    </tr>\n",
       "    <tr>\n",
       "        <td style=\"padding-left: 1em; padding-right: 1em; text-align: center; vertical-align: top\">9808</td>\n",
       "        <td style=\"padding-left: 1em; padding-right: 1em; text-align: center; vertical-align: top\">245</td>\n",
       "        <td style=\"padding-left: 1em; padding-right: 1em; text-align: center; vertical-align: top\">2</td>\n",
       "    </tr>\n",
       "    <tr>\n",
       "        <td style=\"padding-left: 1em; padding-right: 1em; text-align: center; vertical-align: top\">4230</td>\n",
       "        <td style=\"padding-left: 1em; padding-right: 1em; text-align: center; vertical-align: top\">230</td>\n",
       "        <td style=\"padding-left: 1em; padding-right: 1em; text-align: center; vertical-align: top\">1</td>\n",
       "    </tr>\n",
       "    <tr>\n",
       "        <td style=\"padding-left: 1em; padding-right: 1em; text-align: center; vertical-align: top\">3816</td>\n",
       "        <td style=\"padding-left: 1em; padding-right: 1em; text-align: center; vertical-align: top\">17</td>\n",
       "        <td style=\"padding-left: 1em; padding-right: 1em; text-align: center; vertical-align: top\">2</td>\n",
       "    </tr>\n",
       "    <tr>\n",
       "        <td style=\"padding-left: 1em; padding-right: 1em; text-align: center; vertical-align: top\">13880</td>\n",
       "        <td style=\"padding-left: 1em; padding-right: 1em; text-align: center; vertical-align: top\">9</td>\n",
       "        <td style=\"padding-left: 1em; padding-right: 1em; text-align: center; vertical-align: top\">2</td>\n",
       "    </tr>\n",
       "    <tr>\n",
       "        <td style=\"padding-left: 1em; padding-right: 1em; text-align: center; vertical-align: top\">5269</td>\n",
       "        <td style=\"padding-left: 1em; padding-right: 1em; text-align: center; vertical-align: top\">194</td>\n",
       "        <td style=\"padding-left: 1em; padding-right: 1em; text-align: center; vertical-align: top\">1</td>\n",
       "    </tr>\n",
       "    <tr>\n",
       "        <td style=\"padding-left: 1em; padding-right: 1em; text-align: center; vertical-align: top\">22386</td>\n",
       "        <td style=\"padding-left: 1em; padding-right: 1em; text-align: center; vertical-align: top\">49</td>\n",
       "        <td style=\"padding-left: 1em; padding-right: 1em; text-align: center; vertical-align: top\">1</td>\n",
       "    </tr>\n",
       "</table>\n",
       "[26717 rows x 3 columns]<br/>Note: Only the head of the SFrame is printed.<br/>You can use print_rows(num_rows=m, num_columns=n) to print more rows and columns.\n",
       "</div>"
      ],
      "text/plain": [
       "Columns:\n",
       "\tcustomerId\tint\n",
       "\tproductId\tint\n",
       "\tpurchase_count\tint\n",
       "\n",
       "Rows: 26717\n",
       "\n",
       "Data:\n",
       "+------------+-----------+----------------+\n",
       "| customerId | productId | purchase_count |\n",
       "+------------+-----------+----------------+\n",
       "|    756     |    291    |       1        |\n",
       "|   16653    |    211    |       1        |\n",
       "|   11802    |    236    |       2        |\n",
       "|    3140    |     20    |       1        |\n",
       "|    9808    |    245    |       2        |\n",
       "|    4230    |    230    |       1        |\n",
       "|    3816    |     17    |       2        |\n",
       "|   13880    |     9     |       2        |\n",
       "|    5269    |    194    |       1        |\n",
       "|   22386    |     49    |       1        |\n",
       "+------------+-----------+----------------+\n",
       "[26717 rows x 3 columns]\n",
       "Note: Only the head of the SFrame is printed.\n",
       "You can use print_rows(num_rows=m, num_columns=n) to print more rows and columns."
      ]
     },
     "execution_count": 18,
     "metadata": {},
     "output_type": "execute_result"
    }
   ],
   "source": [
    "test_data"
   ]
  },
  {
   "cell_type": "code",
   "execution_count": 19,
   "metadata": {},
   "outputs": [],
   "source": [
    "# We can define a function for this step as follows\n",
    "\n",
    "def split_data(data):\n",
    "    '''\n",
    "    Splits dataset into training and test set.\n",
    "    \n",
    "    Args:\n",
    "        data (pandas.DataFrame)\n",
    "        \n",
    "    Returns\n",
    "        train_data (tc.SFrame)\n",
    "        test_data (tc.SFrame)\n",
    "    '''\n",
    "    train, test = train_test_split(data, test_size = .2)\n",
    "    train_data = tc.SFrame(train)\n",
    "    test_data = tc.SFrame(test)\n",
    "    return train_data, test_data"
   ]
  },
  {
   "cell_type": "code",
   "execution_count": 20,
   "metadata": {},
   "outputs": [],
   "source": [
    "# lets try with both dummy table and scaled/normalized purchase table\n",
    "\n",
    "train_data_dummy, test_data_dummy = split_data(data_dummy)\n",
    "train_data_norm, test_data_norm = split_data(data_norm)"
   ]
  },
  {
   "cell_type": "code",
   "execution_count": 21,
   "metadata": {},
   "outputs": [],
   "source": [
    "# variables to define field names\n",
    "user_id = 'customerId'\n",
    "item_id = 'productId'\n",
    "target = 'purchase_count'\n",
    "users_to_recommend = list(transactions[user_id])\n",
    "n_rec = 10 # number of items to recommend\n",
    "n_display = 30"
   ]
  },
  {
   "cell_type": "code",
   "execution_count": 22,
   "metadata": {},
   "outputs": [
    {
     "data": {
      "text/html": [
       "<pre>Preparing data set.</pre>"
      ],
      "text/plain": [
       "Preparing data set."
      ]
     },
     "metadata": {},
     "output_type": "display_data"
    },
    {
     "data": {
      "text/html": [
       "<pre>    Data has 106868 observations with 23311 users and 300 items.</pre>"
      ],
      "text/plain": [
       "    Data has 106868 observations with 23311 users and 300 items."
      ]
     },
     "metadata": {},
     "output_type": "display_data"
    },
    {
     "data": {
      "text/html": [
       "<pre>    Data prepared in: 0.062606s</pre>"
      ],
      "text/plain": [
       "    Data prepared in: 0.062606s"
      ]
     },
     "metadata": {},
     "output_type": "display_data"
    },
    {
     "data": {
      "text/html": [
       "<pre>106868 observations to process; with 300 unique items.</pre>"
      ],
      "text/plain": [
       "106868 observations to process; with 300 unique items."
      ]
     },
     "metadata": {},
     "output_type": "display_data"
    }
   ],
   "source": [
    "popularity_model = tc.popularity_recommender.create(train_data, \n",
    "                                                    user_id=user_id, \n",
    "                                                    item_id=item_id, \n",
    "                                                    target=target)"
   ]
  },
  {
   "cell_type": "code",
   "execution_count": 23,
   "metadata": {},
   "outputs": [
    {
     "data": {
      "text/html": [
       "<pre>recommendations finished on 1000/62483 queries. users per second: 270270</pre>"
      ],
      "text/plain": [
       "recommendations finished on 1000/62483 queries. users per second: 270270"
      ]
     },
     "metadata": {},
     "output_type": "display_data"
    },
    {
     "data": {
      "text/html": [
       "<pre>recommendations finished on 2000/62483 queries. users per second: 228024</pre>"
      ],
      "text/plain": [
       "recommendations finished on 2000/62483 queries. users per second: 228024"
      ]
     },
     "metadata": {},
     "output_type": "display_data"
    },
    {
     "data": {
      "text/html": [
       "<pre>recommendations finished on 3000/62483 queries. users per second: 277804</pre>"
      ],
      "text/plain": [
       "recommendations finished on 3000/62483 queries. users per second: 277804"
      ]
     },
     "metadata": {},
     "output_type": "display_data"
    },
    {
     "data": {
      "text/html": [
       "<pre>recommendations finished on 4000/62483 queries. users per second: 309693</pre>"
      ],
      "text/plain": [
       "recommendations finished on 4000/62483 queries. users per second: 309693"
      ]
     },
     "metadata": {},
     "output_type": "display_data"
    },
    {
     "data": {
      "text/html": [
       "<pre>recommendations finished on 5000/62483 queries. users per second: 328709</pre>"
      ],
      "text/plain": [
       "recommendations finished on 5000/62483 queries. users per second: 328709"
      ]
     },
     "metadata": {},
     "output_type": "display_data"
    },
    {
     "data": {
      "text/html": [
       "<pre>recommendations finished on 6000/62483 queries. users per second: 353253</pre>"
      ],
      "text/plain": [
       "recommendations finished on 6000/62483 queries. users per second: 353253"
      ]
     },
     "metadata": {},
     "output_type": "display_data"
    },
    {
     "data": {
      "text/html": [
       "<pre>recommendations finished on 7000/62483 queries. users per second: 358735</pre>"
      ],
      "text/plain": [
       "recommendations finished on 7000/62483 queries. users per second: 358735"
      ]
     },
     "metadata": {},
     "output_type": "display_data"
    },
    {
     "data": {
      "text/html": [
       "<pre>recommendations finished on 8000/62483 queries. users per second: 372353</pre>"
      ],
      "text/plain": [
       "recommendations finished on 8000/62483 queries. users per second: 372353"
      ]
     },
     "metadata": {},
     "output_type": "display_data"
    },
    {
     "data": {
      "text/html": [
       "<pre>recommendations finished on 9000/62483 queries. users per second: 384698</pre>"
      ],
      "text/plain": [
       "recommendations finished on 9000/62483 queries. users per second: 384698"
      ]
     },
     "metadata": {},
     "output_type": "display_data"
    },
    {
     "data": {
      "text/html": [
       "<pre>recommendations finished on 10000/62483 queries. users per second: 395836</pre>"
      ],
      "text/plain": [
       "recommendations finished on 10000/62483 queries. users per second: 395836"
      ]
     },
     "metadata": {},
     "output_type": "display_data"
    },
    {
     "data": {
      "text/html": [
       "<pre>recommendations finished on 11000/62483 queries. users per second: 402960</pre>"
      ],
      "text/plain": [
       "recommendations finished on 11000/62483 queries. users per second: 402960"
      ]
     },
     "metadata": {},
     "output_type": "display_data"
    },
    {
     "data": {
      "text/html": [
       "<pre>recommendations finished on 12000/62483 queries. users per second: 411367</pre>"
      ],
      "text/plain": [
       "recommendations finished on 12000/62483 queries. users per second: 411367"
      ]
     },
     "metadata": {},
     "output_type": "display_data"
    },
    {
     "data": {
      "text/html": [
       "<pre>recommendations finished on 13000/62483 queries. users per second: 418168</pre>"
      ],
      "text/plain": [
       "recommendations finished on 13000/62483 queries. users per second: 418168"
      ]
     },
     "metadata": {},
     "output_type": "display_data"
    },
    {
     "data": {
      "text/html": [
       "<pre>recommendations finished on 14000/62483 queries. users per second: 425351</pre>"
      ],
      "text/plain": [
       "recommendations finished on 14000/62483 queries. users per second: 425351"
      ]
     },
     "metadata": {},
     "output_type": "display_data"
    },
    {
     "data": {
      "text/html": [
       "<pre>recommendations finished on 15000/62483 queries. users per second: 433251</pre>"
      ],
      "text/plain": [
       "recommendations finished on 15000/62483 queries. users per second: 433251"
      ]
     },
     "metadata": {},
     "output_type": "display_data"
    },
    {
     "data": {
      "text/html": [
       "<pre>recommendations finished on 16000/62483 queries. users per second: 437135</pre>"
      ],
      "text/plain": [
       "recommendations finished on 16000/62483 queries. users per second: 437135"
      ]
     },
     "metadata": {},
     "output_type": "display_data"
    },
    {
     "data": {
      "text/html": [
       "<pre>recommendations finished on 17000/62483 queries. users per second: 441123</pre>"
      ],
      "text/plain": [
       "recommendations finished on 17000/62483 queries. users per second: 441123"
      ]
     },
     "metadata": {},
     "output_type": "display_data"
    },
    {
     "data": {
      "text/html": [
       "<pre>recommendations finished on 18000/62483 queries. users per second: 444653</pre>"
      ],
      "text/plain": [
       "recommendations finished on 18000/62483 queries. users per second: 444653"
      ]
     },
     "metadata": {},
     "output_type": "display_data"
    },
    {
     "data": {
      "text/html": [
       "<pre>recommendations finished on 19000/62483 queries. users per second: 446083</pre>"
      ],
      "text/plain": [
       "recommendations finished on 19000/62483 queries. users per second: 446083"
      ]
     },
     "metadata": {},
     "output_type": "display_data"
    },
    {
     "data": {
      "text/html": [
       "<pre>recommendations finished on 20000/62483 queries. users per second: 444998</pre>"
      ],
      "text/plain": [
       "recommendations finished on 20000/62483 queries. users per second: 444998"
      ]
     },
     "metadata": {},
     "output_type": "display_data"
    },
    {
     "data": {
      "text/html": [
       "<pre>recommendations finished on 21000/62483 queries. users per second: 446087</pre>"
      ],
      "text/plain": [
       "recommendations finished on 21000/62483 queries. users per second: 446087"
      ]
     },
     "metadata": {},
     "output_type": "display_data"
    },
    {
     "data": {
      "text/html": [
       "<pre>recommendations finished on 22000/62483 queries. users per second: 448385</pre>"
      ],
      "text/plain": [
       "recommendations finished on 22000/62483 queries. users per second: 448385"
      ]
     },
     "metadata": {},
     "output_type": "display_data"
    },
    {
     "data": {
      "text/html": [
       "<pre>recommendations finished on 23000/62483 queries. users per second: 451724</pre>"
      ],
      "text/plain": [
       "recommendations finished on 23000/62483 queries. users per second: 451724"
      ]
     },
     "metadata": {},
     "output_type": "display_data"
    },
    {
     "data": {
      "text/html": [
       "<pre>recommendations finished on 24000/62483 queries. users per second: 451875</pre>"
      ],
      "text/plain": [
       "recommendations finished on 24000/62483 queries. users per second: 451875"
      ]
     },
     "metadata": {},
     "output_type": "display_data"
    },
    {
     "data": {
      "text/html": [
       "<pre>recommendations finished on 25000/62483 queries. users per second: 453721</pre>"
      ],
      "text/plain": [
       "recommendations finished on 25000/62483 queries. users per second: 453721"
      ]
     },
     "metadata": {},
     "output_type": "display_data"
    },
    {
     "data": {
      "text/html": [
       "<pre>recommendations finished on 26000/62483 queries. users per second: 456902</pre>"
      ],
      "text/plain": [
       "recommendations finished on 26000/62483 queries. users per second: 456902"
      ]
     },
     "metadata": {},
     "output_type": "display_data"
    },
    {
     "data": {
      "text/html": [
       "<pre>recommendations finished on 27000/62483 queries. users per second: 457736</pre>"
      ],
      "text/plain": [
       "recommendations finished on 27000/62483 queries. users per second: 457736"
      ]
     },
     "metadata": {},
     "output_type": "display_data"
    },
    {
     "data": {
      "text/html": [
       "<pre>recommendations finished on 28000/62483 queries. users per second: 456048</pre>"
      ],
      "text/plain": [
       "recommendations finished on 28000/62483 queries. users per second: 456048"
      ]
     },
     "metadata": {},
     "output_type": "display_data"
    },
    {
     "data": {
      "text/html": [
       "<pre>recommendations finished on 29000/62483 queries. users per second: 458346</pre>"
      ],
      "text/plain": [
       "recommendations finished on 29000/62483 queries. users per second: 458346"
      ]
     },
     "metadata": {},
     "output_type": "display_data"
    },
    {
     "data": {
      "text/html": [
       "<pre>recommendations finished on 30000/62483 queries. users per second: 452250</pre>"
      ],
      "text/plain": [
       "recommendations finished on 30000/62483 queries. users per second: 452250"
      ]
     },
     "metadata": {},
     "output_type": "display_data"
    },
    {
     "data": {
      "text/html": [
       "<pre>recommendations finished on 31000/62483 queries. users per second: 450091</pre>"
      ],
      "text/plain": [
       "recommendations finished on 31000/62483 queries. users per second: 450091"
      ]
     },
     "metadata": {},
     "output_type": "display_data"
    },
    {
     "data": {
      "text/html": [
       "<pre>recommendations finished on 32000/62483 queries. users per second: 451748</pre>"
      ],
      "text/plain": [
       "recommendations finished on 32000/62483 queries. users per second: 451748"
      ]
     },
     "metadata": {},
     "output_type": "display_data"
    },
    {
     "data": {
      "text/html": [
       "<pre>recommendations finished on 33000/62483 queries. users per second: 454439</pre>"
      ],
      "text/plain": [
       "recommendations finished on 33000/62483 queries. users per second: 454439"
      ]
     },
     "metadata": {},
     "output_type": "display_data"
    },
    {
     "data": {
      "text/html": [
       "<pre>recommendations finished on 34000/62483 queries. users per second: 456928</pre>"
      ],
      "text/plain": [
       "recommendations finished on 34000/62483 queries. users per second: 456928"
      ]
     },
     "metadata": {},
     "output_type": "display_data"
    },
    {
     "data": {
      "text/html": [
       "<pre>recommendations finished on 35000/62483 queries. users per second: 458619</pre>"
      ],
      "text/plain": [
       "recommendations finished on 35000/62483 queries. users per second: 458619"
      ]
     },
     "metadata": {},
     "output_type": "display_data"
    },
    {
     "data": {
      "text/html": [
       "<pre>recommendations finished on 36000/62483 queries. users per second: 460193</pre>"
      ],
      "text/plain": [
       "recommendations finished on 36000/62483 queries. users per second: 460193"
      ]
     },
     "metadata": {},
     "output_type": "display_data"
    },
    {
     "data": {
      "text/html": [
       "<pre>recommendations finished on 37000/62483 queries. users per second: 462743</pre>"
      ],
      "text/plain": [
       "recommendations finished on 37000/62483 queries. users per second: 462743"
      ]
     },
     "metadata": {},
     "output_type": "display_data"
    },
    {
     "data": {
      "text/html": [
       "<pre>recommendations finished on 38000/62483 queries. users per second: 465549</pre>"
      ],
      "text/plain": [
       "recommendations finished on 38000/62483 queries. users per second: 465549"
      ]
     },
     "metadata": {},
     "output_type": "display_data"
    },
    {
     "data": {
      "text/html": [
       "<pre>recommendations finished on 39000/62483 queries. users per second: 468362</pre>"
      ],
      "text/plain": [
       "recommendations finished on 39000/62483 queries. users per second: 468362"
      ]
     },
     "metadata": {},
     "output_type": "display_data"
    },
    {
     "data": {
      "text/html": [
       "<pre>recommendations finished on 40000/62483 queries. users per second: 462177</pre>"
      ],
      "text/plain": [
       "recommendations finished on 40000/62483 queries. users per second: 462177"
      ]
     },
     "metadata": {},
     "output_type": "display_data"
    },
    {
     "data": {
      "text/html": [
       "<pre>recommendations finished on 41000/62483 queries. users per second: 460581</pre>"
      ],
      "text/plain": [
       "recommendations finished on 41000/62483 queries. users per second: 460581"
      ]
     },
     "metadata": {},
     "output_type": "display_data"
    },
    {
     "data": {
      "text/html": [
       "<pre>recommendations finished on 42000/62483 queries. users per second: 457731</pre>"
      ],
      "text/plain": [
       "recommendations finished on 42000/62483 queries. users per second: 457731"
      ]
     },
     "metadata": {},
     "output_type": "display_data"
    },
    {
     "name": "stdout",
     "output_type": "stream",
     "text": [
      "+------------+-----------+---------------+------+\n",
      "| customerId | productId |     score     | rank |\n",
      "+------------+-----------+---------------+------+\n",
      "|     0      |    132    | 3.06666666667 |  1   |\n",
      "|     0      |     34    | 3.01581027668 |  2   |\n",
      "|     0      |     37    | 2.97674418605 |  3   |\n",
      "|     0      |     0     | 2.95242718447 |  4   |\n",
      "|     0      |     3     | 2.86344537815 |  5   |\n",
      "|     0      |    248    | 2.84090909091 |  6   |\n",
      "|     0      |     27    | 2.77419354839 |  7   |\n",
      "|     0      |    245    | 2.69736842105 |  8   |\n",
      "|     0      |    110    | 2.68421052632 |  9   |\n",
      "|     0      |     32    | 2.67961165049 |  10  |\n",
      "|     1      |    132    | 3.06666666667 |  1   |\n",
      "|     1      |     34    | 3.01581027668 |  2   |\n",
      "|     1      |     37    | 2.97674418605 |  3   |\n",
      "|     1      |     0     | 2.95242718447 |  4   |\n",
      "|     1      |     3     | 2.86344537815 |  5   |\n",
      "|     1      |    248    | 2.84090909091 |  6   |\n",
      "|     1      |     27    | 2.77419354839 |  7   |\n",
      "|     1      |    245    | 2.69736842105 |  8   |\n",
      "|     1      |    110    | 2.68421052632 |  9   |\n",
      "|     1      |     32    | 2.67961165049 |  10  |\n",
      "|     2      |    132    | 3.06666666667 |  1   |\n",
      "|     2      |     34    | 3.01581027668 |  2   |\n",
      "|     2      |     37    | 2.97674418605 |  3   |\n",
      "|     2      |     0     | 2.95242718447 |  4   |\n",
      "|     2      |     3     | 2.86344537815 |  5   |\n",
      "|     2      |    248    | 2.84090909091 |  6   |\n",
      "|     2      |     27    | 2.77419354839 |  7   |\n",
      "|     2      |    245    | 2.69736842105 |  8   |\n",
      "|     2      |    110    | 2.68421052632 |  9   |\n",
      "|     2      |     32    | 2.67961165049 |  10  |\n",
      "+------------+-----------+---------------+------+\n",
      "[624830 rows x 4 columns]\n",
      "\n"
     ]
    },
    {
     "data": {
      "text/html": [
       "<pre>recommendations finished on 43000/62483 queries. users per second: 458232</pre>"
      ],
      "text/plain": [
       "recommendations finished on 43000/62483 queries. users per second: 458232"
      ]
     },
     "metadata": {},
     "output_type": "display_data"
    },
    {
     "data": {
      "text/html": [
       "<pre>recommendations finished on 44000/62483 queries. users per second: 452964</pre>"
      ],
      "text/plain": [
       "recommendations finished on 44000/62483 queries. users per second: 452964"
      ]
     },
     "metadata": {},
     "output_type": "display_data"
    },
    {
     "data": {
      "text/html": [
       "<pre>recommendations finished on 45000/62483 queries. users per second: 454064</pre>"
      ],
      "text/plain": [
       "recommendations finished on 45000/62483 queries. users per second: 454064"
      ]
     },
     "metadata": {},
     "output_type": "display_data"
    },
    {
     "data": {
      "text/html": [
       "<pre>recommendations finished on 46000/62483 queries. users per second: 455040</pre>"
      ],
      "text/plain": [
       "recommendations finished on 46000/62483 queries. users per second: 455040"
      ]
     },
     "metadata": {},
     "output_type": "display_data"
    },
    {
     "data": {
      "text/html": [
       "<pre>recommendations finished on 47000/62483 queries. users per second: 456010</pre>"
      ],
      "text/plain": [
       "recommendations finished on 47000/62483 queries. users per second: 456010"
      ]
     },
     "metadata": {},
     "output_type": "display_data"
    },
    {
     "data": {
      "text/html": [
       "<pre>recommendations finished on 48000/62483 queries. users per second: 457304</pre>"
      ],
      "text/plain": [
       "recommendations finished on 48000/62483 queries. users per second: 457304"
      ]
     },
     "metadata": {},
     "output_type": "display_data"
    },
    {
     "data": {
      "text/html": [
       "<pre>recommendations finished on 49000/62483 queries. users per second: 455445</pre>"
      ],
      "text/plain": [
       "recommendations finished on 49000/62483 queries. users per second: 455445"
      ]
     },
     "metadata": {},
     "output_type": "display_data"
    },
    {
     "data": {
      "text/html": [
       "<pre>recommendations finished on 50000/62483 queries. users per second: 453585</pre>"
      ],
      "text/plain": [
       "recommendations finished on 50000/62483 queries. users per second: 453585"
      ]
     },
     "metadata": {},
     "output_type": "display_data"
    },
    {
     "data": {
      "text/html": [
       "<pre>recommendations finished on 51000/62483 queries. users per second: 447286</pre>"
      ],
      "text/plain": [
       "recommendations finished on 51000/62483 queries. users per second: 447286"
      ]
     },
     "metadata": {},
     "output_type": "display_data"
    },
    {
     "data": {
      "text/html": [
       "<pre>recommendations finished on 52000/62483 queries. users per second: 444456</pre>"
      ],
      "text/plain": [
       "recommendations finished on 52000/62483 queries. users per second: 444456"
      ]
     },
     "metadata": {},
     "output_type": "display_data"
    },
    {
     "data": {
      "text/html": [
       "<pre>recommendations finished on 53000/62483 queries. users per second: 439087</pre>"
      ],
      "text/plain": [
       "recommendations finished on 53000/62483 queries. users per second: 439087"
      ]
     },
     "metadata": {},
     "output_type": "display_data"
    },
    {
     "data": {
      "text/html": [
       "<pre>recommendations finished on 54000/62483 queries. users per second: 430334</pre>"
      ],
      "text/plain": [
       "recommendations finished on 54000/62483 queries. users per second: 430334"
      ]
     },
     "metadata": {},
     "output_type": "display_data"
    },
    {
     "data": {
      "text/html": [
       "<pre>recommendations finished on 55000/62483 queries. users per second: 425578</pre>"
      ],
      "text/plain": [
       "recommendations finished on 55000/62483 queries. users per second: 425578"
      ]
     },
     "metadata": {},
     "output_type": "display_data"
    },
    {
     "data": {
      "text/html": [
       "<pre>recommendations finished on 56000/62483 queries. users per second: 424439</pre>"
      ],
      "text/plain": [
       "recommendations finished on 56000/62483 queries. users per second: 424439"
      ]
     },
     "metadata": {},
     "output_type": "display_data"
    },
    {
     "data": {
      "text/html": [
       "<pre>recommendations finished on 57000/62483 queries. users per second: 420863</pre>"
      ],
      "text/plain": [
       "recommendations finished on 57000/62483 queries. users per second: 420863"
      ]
     },
     "metadata": {},
     "output_type": "display_data"
    },
    {
     "data": {
      "text/html": [
       "<pre>recommendations finished on 58000/62483 queries. users per second: 416646</pre>"
      ],
      "text/plain": [
       "recommendations finished on 58000/62483 queries. users per second: 416646"
      ]
     },
     "metadata": {},
     "output_type": "display_data"
    },
    {
     "data": {
      "text/html": [
       "<pre>recommendations finished on 59000/62483 queries. users per second: 413099</pre>"
      ],
      "text/plain": [
       "recommendations finished on 59000/62483 queries. users per second: 413099"
      ]
     },
     "metadata": {},
     "output_type": "display_data"
    },
    {
     "data": {
      "text/html": [
       "<pre>recommendations finished on 60000/62483 queries. users per second: 408808</pre>"
      ],
      "text/plain": [
       "recommendations finished on 60000/62483 queries. users per second: 408808"
      ]
     },
     "metadata": {},
     "output_type": "display_data"
    },
    {
     "data": {
      "text/html": [
       "<pre>recommendations finished on 61000/62483 queries. users per second: 405461</pre>"
      ],
      "text/plain": [
       "recommendations finished on 61000/62483 queries. users per second: 405461"
      ]
     },
     "metadata": {},
     "output_type": "display_data"
    },
    {
     "data": {
      "text/html": [
       "<pre>recommendations finished on 62000/62483 queries. users per second: 401783</pre>"
      ],
      "text/plain": [
       "recommendations finished on 62000/62483 queries. users per second: 401783"
      ]
     },
     "metadata": {},
     "output_type": "display_data"
    }
   ],
   "source": [
    "# Get recommendations for a list of users to recommend (from customers file)\n",
    "# Printed below is head / top 30 rows for first 3 customers with 10 recommendations each\n",
    "\n",
    "popularity_recomm = popularity_model.recommend(users=users_to_recommend, k=n_rec)\n",
    "popularity_recomm.print_rows(n_display)"
   ]
  },
  {
   "cell_type": "code",
   "execution_count": 24,
   "metadata": {},
   "outputs": [],
   "source": [
    "# Since turicreate is very accessible library, we can define a model selection function as below\n",
    "\n",
    "def model(train_data, name, user_id, item_id, target, users_to_recommend, n_rec, n_display):\n",
    "    if name == 'popularity':\n",
    "        model = tc.popularity_recommender.create(train_data, \n",
    "                                                    user_id=user_id, \n",
    "                                                    item_id=item_id, \n",
    "                                                    target=target)\n",
    "    elif name == 'cosine':\n",
    "        model = tc.item_similarity_recommender.create(train_data, \n",
    "                                                    user_id=user_id, \n",
    "                                                    item_id=item_id, \n",
    "                                                    target=target, \n",
    "                                                    similarity_type='cosine')\n",
    "    elif name == 'pearson':\n",
    "        model = tc.item_similarity_recommender.create(train_data, \n",
    "                                                    user_id=user_id, \n",
    "                                                    item_id=item_id, \n",
    "                                                    target=target, \n",
    "                                                    similarity_type='pearson')\n",
    "        \n",
    "    recom = model.recommend(users=users_to_recommend, k=n_rec)\n",
    "    recom.print_rows(n_display)\n",
    "    return model"
   ]
  },
  {
   "cell_type": "code",
   "execution_count": 25,
   "metadata": {},
   "outputs": [],
   "source": [
    "# variables to define field names\n",
    "# constant variables include:\n",
    "user_id = 'customerId'\n",
    "item_id = 'productId'\n",
    "users_to_recommend = list(customers[user_id])\n",
    "n_rec = 10 # number of items to recommend\n",
    "n_display = 30 # to print the head / first few rows in a defined dataset"
   ]
  },
  {
   "cell_type": "code",
   "execution_count": 26,
   "metadata": {},
   "outputs": [
    {
     "data": {
      "text/html": [
       "<pre>Warning: Ignoring columns purchase_count;</pre>"
      ],
      "text/plain": [
       "Warning: Ignoring columns purchase_count;"
      ]
     },
     "metadata": {},
     "output_type": "display_data"
    },
    {
     "data": {
      "text/html": [
       "<pre>    To use these columns in scoring predictions, use a model that allows the use of additional features.</pre>"
      ],
      "text/plain": [
       "    To use these columns in scoring predictions, use a model that allows the use of additional features."
      ]
     },
     "metadata": {},
     "output_type": "display_data"
    },
    {
     "data": {
      "text/html": [
       "<pre>Preparing data set.</pre>"
      ],
      "text/plain": [
       "Preparing data set."
      ]
     },
     "metadata": {},
     "output_type": "display_data"
    },
    {
     "data": {
      "text/html": [
       "<pre>    Data has 106868 observations with 23317 users and 300 items.</pre>"
      ],
      "text/plain": [
       "    Data has 106868 observations with 23317 users and 300 items."
      ]
     },
     "metadata": {},
     "output_type": "display_data"
    },
    {
     "data": {
      "text/html": [
       "<pre>    Data prepared in: 0.064701s</pre>"
      ],
      "text/plain": [
       "    Data prepared in: 0.064701s"
      ]
     },
     "metadata": {},
     "output_type": "display_data"
    },
    {
     "data": {
      "text/html": [
       "<pre>106868 observations to process; with 300 unique items.</pre>"
      ],
      "text/plain": [
       "106868 observations to process; with 300 unique items."
      ]
     },
     "metadata": {},
     "output_type": "display_data"
    },
    {
     "data": {
      "text/html": [
       "<pre>recommendations finished on 1000/1000 queries. users per second: 121773</pre>"
      ],
      "text/plain": [
       "recommendations finished on 1000/1000 queries. users per second: 121773"
      ]
     },
     "metadata": {},
     "output_type": "display_data"
    },
    {
     "name": "stdout",
     "output_type": "stream",
     "text": [
      "+------------+-----------+-------+------+\n",
      "| customerId | productId | score | rank |\n",
      "+------------+-----------+-------+------+\n",
      "|    1553    |    123    |  1.0  |  1   |\n",
      "|    1553    |    235    |  1.0  |  2   |\n",
      "|    1553    |    159    |  1.0  |  3   |\n",
      "|    1553    |     35    |  1.0  |  4   |\n",
      "|    1553    |     76    |  1.0  |  5   |\n",
      "|    1553    |     11    |  1.0  |  6   |\n",
      "|    1553    |    202    |  1.0  |  7   |\n",
      "|    1553    |     20    |  1.0  |  8   |\n",
      "|    1553    |    107    |  1.0  |  9   |\n",
      "|    1553    |     55    |  1.0  |  10  |\n",
      "|   20400    |    123    |  1.0  |  1   |\n",
      "|   20400    |    235    |  1.0  |  2   |\n",
      "|   20400    |    159    |  1.0  |  3   |\n",
      "|   20400    |     35    |  1.0  |  4   |\n",
      "|   20400    |     76    |  1.0  |  5   |\n",
      "|   20400    |     11    |  1.0  |  6   |\n",
      "|   20400    |    202    |  1.0  |  7   |\n",
      "|   20400    |     20    |  1.0  |  8   |\n",
      "|   20400    |    107    |  1.0  |  9   |\n",
      "|   20400    |     55    |  1.0  |  10  |\n",
      "|   19750    |    123    |  1.0  |  1   |\n",
      "|   19750    |    235    |  1.0  |  2   |\n",
      "|   19750    |    159    |  1.0  |  3   |\n",
      "|   19750    |     35    |  1.0  |  4   |\n",
      "|   19750    |     76    |  1.0  |  5   |\n",
      "|   19750    |     11    |  1.0  |  6   |\n",
      "|   19750    |    202    |  1.0  |  7   |\n",
      "|   19750    |     20    |  1.0  |  8   |\n",
      "|   19750    |    107    |  1.0  |  9   |\n",
      "|   19750    |     55    |  1.0  |  10  |\n",
      "+------------+-----------+-------+------+\n",
      "[10000 rows x 4 columns]\n",
      "\n"
     ]
    }
   ],
   "source": [
    "# these variables will change accordingly\n",
    "name = 'popularity'\n",
    "target = 'purchase_dummy'\n",
    "pop_dummy = model(train_data_dummy, name, user_id, item_id, target, users_to_recommend, n_rec, n_display)"
   ]
  },
  {
   "cell_type": "code",
   "execution_count": 27,
   "metadata": {},
   "outputs": [
    {
     "data": {
      "text/html": [
       "<pre>Preparing data set.</pre>"
      ],
      "text/plain": [
       "Preparing data set."
      ]
     },
     "metadata": {},
     "output_type": "display_data"
    },
    {
     "data": {
      "text/html": [
       "<pre>    Data has 106868 observations with 23352 users and 300 items.</pre>"
      ],
      "text/plain": [
       "    Data has 106868 observations with 23352 users and 300 items."
      ]
     },
     "metadata": {},
     "output_type": "display_data"
    },
    {
     "data": {
      "text/html": [
       "<pre>    Data prepared in: 0.059488s</pre>"
      ],
      "text/plain": [
       "    Data prepared in: 0.059488s"
      ]
     },
     "metadata": {},
     "output_type": "display_data"
    },
    {
     "data": {
      "text/html": [
       "<pre>106868 observations to process; with 300 unique items.</pre>"
      ],
      "text/plain": [
       "106868 observations to process; with 300 unique items."
      ]
     },
     "metadata": {},
     "output_type": "display_data"
    },
    {
     "data": {
      "text/html": [
       "<pre>recommendations finished on 1000/1000 queries. users per second: 323102</pre>"
      ],
      "text/plain": [
       "recommendations finished on 1000/1000 queries. users per second: 323102"
      ]
     },
     "metadata": {},
     "output_type": "display_data"
    },
    {
     "name": "stdout",
     "output_type": "stream",
     "text": [
      "+------------+-----------+----------------+------+\n",
      "| customerId | productId |     score      | rank |\n",
      "+------------+-----------+----------------+------+\n",
      "|    1553    |    226    | 0.778911564626 |  1   |\n",
      "|    1553    |    247    | 0.328244274809 |  2   |\n",
      "|    1553    |    230    | 0.324444444444 |  3   |\n",
      "|    1553    |    125    | 0.266666666667 |  4   |\n",
      "|    1553    |    248    | 0.26329787234  |  5   |\n",
      "|    1553    |    294    |   0.2515625    |  6   |\n",
      "|    1553    |     72    | 0.231884057971 |  7   |\n",
      "|    1553    |    276    | 0.227112676056 |  8   |\n",
      "|    1553    |    165    | 0.223350253807 |  9   |\n",
      "|    1553    |     83    | 0.220238095238 |  10  |\n",
      "|   20400    |    226    | 0.778911564626 |  1   |\n",
      "|   20400    |    247    | 0.328244274809 |  2   |\n",
      "|   20400    |    230    | 0.324444444444 |  3   |\n",
      "|   20400    |    125    | 0.266666666667 |  4   |\n",
      "|   20400    |    248    | 0.26329787234  |  5   |\n",
      "|   20400    |    294    |   0.2515625    |  6   |\n",
      "|   20400    |     72    | 0.231884057971 |  7   |\n",
      "|   20400    |    276    | 0.227112676056 |  8   |\n",
      "|   20400    |    165    | 0.223350253807 |  9   |\n",
      "|   20400    |     83    | 0.220238095238 |  10  |\n",
      "|   19750    |    226    | 0.778911564626 |  1   |\n",
      "|   19750    |    230    | 0.324444444444 |  2   |\n",
      "|   19750    |    125    | 0.266666666667 |  3   |\n",
      "|   19750    |    248    | 0.26329787234  |  4   |\n",
      "|   19750    |    294    |   0.2515625    |  5   |\n",
      "|   19750    |     72    | 0.231884057971 |  6   |\n",
      "|   19750    |    276    | 0.227112676056 |  7   |\n",
      "|   19750    |    165    | 0.223350253807 |  8   |\n",
      "|   19750    |     83    | 0.220238095238 |  9   |\n",
      "|   19750    |    213    | 0.218500797448 |  10  |\n",
      "+------------+-----------+----------------+------+\n",
      "[10000 rows x 4 columns]\n",
      "\n"
     ]
    }
   ],
   "source": [
    "name = 'popularity'\n",
    "target = 'scaled_purchase_freq'\n",
    "pop_norm = model(train_data_norm, name, user_id, item_id, target, users_to_recommend, n_rec, n_display)"
   ]
  },
  {
   "cell_type": "code",
   "execution_count": 28,
   "metadata": {},
   "outputs": [
    {
     "data": {
      "text/plain": [
       "productId\n",
       "132    3.066667\n",
       "34     3.015810\n",
       "37     2.976744\n",
       "0      2.952427\n",
       "3      2.863445\n",
       "248    2.840909\n",
       "27     2.774194\n",
       "245    2.697368\n",
       "110    2.684211\n",
       "32     2.679612\n",
       "10     2.640118\n",
       "230    2.621429\n",
       "82     2.595556\n",
       "129    2.541899\n",
       "58     2.526882\n",
       "83     2.509434\n",
       "54     2.498233\n",
       "252    2.473684\n",
       "226    2.469388\n",
       "91     2.432653\n",
       "Name: purchase_count, dtype: float64"
      ]
     },
     "execution_count": 28,
     "metadata": {},
     "output_type": "execute_result"
    }
   ],
   "source": [
    "train.groupby(by=item_id)['purchase_count'].mean().sort_values(ascending=False).head(20)"
   ]
  },
  {
   "cell_type": "code",
   "execution_count": 29,
   "metadata": {},
   "outputs": [
    {
     "data": {
      "text/html": [
       "<pre>Preparing data set.</pre>"
      ],
      "text/plain": [
       "Preparing data set."
      ]
     },
     "metadata": {},
     "output_type": "display_data"
    },
    {
     "data": {
      "text/html": [
       "<pre>    Data has 106868 observations with 23311 users and 300 items.</pre>"
      ],
      "text/plain": [
       "    Data has 106868 observations with 23311 users and 300 items."
      ]
     },
     "metadata": {},
     "output_type": "display_data"
    },
    {
     "data": {
      "text/html": [
       "<pre>    Data prepared in: 0.069935s</pre>"
      ],
      "text/plain": [
       "    Data prepared in: 0.069935s"
      ]
     },
     "metadata": {},
     "output_type": "display_data"
    },
    {
     "data": {
      "text/html": [
       "<pre>Training model from provided data.</pre>"
      ],
      "text/plain": [
       "Training model from provided data."
      ]
     },
     "metadata": {},
     "output_type": "display_data"
    },
    {
     "data": {
      "text/html": [
       "<pre>Gathering per-item and per-user statistics.</pre>"
      ],
      "text/plain": [
       "Gathering per-item and per-user statistics."
      ]
     },
     "metadata": {},
     "output_type": "display_data"
    },
    {
     "data": {
      "text/html": [
       "<pre>+--------------------------------+------------+</pre>"
      ],
      "text/plain": [
       "+--------------------------------+------------+"
      ]
     },
     "metadata": {},
     "output_type": "display_data"
    },
    {
     "data": {
      "text/html": [
       "<pre>| Elapsed Time (Item Statistics) | % Complete |</pre>"
      ],
      "text/plain": [
       "| Elapsed Time (Item Statistics) | % Complete |"
      ]
     },
     "metadata": {},
     "output_type": "display_data"
    },
    {
     "data": {
      "text/html": [
       "<pre>+--------------------------------+------------+</pre>"
      ],
      "text/plain": [
       "+--------------------------------+------------+"
      ]
     },
     "metadata": {},
     "output_type": "display_data"
    },
    {
     "data": {
      "text/html": [
       "<pre>| 1.2ms                          | 4.25       |</pre>"
      ],
      "text/plain": [
       "| 1.2ms                          | 4.25       |"
      ]
     },
     "metadata": {},
     "output_type": "display_data"
    },
    {
     "data": {
      "text/html": [
       "<pre>| 9.013ms                        | 100        |</pre>"
      ],
      "text/plain": [
       "| 9.013ms                        | 100        |"
      ]
     },
     "metadata": {},
     "output_type": "display_data"
    },
    {
     "data": {
      "text/html": [
       "<pre>+--------------------------------+------------+</pre>"
      ],
      "text/plain": [
       "+--------------------------------+------------+"
      ]
     },
     "metadata": {},
     "output_type": "display_data"
    },
    {
     "data": {
      "text/html": [
       "<pre>Setting up lookup tables.</pre>"
      ],
      "text/plain": [
       "Setting up lookup tables."
      ]
     },
     "metadata": {},
     "output_type": "display_data"
    },
    {
     "data": {
      "text/html": [
       "<pre>Processing data in one pass using dense lookup tables.</pre>"
      ],
      "text/plain": [
       "Processing data in one pass using dense lookup tables."
      ]
     },
     "metadata": {},
     "output_type": "display_data"
    },
    {
     "data": {
      "text/html": [
       "<pre>+-------------------------------------+------------------+-----------------+</pre>"
      ],
      "text/plain": [
       "+-------------------------------------+------------------+-----------------+"
      ]
     },
     "metadata": {},
     "output_type": "display_data"
    },
    {
     "data": {
      "text/html": [
       "<pre>| Elapsed Time (Constructing Lookups) | Total % Complete | Items Processed |</pre>"
      ],
      "text/plain": [
       "| Elapsed Time (Constructing Lookups) | Total % Complete | Items Processed |"
      ]
     },
     "metadata": {},
     "output_type": "display_data"
    },
    {
     "data": {
      "text/html": [
       "<pre>+-------------------------------------+------------------+-----------------+</pre>"
      ],
      "text/plain": [
       "+-------------------------------------+------------------+-----------------+"
      ]
     },
     "metadata": {},
     "output_type": "display_data"
    },
    {
     "data": {
      "text/html": [
       "<pre>| 10.135ms                            | 0                | 0               |</pre>"
      ],
      "text/plain": [
       "| 10.135ms                            | 0                | 0               |"
      ]
     },
     "metadata": {},
     "output_type": "display_data"
    },
    {
     "data": {
      "text/html": [
       "<pre>| 38.56ms                             | 100              | 300             |</pre>"
      ],
      "text/plain": [
       "| 38.56ms                             | 100              | 300             |"
      ]
     },
     "metadata": {},
     "output_type": "display_data"
    },
    {
     "data": {
      "text/html": [
       "<pre>+-------------------------------------+------------------+-----------------+</pre>"
      ],
      "text/plain": [
       "+-------------------------------------+------------------+-----------------+"
      ]
     },
     "metadata": {},
     "output_type": "display_data"
    },
    {
     "data": {
      "text/html": [
       "<pre>Finalizing lookup tables.</pre>"
      ],
      "text/plain": [
       "Finalizing lookup tables."
      ]
     },
     "metadata": {},
     "output_type": "display_data"
    },
    {
     "data": {
      "text/html": [
       "<pre>Generating candidate set for working with new users.</pre>"
      ],
      "text/plain": [
       "Generating candidate set for working with new users."
      ]
     },
     "metadata": {},
     "output_type": "display_data"
    },
    {
     "data": {
      "text/html": [
       "<pre>Finished training in 1.05515s</pre>"
      ],
      "text/plain": [
       "Finished training in 1.05515s"
      ]
     },
     "metadata": {},
     "output_type": "display_data"
    },
    {
     "data": {
      "text/html": [
       "<pre>recommendations finished on 1000/1000 queries. users per second: 154536</pre>"
      ],
      "text/plain": [
       "recommendations finished on 1000/1000 queries. users per second: 154536"
      ]
     },
     "metadata": {},
     "output_type": "display_data"
    },
    {
     "name": "stdout",
     "output_type": "stream",
     "text": [
      "+------------+-----------+-----------------+------+\n",
      "| customerId | productId |      score      | rank |\n",
      "+------------+-----------+-----------------+------+\n",
      "|    1553    |     2     |  0.118224442005 |  1   |\n",
      "|    1553    |     1     | 0.0823344111443 |  2   |\n",
      "|    1553    |     35    | 0.0754737973213 |  3   |\n",
      "|    1553    |     5     | 0.0741784930229 |  4   |\n",
      "|    1553    |     33    | 0.0643378734589 |  5   |\n",
      "|    1553    |     17    | 0.0597451925278 |  6   |\n",
      "|    1553    |     8     | 0.0491762399673 |  7   |\n",
      "|    1553    |     41    | 0.0486076831818 |  8   |\n",
      "|    1553    |     76    | 0.0463675141335 |  9   |\n",
      "|    1553    |    167    | 0.0459497451782 |  10  |\n",
      "|   20400    |    284    | 0.0486576557159 |  1   |\n",
      "|   20400    |     6     |  0.038588643074 |  2   |\n",
      "|   20400    |    132    | 0.0359700918198 |  3   |\n",
      "|   20400    |     26    | 0.0357463955879 |  4   |\n",
      "|   20400    |    198    | 0.0347434878349 |  5   |\n",
      "|   20400    |    131    | 0.0344877839088 |  6   |\n",
      "|   20400    |     1     | 0.0338621139526 |  7   |\n",
      "|   20400    |    237    | 0.0333848595619 |  8   |\n",
      "|   20400    |     56    | 0.0331689715385 |  9   |\n",
      "|   20400    |     13    | 0.0328013896942 |  10  |\n",
      "|   19750    |     48    | 0.0825135707855 |  1   |\n",
      "|   19750    |     2     | 0.0809317330519 |  2   |\n",
      "|   19750    |     38    | 0.0780691305796 |  3   |\n",
      "|   19750    |     36    | 0.0776842733224 |  4   |\n",
      "|   19750    |     1     |  0.076135913531 |  5   |\n",
      "|   19750    |     79    |  0.073880036672 |  6   |\n",
      "|   19750    |     5     | 0.0537665386995 |  7   |\n",
      "|   19750    |    166    | 0.0494284927845 |  8   |\n",
      "|   19750    |     33    | 0.0474934279919 |  9   |\n",
      "|   19750    |     44    | 0.0467375119527 |  10  |\n",
      "+------------+-----------+-----------------+------+\n",
      "[10000 rows x 4 columns]\n",
      "\n"
     ]
    }
   ],
   "source": [
    "# these variables will change accordingly\n",
    "name = 'cosine'\n",
    "target = 'purchase_count'\n",
    "cos = model(train_data, name, user_id, item_id, target, users_to_recommend, n_rec, n_display)"
   ]
  },
  {
   "cell_type": "code",
   "execution_count": 30,
   "metadata": {},
   "outputs": [
    {
     "data": {
      "text/html": [
       "<pre>Warning: Ignoring columns purchase_count;</pre>"
      ],
      "text/plain": [
       "Warning: Ignoring columns purchase_count;"
      ]
     },
     "metadata": {},
     "output_type": "display_data"
    },
    {
     "data": {
      "text/html": [
       "<pre>    To use these columns in scoring predictions, use a model that allows the use of additional features.</pre>"
      ],
      "text/plain": [
       "    To use these columns in scoring predictions, use a model that allows the use of additional features."
      ]
     },
     "metadata": {},
     "output_type": "display_data"
    },
    {
     "data": {
      "text/html": [
       "<pre>Preparing data set.</pre>"
      ],
      "text/plain": [
       "Preparing data set."
      ]
     },
     "metadata": {},
     "output_type": "display_data"
    },
    {
     "data": {
      "text/html": [
       "<pre>    Data has 106868 observations with 23317 users and 300 items.</pre>"
      ],
      "text/plain": [
       "    Data has 106868 observations with 23317 users and 300 items."
      ]
     },
     "metadata": {},
     "output_type": "display_data"
    },
    {
     "data": {
      "text/html": [
       "<pre>    Data prepared in: 0.055762s</pre>"
      ],
      "text/plain": [
       "    Data prepared in: 0.055762s"
      ]
     },
     "metadata": {},
     "output_type": "display_data"
    },
    {
     "data": {
      "text/html": [
       "<pre>Training model from provided data.</pre>"
      ],
      "text/plain": [
       "Training model from provided data."
      ]
     },
     "metadata": {},
     "output_type": "display_data"
    },
    {
     "data": {
      "text/html": [
       "<pre>Gathering per-item and per-user statistics.</pre>"
      ],
      "text/plain": [
       "Gathering per-item and per-user statistics."
      ]
     },
     "metadata": {},
     "output_type": "display_data"
    },
    {
     "data": {
      "text/html": [
       "<pre>+--------------------------------+------------+</pre>"
      ],
      "text/plain": [
       "+--------------------------------+------------+"
      ]
     },
     "metadata": {},
     "output_type": "display_data"
    },
    {
     "data": {
      "text/html": [
       "<pre>| Elapsed Time (Item Statistics) | % Complete |</pre>"
      ],
      "text/plain": [
       "| Elapsed Time (Item Statistics) | % Complete |"
      ]
     },
     "metadata": {},
     "output_type": "display_data"
    },
    {
     "data": {
      "text/html": [
       "<pre>+--------------------------------+------------+</pre>"
      ],
      "text/plain": [
       "+--------------------------------+------------+"
      ]
     },
     "metadata": {},
     "output_type": "display_data"
    },
    {
     "data": {
      "text/html": [
       "<pre>| 381us                          | 4.25       |</pre>"
      ],
      "text/plain": [
       "| 381us                          | 4.25       |"
      ]
     },
     "metadata": {},
     "output_type": "display_data"
    },
    {
     "data": {
      "text/html": [
       "<pre>| 2.653ms                        | 100        |</pre>"
      ],
      "text/plain": [
       "| 2.653ms                        | 100        |"
      ]
     },
     "metadata": {},
     "output_type": "display_data"
    },
    {
     "data": {
      "text/html": [
       "<pre>+--------------------------------+------------+</pre>"
      ],
      "text/plain": [
       "+--------------------------------+------------+"
      ]
     },
     "metadata": {},
     "output_type": "display_data"
    },
    {
     "data": {
      "text/html": [
       "<pre>Setting up lookup tables.</pre>"
      ],
      "text/plain": [
       "Setting up lookup tables."
      ]
     },
     "metadata": {},
     "output_type": "display_data"
    },
    {
     "data": {
      "text/html": [
       "<pre>Processing data in one pass using dense lookup tables.</pre>"
      ],
      "text/plain": [
       "Processing data in one pass using dense lookup tables."
      ]
     },
     "metadata": {},
     "output_type": "display_data"
    },
    {
     "data": {
      "text/html": [
       "<pre>+-------------------------------------+------------------+-----------------+</pre>"
      ],
      "text/plain": [
       "+-------------------------------------+------------------+-----------------+"
      ]
     },
     "metadata": {},
     "output_type": "display_data"
    },
    {
     "data": {
      "text/html": [
       "<pre>| Elapsed Time (Constructing Lookups) | Total % Complete | Items Processed |</pre>"
      ],
      "text/plain": [
       "| Elapsed Time (Constructing Lookups) | Total % Complete | Items Processed |"
      ]
     },
     "metadata": {},
     "output_type": "display_data"
    },
    {
     "data": {
      "text/html": [
       "<pre>+-------------------------------------+------------------+-----------------+</pre>"
      ],
      "text/plain": [
       "+-------------------------------------+------------------+-----------------+"
      ]
     },
     "metadata": {},
     "output_type": "display_data"
    },
    {
     "data": {
      "text/html": [
       "<pre>| 3.595ms                             | 0                | 0               |</pre>"
      ],
      "text/plain": [
       "| 3.595ms                             | 0                | 0               |"
      ]
     },
     "metadata": {},
     "output_type": "display_data"
    },
    {
     "name": "stdout",
     "output_type": "stream",
     "text": [
      "+------------+-----------+-----------------+------+\n",
      "| customerId | productId |      score      | rank |\n",
      "+------------+-----------+-----------------+------+\n",
      "|    1553    |     35    |  0.116672674815 |  1   |\n",
      "|    1553    |     1     | 0.0806420644124 |  2   |\n",
      "|    1553    |     5     | 0.0754251082738 |  3   |\n",
      "|    1553    |     2     | 0.0687856475512 |  4   |\n",
      "|    1553    |     33    | 0.0600904623667 |  5   |\n",
      "|    1553    |     21    | 0.0543644825617 |  6   |\n",
      "|    1553    |     8     | 0.0498030781746 |  7   |\n",
      "|    1553    |     14    | 0.0490155816078 |  8   |\n",
      "|    1553    |     20    | 0.0469390352567 |  9   |\n",
      "|    1553    |     38    | 0.0458361903826 |  10  |\n",
      "|   20400    |     1     | 0.0459654331207 |  1   |\n",
      "|   20400    |     27    | 0.0432065725327 |  2   |\n",
      "|   20400    |     4     | 0.0403519272804 |  3   |\n",
      "|   20400    |     26    | 0.0385573506355 |  4   |\n",
      "|   20400    |    246    |  0.03819835186  |  5   |\n",
      "|   20400    |     58    | 0.0371216535568 |  6   |\n",
      "|   20400    |    113    | 0.0371216535568 |  7   |\n",
      "|   20400    |     85    | 0.0363287329674 |  8   |\n",
      "|   20400    |    273    | 0.0361322164536 |  9   |\n",
      "|   20400    |    160    | 0.0358510017395 |  10  |\n",
      "|   19750    |     38    |  0.102418631315 |  1   |\n",
      "|   19750    |     36    |  0.101226935784 |  2   |\n",
      "|   19750    |     48    | 0.0976441303889 |  3   |\n",
      "|   19750    |     79    | 0.0848154723644 |  4   |\n",
      "|   19750    |     1     | 0.0826657811801 |  5   |\n",
      "|   19750    |     2     | 0.0710853834947 |  6   |\n",
      "|   19750    |     14    | 0.0598958432674 |  7   |\n",
      "|   19750    |     21    | 0.0544148186843 |  8   |\n",
      "|   19750    |     17    | 0.0532925923665 |  9   |\n",
      "|   19750    |     5     | 0.0517899493376 |  10  |\n",
      "+------------+-----------+-----------------+------+\n",
      "[10000 rows x 4 columns]\n",
      "\n"
     ]
    },
    {
     "data": {
      "text/html": [
       "<pre>| 21.102ms                            | 100              | 300             |</pre>"
      ],
      "text/plain": [
       "| 21.102ms                            | 100              | 300             |"
      ]
     },
     "metadata": {},
     "output_type": "display_data"
    },
    {
     "data": {
      "text/html": [
       "<pre>+-------------------------------------+------------------+-----------------+</pre>"
      ],
      "text/plain": [
       "+-------------------------------------+------------------+-----------------+"
      ]
     },
     "metadata": {},
     "output_type": "display_data"
    },
    {
     "data": {
      "text/html": [
       "<pre>Finalizing lookup tables.</pre>"
      ],
      "text/plain": [
       "Finalizing lookup tables."
      ]
     },
     "metadata": {},
     "output_type": "display_data"
    },
    {
     "data": {
      "text/html": [
       "<pre>Generating candidate set for working with new users.</pre>"
      ],
      "text/plain": [
       "Generating candidate set for working with new users."
      ]
     },
     "metadata": {},
     "output_type": "display_data"
    },
    {
     "data": {
      "text/html": [
       "<pre>Finished training in 0.032532s</pre>"
      ],
      "text/plain": [
       "Finished training in 0.032532s"
      ]
     },
     "metadata": {},
     "output_type": "display_data"
    },
    {
     "data": {
      "text/html": [
       "<pre>recommendations finished on 1000/1000 queries. users per second: 86333.4</pre>"
      ],
      "text/plain": [
       "recommendations finished on 1000/1000 queries. users per second: 86333.4"
      ]
     },
     "metadata": {},
     "output_type": "display_data"
    }
   ],
   "source": [
    "# these variables will change accordingly\n",
    "name = 'cosine'\n",
    "target = 'purchase_dummy'\n",
    "cos_dummy = model(train_data_dummy, name, user_id, item_id, target, users_to_recommend, n_rec, n_display)"
   ]
  },
  {
   "cell_type": "code",
   "execution_count": 31,
   "metadata": {},
   "outputs": [
    {
     "data": {
      "text/html": [
       "<pre>Preparing data set.</pre>"
      ],
      "text/plain": [
       "Preparing data set."
      ]
     },
     "metadata": {},
     "output_type": "display_data"
    },
    {
     "data": {
      "text/html": [
       "<pre>    Data has 106868 observations with 23352 users and 300 items.</pre>"
      ],
      "text/plain": [
       "    Data has 106868 observations with 23352 users and 300 items."
      ]
     },
     "metadata": {},
     "output_type": "display_data"
    },
    {
     "data": {
      "text/html": [
       "<pre>    Data prepared in: 0.063192s</pre>"
      ],
      "text/plain": [
       "    Data prepared in: 0.063192s"
      ]
     },
     "metadata": {},
     "output_type": "display_data"
    },
    {
     "data": {
      "text/html": [
       "<pre>Training model from provided data.</pre>"
      ],
      "text/plain": [
       "Training model from provided data."
      ]
     },
     "metadata": {},
     "output_type": "display_data"
    },
    {
     "data": {
      "text/html": [
       "<pre>Gathering per-item and per-user statistics.</pre>"
      ],
      "text/plain": [
       "Gathering per-item and per-user statistics."
      ]
     },
     "metadata": {},
     "output_type": "display_data"
    },
    {
     "data": {
      "text/html": [
       "<pre>+--------------------------------+------------+</pre>"
      ],
      "text/plain": [
       "+--------------------------------+------------+"
      ]
     },
     "metadata": {},
     "output_type": "display_data"
    },
    {
     "data": {
      "text/html": [
       "<pre>| Elapsed Time (Item Statistics) | % Complete |</pre>"
      ],
      "text/plain": [
       "| Elapsed Time (Item Statistics) | % Complete |"
      ]
     },
     "metadata": {},
     "output_type": "display_data"
    },
    {
     "data": {
      "text/html": [
       "<pre>+--------------------------------+------------+</pre>"
      ],
      "text/plain": [
       "+--------------------------------+------------+"
      ]
     },
     "metadata": {},
     "output_type": "display_data"
    },
    {
     "data": {
      "text/html": [
       "<pre>| 531us                          | 4.25       |</pre>"
      ],
      "text/plain": [
       "| 531us                          | 4.25       |"
      ]
     },
     "metadata": {},
     "output_type": "display_data"
    },
    {
     "data": {
      "text/html": [
       "<pre>| 6.372ms                        | 100        |</pre>"
      ],
      "text/plain": [
       "| 6.372ms                        | 100        |"
      ]
     },
     "metadata": {},
     "output_type": "display_data"
    },
    {
     "name": "stdout",
     "output_type": "stream",
     "text": [
      "+------------+-----------+------------------+------+\n",
      "| customerId | productId |      score       | rank |\n",
      "+------------+-----------+------------------+------+\n",
      "|    1553    |    157    |       0.0        |  1   |\n",
      "|    1553    |     47    |       0.0        |  2   |\n",
      "|    1553    |     24    |       0.0        |  3   |\n",
      "|    1553    |     13    |       0.0        |  4   |\n",
      "|    1553    |     89    |       0.0        |  5   |\n",
      "|    1553    |    258    |       0.0        |  6   |\n",
      "|    1553    |    259    |       0.0        |  7   |\n",
      "|    1553    |     60    |       0.0        |  8   |\n",
      "|    1553    |    268    |       0.0        |  9   |\n",
      "|    1553    |     80    |       0.0        |  10  |\n",
      "|   20400    |    157    |       0.0        |  1   |\n",
      "|   20400    |     47    |       0.0        |  2   |\n",
      "|   20400    |     24    |       0.0        |  3   |\n",
      "|   20400    |     13    |       0.0        |  4   |\n",
      "|   20400    |     89    |       0.0        |  5   |\n",
      "|   20400    |    258    |       0.0        |  6   |\n",
      "|   20400    |    259    |       0.0        |  7   |\n",
      "|   20400    |     60    |       0.0        |  8   |\n",
      "|   20400    |    268    |       0.0        |  9   |\n",
      "|   20400    |     80    |       0.0        |  10  |\n",
      "|   19750    |    225    | 0.00286440054576 |  1   |\n",
      "|   19750    |    178    | 0.00273926059405 |  2   |\n",
      "|   19750    |    248    | 0.00271899501483 |  3   |\n",
      "|   19750    |    228    | 0.00254370768865 |  4   |\n",
      "|   19750    |    120    | 0.00245283047358 |  5   |\n",
      "|   19750    |    222    | 0.00218242406845 |  6   |\n",
      "|   19750    |    208    | 0.00178481141726 |  7   |\n",
      "|   19750    |    110    | 0.00168352325757 |  8   |\n",
      "|   19750    |     71    | 0.00167726476987 |  9   |\n",
      "|   19750    |    212    | 0.00165634353956 |  10  |\n",
      "+------------+-----------+------------------+------+\n",
      "[10000 rows x 4 columns]\n",
      "\n"
     ]
    },
    {
     "data": {
      "text/html": [
       "<pre>+--------------------------------+------------+</pre>"
      ],
      "text/plain": [
       "+--------------------------------+------------+"
      ]
     },
     "metadata": {},
     "output_type": "display_data"
    },
    {
     "data": {
      "text/html": [
       "<pre>Setting up lookup tables.</pre>"
      ],
      "text/plain": [
       "Setting up lookup tables."
      ]
     },
     "metadata": {},
     "output_type": "display_data"
    },
    {
     "data": {
      "text/html": [
       "<pre>Processing data in one pass using dense lookup tables.</pre>"
      ],
      "text/plain": [
       "Processing data in one pass using dense lookup tables."
      ]
     },
     "metadata": {},
     "output_type": "display_data"
    },
    {
     "data": {
      "text/html": [
       "<pre>+-------------------------------------+------------------+-----------------+</pre>"
      ],
      "text/plain": [
       "+-------------------------------------+------------------+-----------------+"
      ]
     },
     "metadata": {},
     "output_type": "display_data"
    },
    {
     "data": {
      "text/html": [
       "<pre>| Elapsed Time (Constructing Lookups) | Total % Complete | Items Processed |</pre>"
      ],
      "text/plain": [
       "| Elapsed Time (Constructing Lookups) | Total % Complete | Items Processed |"
      ]
     },
     "metadata": {},
     "output_type": "display_data"
    },
    {
     "data": {
      "text/html": [
       "<pre>+-------------------------------------+------------------+-----------------+</pre>"
      ],
      "text/plain": [
       "+-------------------------------------+------------------+-----------------+"
      ]
     },
     "metadata": {},
     "output_type": "display_data"
    },
    {
     "data": {
      "text/html": [
       "<pre>| 6.868ms                             | 0                | 0               |</pre>"
      ],
      "text/plain": [
       "| 6.868ms                             | 0                | 0               |"
      ]
     },
     "metadata": {},
     "output_type": "display_data"
    },
    {
     "data": {
      "text/html": [
       "<pre>| 14.497ms                            | 100              | 300             |</pre>"
      ],
      "text/plain": [
       "| 14.497ms                            | 100              | 300             |"
      ]
     },
     "metadata": {},
     "output_type": "display_data"
    },
    {
     "data": {
      "text/html": [
       "<pre>+-------------------------------------+------------------+-----------------+</pre>"
      ],
      "text/plain": [
       "+-------------------------------------+------------------+-----------------+"
      ]
     },
     "metadata": {},
     "output_type": "display_data"
    },
    {
     "data": {
      "text/html": [
       "<pre>Finalizing lookup tables.</pre>"
      ],
      "text/plain": [
       "Finalizing lookup tables."
      ]
     },
     "metadata": {},
     "output_type": "display_data"
    },
    {
     "data": {
      "text/html": [
       "<pre>Generating candidate set for working with new users.</pre>"
      ],
      "text/plain": [
       "Generating candidate set for working with new users."
      ]
     },
     "metadata": {},
     "output_type": "display_data"
    },
    {
     "data": {
      "text/html": [
       "<pre>Finished training in 0.028667s</pre>"
      ],
      "text/plain": [
       "Finished training in 0.028667s"
      ]
     },
     "metadata": {},
     "output_type": "display_data"
    },
    {
     "data": {
      "text/html": [
       "<pre>recommendations finished on 1000/1000 queries. users per second: 194590</pre>"
      ],
      "text/plain": [
       "recommendations finished on 1000/1000 queries. users per second: 194590"
      ]
     },
     "metadata": {},
     "output_type": "display_data"
    }
   ],
   "source": [
    "name = 'cosine'\n",
    "target = 'scaled_purchase_freq'\n",
    "cos_norm = model(train_data_norm, name, user_id, item_id, target, users_to_recommend, n_rec, n_display)"
   ]
  },
  {
   "cell_type": "code",
   "execution_count": 32,
   "metadata": {},
   "outputs": [
    {
     "data": {
      "text/html": [
       "<pre>Preparing data set.</pre>"
      ],
      "text/plain": [
       "Preparing data set."
      ]
     },
     "metadata": {},
     "output_type": "display_data"
    },
    {
     "data": {
      "text/html": [
       "<pre>    Data has 106868 observations with 23311 users and 300 items.</pre>"
      ],
      "text/plain": [
       "    Data has 106868 observations with 23311 users and 300 items."
      ]
     },
     "metadata": {},
     "output_type": "display_data"
    },
    {
     "data": {
      "text/html": [
       "<pre>    Data prepared in: 0.066046s</pre>"
      ],
      "text/plain": [
       "    Data prepared in: 0.066046s"
      ]
     },
     "metadata": {},
     "output_type": "display_data"
    },
    {
     "data": {
      "text/html": [
       "<pre>Training model from provided data.</pre>"
      ],
      "text/plain": [
       "Training model from provided data."
      ]
     },
     "metadata": {},
     "output_type": "display_data"
    },
    {
     "data": {
      "text/html": [
       "<pre>Gathering per-item and per-user statistics.</pre>"
      ],
      "text/plain": [
       "Gathering per-item and per-user statistics."
      ]
     },
     "metadata": {},
     "output_type": "display_data"
    },
    {
     "data": {
      "text/html": [
       "<pre>+--------------------------------+------------+</pre>"
      ],
      "text/plain": [
       "+--------------------------------+------------+"
      ]
     },
     "metadata": {},
     "output_type": "display_data"
    },
    {
     "data": {
      "text/html": [
       "<pre>| Elapsed Time (Item Statistics) | % Complete |</pre>"
      ],
      "text/plain": [
       "| Elapsed Time (Item Statistics) | % Complete |"
      ]
     },
     "metadata": {},
     "output_type": "display_data"
    },
    {
     "data": {
      "text/html": [
       "<pre>+--------------------------------+------------+</pre>"
      ],
      "text/plain": [
       "+--------------------------------+------------+"
      ]
     },
     "metadata": {},
     "output_type": "display_data"
    },
    {
     "data": {
      "text/html": [
       "<pre>| 720us                          | 4.25       |</pre>"
      ],
      "text/plain": [
       "| 720us                          | 4.25       |"
      ]
     },
     "metadata": {},
     "output_type": "display_data"
    },
    {
     "data": {
      "text/html": [
       "<pre>| 9.301ms                        | 100        |</pre>"
      ],
      "text/plain": [
       "| 9.301ms                        | 100        |"
      ]
     },
     "metadata": {},
     "output_type": "display_data"
    },
    {
     "data": {
      "text/html": [
       "<pre>+--------------------------------+------------+</pre>"
      ],
      "text/plain": [
       "+--------------------------------+------------+"
      ]
     },
     "metadata": {},
     "output_type": "display_data"
    },
    {
     "data": {
      "text/html": [
       "<pre>Setting up lookup tables.</pre>"
      ],
      "text/plain": [
       "Setting up lookup tables."
      ]
     },
     "metadata": {},
     "output_type": "display_data"
    },
    {
     "data": {
      "text/html": [
       "<pre>Processing data in one pass using dense lookup tables.</pre>"
      ],
      "text/plain": [
       "Processing data in one pass using dense lookup tables."
      ]
     },
     "metadata": {},
     "output_type": "display_data"
    },
    {
     "data": {
      "text/html": [
       "<pre>+-------------------------------------+------------------+-----------------+</pre>"
      ],
      "text/plain": [
       "+-------------------------------------+------------------+-----------------+"
      ]
     },
     "metadata": {},
     "output_type": "display_data"
    },
    {
     "data": {
      "text/html": [
       "<pre>| Elapsed Time (Constructing Lookups) | Total % Complete | Items Processed |</pre>"
      ],
      "text/plain": [
       "| Elapsed Time (Constructing Lookups) | Total % Complete | Items Processed |"
      ]
     },
     "metadata": {},
     "output_type": "display_data"
    },
    {
     "data": {
      "text/html": [
       "<pre>+-------------------------------------+------------------+-----------------+</pre>"
      ],
      "text/plain": [
       "+-------------------------------------+------------------+-----------------+"
      ]
     },
     "metadata": {},
     "output_type": "display_data"
    },
    {
     "data": {
      "text/html": [
       "<pre>| 9.982ms                             | 0                | 0               |</pre>"
      ],
      "text/plain": [
       "| 9.982ms                             | 0                | 0               |"
      ]
     },
     "metadata": {},
     "output_type": "display_data"
    },
    {
     "data": {
      "text/html": [
       "<pre>| 45.494ms                            | 100              | 300             |</pre>"
      ],
      "text/plain": [
       "| 45.494ms                            | 100              | 300             |"
      ]
     },
     "metadata": {},
     "output_type": "display_data"
    },
    {
     "data": {
      "text/html": [
       "<pre>+-------------------------------------+------------------+-----------------+</pre>"
      ],
      "text/plain": [
       "+-------------------------------------+------------------+-----------------+"
      ]
     },
     "metadata": {},
     "output_type": "display_data"
    },
    {
     "data": {
      "text/html": [
       "<pre>Finalizing lookup tables.</pre>"
      ],
      "text/plain": [
       "Finalizing lookup tables."
      ]
     },
     "metadata": {},
     "output_type": "display_data"
    },
    {
     "data": {
      "text/html": [
       "<pre>Generating candidate set for working with new users.</pre>"
      ],
      "text/plain": [
       "Generating candidate set for working with new users."
      ]
     },
     "metadata": {},
     "output_type": "display_data"
    },
    {
     "data": {
      "text/html": [
       "<pre>Finished training in 0.054985s</pre>"
      ],
      "text/plain": [
       "Finished training in 0.054985s"
      ]
     },
     "metadata": {},
     "output_type": "display_data"
    },
    {
     "data": {
      "text/html": [
       "<pre>recommendations finished on 1000/1000 queries. users per second: 91083</pre>"
      ],
      "text/plain": [
       "recommendations finished on 1000/1000 queries. users per second: 91083"
      ]
     },
     "metadata": {},
     "output_type": "display_data"
    },
    {
     "name": "stdout",
     "output_type": "stream",
     "text": [
      "+------------+-----------+---------------+------+\n",
      "| customerId | productId |     score     | rank |\n",
      "+------------+-----------+---------------+------+\n",
      "|    1553    |    132    | 3.06666666667 |  1   |\n",
      "|    1553    |     34    | 2.99865378302 |  2   |\n",
      "|    1553    |     37    | 2.97581589139 |  3   |\n",
      "|    1553    |     0     | 2.95018876779 |  4   |\n",
      "|    1553    |     3     | 2.86270859322 |  5   |\n",
      "|    1553    |    248    | 2.83779164878 |  6   |\n",
      "|    1553    |     27    | 2.77370169086 |  7   |\n",
      "|    1553    |    245    | 2.69736842105 |  8   |\n",
      "|    1553    |     32    | 2.67961165049 |  9   |\n",
      "|    1553    |    110    | 2.67633323607 |  10  |\n",
      "|   20400    |    132    | 3.05505580107 |  1   |\n",
      "|   20400    |     34    | 3.01529421967 |  2   |\n",
      "|   20400    |     37    |  2.9762148372 |  3   |\n",
      "|   20400    |     0     | 2.95242718447 |  4   |\n",
      "|   20400    |     3     |  2.8621127375 |  5   |\n",
      "|   20400    |    248    | 2.84090909091 |  6   |\n",
      "|   20400    |     27    | 2.77144911212 |  7   |\n",
      "|   20400    |    245    | 2.69736842105 |  8   |\n",
      "|   20400    |    110    | 2.68421052632 |  9   |\n",
      "|   20400    |     32    | 2.67961165049 |  10  |\n",
      "|   19750    |    132    | 3.06539246837 |  1   |\n",
      "|   19750    |     34    | 3.01089559556 |  2   |\n",
      "|   19750    |     37    | 2.97375619527 |  3   |\n",
      "|   19750    |     0     | 2.95175723819 |  4   |\n",
      "|   19750    |     3     | 2.85644653122 |  5   |\n",
      "|   19750    |    248    | 2.83954580354 |  6   |\n",
      "|   19750    |     27    | 2.77419354839 |  7   |\n",
      "|   19750    |    245    | 2.69736842105 |  8   |\n",
      "|   19750    |     32    | 2.67963169751 |  9   |\n",
      "|   19750    |    110    | 2.67558492955 |  10  |\n",
      "+------------+-----------+---------------+------+\n",
      "[10000 rows x 4 columns]\n",
      "\n"
     ]
    }
   ],
   "source": [
    "# these variables will change accordingly\n",
    "name = 'pearson'\n",
    "target = 'purchase_count'\n",
    "pear = model(train_data, name, user_id, item_id, target, users_to_recommend, n_rec, n_display)"
   ]
  },
  {
   "cell_type": "code",
   "execution_count": 33,
   "metadata": {},
   "outputs": [
    {
     "data": {
      "text/html": [
       "<pre>Warning: Ignoring columns purchase_count;</pre>"
      ],
      "text/plain": [
       "Warning: Ignoring columns purchase_count;"
      ]
     },
     "metadata": {},
     "output_type": "display_data"
    },
    {
     "data": {
      "text/html": [
       "<pre>    To use these columns in scoring predictions, use a model that allows the use of additional features.</pre>"
      ],
      "text/plain": [
       "    To use these columns in scoring predictions, use a model that allows the use of additional features."
      ]
     },
     "metadata": {},
     "output_type": "display_data"
    },
    {
     "data": {
      "text/html": [
       "<pre>Preparing data set.</pre>"
      ],
      "text/plain": [
       "Preparing data set."
      ]
     },
     "metadata": {},
     "output_type": "display_data"
    },
    {
     "data": {
      "text/html": [
       "<pre>    Data has 106868 observations with 23317 users and 300 items.</pre>"
      ],
      "text/plain": [
       "    Data has 106868 observations with 23317 users and 300 items."
      ]
     },
     "metadata": {},
     "output_type": "display_data"
    },
    {
     "data": {
      "text/html": [
       "<pre>    Data prepared in: 0.057547s</pre>"
      ],
      "text/plain": [
       "    Data prepared in: 0.057547s"
      ]
     },
     "metadata": {},
     "output_type": "display_data"
    },
    {
     "data": {
      "text/html": [
       "<pre>Training model from provided data.</pre>"
      ],
      "text/plain": [
       "Training model from provided data."
      ]
     },
     "metadata": {},
     "output_type": "display_data"
    },
    {
     "data": {
      "text/html": [
       "<pre>Gathering per-item and per-user statistics.</pre>"
      ],
      "text/plain": [
       "Gathering per-item and per-user statistics."
      ]
     },
     "metadata": {},
     "output_type": "display_data"
    },
    {
     "data": {
      "text/html": [
       "<pre>+--------------------------------+------------+</pre>"
      ],
      "text/plain": [
       "+--------------------------------+------------+"
      ]
     },
     "metadata": {},
     "output_type": "display_data"
    },
    {
     "data": {
      "text/html": [
       "<pre>| Elapsed Time (Item Statistics) | % Complete |</pre>"
      ],
      "text/plain": [
       "| Elapsed Time (Item Statistics) | % Complete |"
      ]
     },
     "metadata": {},
     "output_type": "display_data"
    },
    {
     "data": {
      "text/html": [
       "<pre>+--------------------------------+------------+</pre>"
      ],
      "text/plain": [
       "+--------------------------------+------------+"
      ]
     },
     "metadata": {},
     "output_type": "display_data"
    },
    {
     "data": {
      "text/html": [
       "<pre>| 463us                          | 4.25       |</pre>"
      ],
      "text/plain": [
       "| 463us                          | 4.25       |"
      ]
     },
     "metadata": {},
     "output_type": "display_data"
    },
    {
     "data": {
      "text/html": [
       "<pre>| 10.353ms                       | 100        |</pre>"
      ],
      "text/plain": [
       "| 10.353ms                       | 100        |"
      ]
     },
     "metadata": {},
     "output_type": "display_data"
    },
    {
     "data": {
      "text/html": [
       "<pre>+--------------------------------+------------+</pre>"
      ],
      "text/plain": [
       "+--------------------------------+------------+"
      ]
     },
     "metadata": {},
     "output_type": "display_data"
    },
    {
     "data": {
      "text/html": [
       "<pre>Setting up lookup tables.</pre>"
      ],
      "text/plain": [
       "Setting up lookup tables."
      ]
     },
     "metadata": {},
     "output_type": "display_data"
    },
    {
     "data": {
      "text/html": [
       "<pre>Processing data in one pass using dense lookup tables.</pre>"
      ],
      "text/plain": [
       "Processing data in one pass using dense lookup tables."
      ]
     },
     "metadata": {},
     "output_type": "display_data"
    },
    {
     "data": {
      "text/html": [
       "<pre>+-------------------------------------+------------------+-----------------+</pre>"
      ],
      "text/plain": [
       "+-------------------------------------+------------------+-----------------+"
      ]
     },
     "metadata": {},
     "output_type": "display_data"
    },
    {
     "data": {
      "text/html": [
       "<pre>| Elapsed Time (Constructing Lookups) | Total % Complete | Items Processed |</pre>"
      ],
      "text/plain": [
       "| Elapsed Time (Constructing Lookups) | Total % Complete | Items Processed |"
      ]
     },
     "metadata": {},
     "output_type": "display_data"
    },
    {
     "data": {
      "text/html": [
       "<pre>+-------------------------------------+------------------+-----------------+</pre>"
      ],
      "text/plain": [
       "+-------------------------------------+------------------+-----------------+"
      ]
     },
     "metadata": {},
     "output_type": "display_data"
    },
    {
     "data": {
      "text/html": [
       "<pre>| 11.205ms                            | 0                | 0               |</pre>"
      ],
      "text/plain": [
       "| 11.205ms                            | 0                | 0               |"
      ]
     },
     "metadata": {},
     "output_type": "display_data"
    },
    {
     "data": {
      "text/html": [
       "<pre>| 33.835ms                            | 100              | 300             |</pre>"
      ],
      "text/plain": [
       "| 33.835ms                            | 100              | 300             |"
      ]
     },
     "metadata": {},
     "output_type": "display_data"
    },
    {
     "data": {
      "text/html": [
       "<pre>+-------------------------------------+------------------+-----------------+</pre>"
      ],
      "text/plain": [
       "+-------------------------------------+------------------+-----------------+"
      ]
     },
     "metadata": {},
     "output_type": "display_data"
    },
    {
     "data": {
      "text/html": [
       "<pre>Finalizing lookup tables.</pre>"
      ],
      "text/plain": [
       "Finalizing lookup tables."
      ]
     },
     "metadata": {},
     "output_type": "display_data"
    },
    {
     "data": {
      "text/html": [
       "<pre>Generating candidate set for working with new users.</pre>"
      ],
      "text/plain": [
       "Generating candidate set for working with new users."
      ]
     },
     "metadata": {},
     "output_type": "display_data"
    },
    {
     "data": {
      "text/html": [
       "<pre>Finished training in 0.040111s</pre>"
      ],
      "text/plain": [
       "Finished training in 0.040111s"
      ]
     },
     "metadata": {},
     "output_type": "display_data"
    },
    {
     "data": {
      "text/html": [
       "<pre>recommendations finished on 1000/1000 queries. users per second: 144300</pre>"
      ],
      "text/plain": [
       "recommendations finished on 1000/1000 queries. users per second: 144300"
      ]
     },
     "metadata": {},
     "output_type": "display_data"
    },
    {
     "name": "stdout",
     "output_type": "stream",
     "text": [
      "+------------+-----------+-------+------+\n",
      "| customerId | productId | score | rank |\n",
      "+------------+-----------+-------+------+\n",
      "|    1553    |    123    |  0.0  |  1   |\n",
      "|    1553    |    235    |  0.0  |  2   |\n",
      "|    1553    |    159    |  0.0  |  3   |\n",
      "|    1553    |     35    |  0.0  |  4   |\n",
      "|    1553    |     76    |  0.0  |  5   |\n",
      "|    1553    |     11    |  0.0  |  6   |\n",
      "|    1553    |    202    |  0.0  |  7   |\n",
      "|    1553    |     20    |  0.0  |  8   |\n",
      "|    1553    |    107    |  0.0  |  9   |\n",
      "|    1553    |     55    |  0.0  |  10  |\n",
      "|   20400    |    123    |  0.0  |  1   |\n",
      "|   20400    |    235    |  0.0  |  2   |\n",
      "|   20400    |    159    |  0.0  |  3   |\n",
      "|   20400    |     35    |  0.0  |  4   |\n",
      "|   20400    |     76    |  0.0  |  5   |\n",
      "|   20400    |     11    |  0.0  |  6   |\n",
      "|   20400    |    202    |  0.0  |  7   |\n",
      "|   20400    |     20    |  0.0  |  8   |\n",
      "|   20400    |    107    |  0.0  |  9   |\n",
      "|   20400    |     55    |  0.0  |  10  |\n",
      "|   19750    |    123    |  0.0  |  1   |\n",
      "|   19750    |    235    |  0.0  |  2   |\n",
      "|   19750    |    159    |  0.0  |  3   |\n",
      "|   19750    |     35    |  0.0  |  4   |\n",
      "|   19750    |     76    |  0.0  |  5   |\n",
      "|   19750    |     11    |  0.0  |  6   |\n",
      "|   19750    |    202    |  0.0  |  7   |\n",
      "|   19750    |     20    |  0.0  |  8   |\n",
      "|   19750    |    107    |  0.0  |  9   |\n",
      "|   19750    |     55    |  0.0  |  10  |\n",
      "+------------+-----------+-------+------+\n",
      "[10000 rows x 4 columns]\n",
      "\n"
     ]
    }
   ],
   "source": [
    "# these variables will change accordingly\n",
    "name = 'pearson'\n",
    "target = 'purchase_dummy'\n",
    "pear_dummy = model(train_data_dummy, name, user_id, item_id, target, users_to_recommend, n_rec, n_display)"
   ]
  },
  {
   "cell_type": "code",
   "execution_count": 34,
   "metadata": {},
   "outputs": [
    {
     "data": {
      "text/html": [
       "<pre>Preparing data set.</pre>"
      ],
      "text/plain": [
       "Preparing data set."
      ]
     },
     "metadata": {},
     "output_type": "display_data"
    },
    {
     "data": {
      "text/html": [
       "<pre>    Data has 106868 observations with 23352 users and 300 items.</pre>"
      ],
      "text/plain": [
       "    Data has 106868 observations with 23352 users and 300 items."
      ]
     },
     "metadata": {},
     "output_type": "display_data"
    },
    {
     "data": {
      "text/html": [
       "<pre>    Data prepared in: 0.07185s</pre>"
      ],
      "text/plain": [
       "    Data prepared in: 0.07185s"
      ]
     },
     "metadata": {},
     "output_type": "display_data"
    },
    {
     "data": {
      "text/html": [
       "<pre>Training model from provided data.</pre>"
      ],
      "text/plain": [
       "Training model from provided data."
      ]
     },
     "metadata": {},
     "output_type": "display_data"
    },
    {
     "data": {
      "text/html": [
       "<pre>Gathering per-item and per-user statistics.</pre>"
      ],
      "text/plain": [
       "Gathering per-item and per-user statistics."
      ]
     },
     "metadata": {},
     "output_type": "display_data"
    },
    {
     "data": {
      "text/html": [
       "<pre>+--------------------------------+------------+</pre>"
      ],
      "text/plain": [
       "+--------------------------------+------------+"
      ]
     },
     "metadata": {},
     "output_type": "display_data"
    },
    {
     "data": {
      "text/html": [
       "<pre>| Elapsed Time (Item Statistics) | % Complete |</pre>"
      ],
      "text/plain": [
       "| Elapsed Time (Item Statistics) | % Complete |"
      ]
     },
     "metadata": {},
     "output_type": "display_data"
    },
    {
     "data": {
      "text/html": [
       "<pre>+--------------------------------+------------+</pre>"
      ],
      "text/plain": [
       "+--------------------------------+------------+"
      ]
     },
     "metadata": {},
     "output_type": "display_data"
    },
    {
     "data": {
      "text/html": [
       "<pre>| 500us                          | 4.25       |</pre>"
      ],
      "text/plain": [
       "| 500us                          | 4.25       |"
      ]
     },
     "metadata": {},
     "output_type": "display_data"
    },
    {
     "data": {
      "text/html": [
       "<pre>| 4.693ms                        | 100        |</pre>"
      ],
      "text/plain": [
       "| 4.693ms                        | 100        |"
      ]
     },
     "metadata": {},
     "output_type": "display_data"
    },
    {
     "data": {
      "text/html": [
       "<pre>+--------------------------------+------------+</pre>"
      ],
      "text/plain": [
       "+--------------------------------+------------+"
      ]
     },
     "metadata": {},
     "output_type": "display_data"
    },
    {
     "data": {
      "text/html": [
       "<pre>Setting up lookup tables.</pre>"
      ],
      "text/plain": [
       "Setting up lookup tables."
      ]
     },
     "metadata": {},
     "output_type": "display_data"
    },
    {
     "data": {
      "text/html": [
       "<pre>Processing data in one pass using dense lookup tables.</pre>"
      ],
      "text/plain": [
       "Processing data in one pass using dense lookup tables."
      ]
     },
     "metadata": {},
     "output_type": "display_data"
    },
    {
     "data": {
      "text/html": [
       "<pre>+-------------------------------------+------------------+-----------------+</pre>"
      ],
      "text/plain": [
       "+-------------------------------------+------------------+-----------------+"
      ]
     },
     "metadata": {},
     "output_type": "display_data"
    },
    {
     "data": {
      "text/html": [
       "<pre>| Elapsed Time (Constructing Lookups) | Total % Complete | Items Processed |</pre>"
      ],
      "text/plain": [
       "| Elapsed Time (Constructing Lookups) | Total % Complete | Items Processed |"
      ]
     },
     "metadata": {},
     "output_type": "display_data"
    },
    {
     "data": {
      "text/html": [
       "<pre>+-------------------------------------+------------------+-----------------+</pre>"
      ],
      "text/plain": [
       "+-------------------------------------+------------------+-----------------+"
      ]
     },
     "metadata": {},
     "output_type": "display_data"
    },
    {
     "data": {
      "text/html": [
       "<pre>| 5.146ms                             | 0                | 0               |</pre>"
      ],
      "text/plain": [
       "| 5.146ms                             | 0                | 0               |"
      ]
     },
     "metadata": {},
     "output_type": "display_data"
    },
    {
     "data": {
      "text/html": [
       "<pre>| 31.648ms                            | 100              | 300             |</pre>"
      ],
      "text/plain": [
       "| 31.648ms                            | 100              | 300             |"
      ]
     },
     "metadata": {},
     "output_type": "display_data"
    },
    {
     "name": "stdout",
     "output_type": "stream",
     "text": [
      "+------------+-----------+----------------+------+\n",
      "| customerId | productId |     score      | rank |\n",
      "+------------+-----------+----------------+------+\n",
      "|    1553    |    226    | 0.778559971727 |  1   |\n",
      "|    1553    |    247    | 0.328244274809 |  2   |\n",
      "|    1553    |    230    | 0.324225948718 |  3   |\n",
      "|    1553    |    125    | 0.266502932707 |  4   |\n",
      "|    1553    |    248    | 0.26329787234  |  5   |\n",
      "|    1553    |    294    | 0.251402565837 |  6   |\n",
      "|    1553    |     72    | 0.231624837371 |  7   |\n",
      "|    1553    |    276    | 0.22702648774  |  8   |\n",
      "|    1553    |    165    | 0.223350253807 |  9   |\n",
      "|    1553    |     83    | 0.219271665528 |  10  |\n",
      "|   20400    |    226    | 0.778911564626 |  1   |\n",
      "|   20400    |    247    | 0.328244274809 |  2   |\n",
      "|   20400    |    230    | 0.324444444444 |  3   |\n",
      "|   20400    |    125    | 0.265923158328 |  4   |\n",
      "|   20400    |    248    | 0.26329787234  |  5   |\n",
      "|   20400    |    294    |   0.2515625    |  6   |\n",
      "|   20400    |     72    | 0.231884057971 |  7   |\n",
      "|   20400    |    276    | 0.22681757346  |  8   |\n",
      "|   20400    |    165    | 0.223350253807 |  9   |\n",
      "|   20400    |     83    | 0.220238095238 |  10  |\n",
      "|   19750    |    226    | 0.778758122402 |  1   |\n",
      "|   19750    |    230    | 0.324444444444 |  2   |\n",
      "|   19750    |    125    | 0.266508615017 |  3   |\n",
      "|   19750    |    248    | 0.263180083628 |  4   |\n",
      "|   19750    |    294    |   0.2515625    |  5   |\n",
      "|   19750    |     72    | 0.231635099304 |  6   |\n",
      "|   19750    |    276    | 0.227112676056 |  7   |\n",
      "|   19750    |    165    | 0.222311066694 |  8   |\n",
      "|   19750    |     83    | 0.22011731636  |  9   |\n",
      "|   19750    |    204    | 0.21797752809  |  10  |\n",
      "+------------+-----------+----------------+------+\n",
      "[10000 rows x 4 columns]\n",
      "\n"
     ]
    },
    {
     "data": {
      "text/html": [
       "<pre>+-------------------------------------+------------------+-----------------+</pre>"
      ],
      "text/plain": [
       "+-------------------------------------+------------------+-----------------+"
      ]
     },
     "metadata": {},
     "output_type": "display_data"
    },
    {
     "data": {
      "text/html": [
       "<pre>Finalizing lookup tables.</pre>"
      ],
      "text/plain": [
       "Finalizing lookup tables."
      ]
     },
     "metadata": {},
     "output_type": "display_data"
    },
    {
     "data": {
      "text/html": [
       "<pre>Generating candidate set for working with new users.</pre>"
      ],
      "text/plain": [
       "Generating candidate set for working with new users."
      ]
     },
     "metadata": {},
     "output_type": "display_data"
    },
    {
     "data": {
      "text/html": [
       "<pre>Finished training in 0.041082s</pre>"
      ],
      "text/plain": [
       "Finished training in 0.041082s"
      ]
     },
     "metadata": {},
     "output_type": "display_data"
    },
    {
     "data": {
      "text/html": [
       "<pre>recommendations finished on 1000/1000 queries. users per second: 85733.9</pre>"
      ],
      "text/plain": [
       "recommendations finished on 1000/1000 queries. users per second: 85733.9"
      ]
     },
     "metadata": {},
     "output_type": "display_data"
    }
   ],
   "source": [
    "name = 'pearson'\n",
    "target = 'scaled_purchase_freq'\n",
    "pear_norm = model(train_data_norm, name, user_id, item_id, target, users_to_recommend, n_rec, n_display)"
   ]
  },
  {
   "cell_type": "code",
   "execution_count": 35,
   "metadata": {},
   "outputs": [],
   "source": [
    "# create initial callable variables\n",
    "\n",
    "models_w_counts = [popularity_model, cos, pear]\n",
    "models_w_dummy = [pop_dummy, cos_dummy, pear_dummy]\n",
    "models_w_norm = [pop_norm, cos_norm, pear_norm]\n",
    "\n",
    "names_w_counts = ['Popularity Model on Purchase Counts', 'Cosine Similarity on Purchase Counts', 'Pearson Similarity on Purchase Counts']\n",
    "names_w_dummy = ['Popularity Model on Purchase Dummy', 'Cosine Similarity on Purchase Dummy', 'Pearson Similarity on Purchase Dummy']\n",
    "names_w_norm = ['Popularity Model on Scaled Purchase Counts', 'Cosine Similarity on Scaled Purchase Counts', 'Pearson Similarity on Scaled Purchase Counts']"
   ]
  },
  {
   "cell_type": "code",
   "execution_count": 36,
   "metadata": {},
   "outputs": [
    {
     "name": "stdout",
     "output_type": "stream",
     "text": [
      "PROGRESS: Evaluate model Popularity Model on Purchase Counts\n"
     ]
    },
    {
     "data": {
      "text/html": [
       "<pre>recommendations finished on 1000/13793 queries. users per second: 175316</pre>"
      ],
      "text/plain": [
       "recommendations finished on 1000/13793 queries. users per second: 175316"
      ]
     },
     "metadata": {},
     "output_type": "display_data"
    },
    {
     "data": {
      "text/html": [
       "<pre>recommendations finished on 2000/13793 queries. users per second: 182565</pre>"
      ],
      "text/plain": [
       "recommendations finished on 2000/13793 queries. users per second: 182565"
      ]
     },
     "metadata": {},
     "output_type": "display_data"
    },
    {
     "data": {
      "text/html": [
       "<pre>recommendations finished on 3000/13793 queries. users per second: 186370</pre>"
      ],
      "text/plain": [
       "recommendations finished on 3000/13793 queries. users per second: 186370"
      ]
     },
     "metadata": {},
     "output_type": "display_data"
    },
    {
     "data": {
      "text/html": [
       "<pre>recommendations finished on 4000/13793 queries. users per second: 189861</pre>"
      ],
      "text/plain": [
       "recommendations finished on 4000/13793 queries. users per second: 189861"
      ]
     },
     "metadata": {},
     "output_type": "display_data"
    },
    {
     "data": {
      "text/html": [
       "<pre>recommendations finished on 5000/13793 queries. users per second: 190505</pre>"
      ],
      "text/plain": [
       "recommendations finished on 5000/13793 queries. users per second: 190505"
      ]
     },
     "metadata": {},
     "output_type": "display_data"
    },
    {
     "data": {
      "text/html": [
       "<pre>recommendations finished on 6000/13793 queries. users per second: 197811</pre>"
      ],
      "text/plain": [
       "recommendations finished on 6000/13793 queries. users per second: 197811"
      ]
     },
     "metadata": {},
     "output_type": "display_data"
    },
    {
     "data": {
      "text/html": [
       "<pre>recommendations finished on 7000/13793 queries. users per second: 196961</pre>"
      ],
      "text/plain": [
       "recommendations finished on 7000/13793 queries. users per second: 196961"
      ]
     },
     "metadata": {},
     "output_type": "display_data"
    },
    {
     "data": {
      "text/html": [
       "<pre>recommendations finished on 8000/13793 queries. users per second: 196749</pre>"
      ],
      "text/plain": [
       "recommendations finished on 8000/13793 queries. users per second: 196749"
      ]
     },
     "metadata": {},
     "output_type": "display_data"
    },
    {
     "data": {
      "text/html": [
       "<pre>recommendations finished on 9000/13793 queries. users per second: 194506</pre>"
      ],
      "text/plain": [
       "recommendations finished on 9000/13793 queries. users per second: 194506"
      ]
     },
     "metadata": {},
     "output_type": "display_data"
    },
    {
     "data": {
      "text/html": [
       "<pre>recommendations finished on 10000/13793 queries. users per second: 193727</pre>"
      ],
      "text/plain": [
       "recommendations finished on 10000/13793 queries. users per second: 193727"
      ]
     },
     "metadata": {},
     "output_type": "display_data"
    },
    {
     "data": {
      "text/html": [
       "<pre>recommendations finished on 11000/13793 queries. users per second: 191168</pre>"
      ],
      "text/plain": [
       "recommendations finished on 11000/13793 queries. users per second: 191168"
      ]
     },
     "metadata": {},
     "output_type": "display_data"
    },
    {
     "data": {
      "text/html": [
       "<pre>recommendations finished on 12000/13793 queries. users per second: 190214</pre>"
      ],
      "text/plain": [
       "recommendations finished on 12000/13793 queries. users per second: 190214"
      ]
     },
     "metadata": {},
     "output_type": "display_data"
    },
    {
     "data": {
      "text/html": [
       "<pre>recommendations finished on 13000/13793 queries. users per second: 181215</pre>"
      ],
      "text/plain": [
       "recommendations finished on 13000/13793 queries. users per second: 181215"
      ]
     },
     "metadata": {},
     "output_type": "display_data"
    },
    {
     "name": "stdout",
     "output_type": "stream",
     "text": [
      "\n",
      "Precision and recall summary statistics by cutoff\n",
      "+--------+-------------------+-------------------+\n",
      "| cutoff |   mean_precision  |    mean_recall    |\n",
      "+--------+-------------------+-------------------+\n",
      "|   1    | 0.000942507068803 | 0.000470217812348 |\n",
      "|   2    |  0.00333502501269 |  0.00358907973842 |\n",
      "|   3    |  0.00369752773146 |  0.00610159759024 |\n",
      "|   4    |  0.00775755818169 |   0.01760266067   |\n",
      "|   5    |  0.00797505981295 |  0.0223399696486  |\n",
      "|   6    |  0.00673046714517 |  0.0226783055194  |\n",
      "|   7    |  0.00625576120392 |  0.0244984413677  |\n",
      "|   8    |  0.00575473066048 |  0.0256597447203  |\n",
      "|   9    |  0.00548587447739 |  0.0274533132316  |\n",
      "|   10   |  0.00534329007468 |  0.0299384419891  |\n",
      "+--------+-------------------+-------------------+\n",
      "[10 rows x 3 columns]\n",
      "\n",
      "\n",
      "Overall RMSE: 1.04149382451\n",
      "\n",
      "Per User RMSE (best)\n",
      "+------------+-------+------+\n",
      "| customerId | count | rmse |\n",
      "+------------+-------+------+\n",
      "|    3234    |   1   | 0.0  |\n",
      "+------------+-------+------+\n",
      "[1 rows x 3 columns]\n",
      "\n",
      "\n",
      "Per User RMSE (worst)\n",
      "+------------+-------+------+\n",
      "| customerId | count | rmse |\n",
      "+------------+-------+------+\n",
      "|    1138    |   1   | 17.0 |\n",
      "+------------+-------+------+\n",
      "[1 rows x 3 columns]\n",
      "\n",
      "\n",
      "Per Item RMSE (best)\n",
      "+-----------+-------+----------------+\n",
      "| productId | count |      rmse      |\n",
      "+-----------+-------+----------------+\n",
      "|    166    |   93  | 0.270605504918 |\n",
      "+-----------+-------+----------------+\n",
      "[1 rows x 3 columns]\n",
      "\n",
      "\n",
      "Per Item RMSE (worst)\n",
      "+-----------+-------+---------------+\n",
      "| productId | count |      rmse     |\n",
      "+-----------+-------+---------------+\n",
      "|     47    |  144  | 4.73978741859 |\n",
      "+-----------+-------+---------------+\n",
      "[1 rows x 3 columns]\n",
      "\n",
      "PROGRESS: Evaluate model Cosine Similarity on Purchase Counts\n"
     ]
    },
    {
     "data": {
      "text/html": [
       "<pre>recommendations finished on 1000/13793 queries. users per second: 62088.7</pre>"
      ],
      "text/plain": [
       "recommendations finished on 1000/13793 queries. users per second: 62088.7"
      ]
     },
     "metadata": {},
     "output_type": "display_data"
    },
    {
     "data": {
      "text/html": [
       "<pre>recommendations finished on 2000/13793 queries. users per second: 62208.4</pre>"
      ],
      "text/plain": [
       "recommendations finished on 2000/13793 queries. users per second: 62208.4"
      ]
     },
     "metadata": {},
     "output_type": "display_data"
    },
    {
     "data": {
      "text/html": [
       "<pre>recommendations finished on 3000/13793 queries. users per second: 57881.5</pre>"
      ],
      "text/plain": [
       "recommendations finished on 3000/13793 queries. users per second: 57881.5"
      ]
     },
     "metadata": {},
     "output_type": "display_data"
    },
    {
     "data": {
      "text/html": [
       "<pre>recommendations finished on 4000/13793 queries. users per second: 59852.5</pre>"
      ],
      "text/plain": [
       "recommendations finished on 4000/13793 queries. users per second: 59852.5"
      ]
     },
     "metadata": {},
     "output_type": "display_data"
    },
    {
     "data": {
      "text/html": [
       "<pre>recommendations finished on 5000/13793 queries. users per second: 64208.8</pre>"
      ],
      "text/plain": [
       "recommendations finished on 5000/13793 queries. users per second: 64208.8"
      ]
     },
     "metadata": {},
     "output_type": "display_data"
    },
    {
     "data": {
      "text/html": [
       "<pre>recommendations finished on 6000/13793 queries. users per second: 67529.5</pre>"
      ],
      "text/plain": [
       "recommendations finished on 6000/13793 queries. users per second: 67529.5"
      ]
     },
     "metadata": {},
     "output_type": "display_data"
    },
    {
     "data": {
      "text/html": [
       "<pre>recommendations finished on 7000/13793 queries. users per second: 72869.6</pre>"
      ],
      "text/plain": [
       "recommendations finished on 7000/13793 queries. users per second: 72869.6"
      ]
     },
     "metadata": {},
     "output_type": "display_data"
    },
    {
     "data": {
      "text/html": [
       "<pre>recommendations finished on 8000/13793 queries. users per second: 74793.6</pre>"
      ],
      "text/plain": [
       "recommendations finished on 8000/13793 queries. users per second: 74793.6"
      ]
     },
     "metadata": {},
     "output_type": "display_data"
    },
    {
     "data": {
      "text/html": [
       "<pre>recommendations finished on 9000/13793 queries. users per second: 79349.7</pre>"
      ],
      "text/plain": [
       "recommendations finished on 9000/13793 queries. users per second: 79349.7"
      ]
     },
     "metadata": {},
     "output_type": "display_data"
    },
    {
     "data": {
      "text/html": [
       "<pre>recommendations finished on 10000/13793 queries. users per second: 83703</pre>"
      ],
      "text/plain": [
       "recommendations finished on 10000/13793 queries. users per second: 83703"
      ]
     },
     "metadata": {},
     "output_type": "display_data"
    },
    {
     "data": {
      "text/html": [
       "<pre>recommendations finished on 11000/13793 queries. users per second: 86614.9</pre>"
      ],
      "text/plain": [
       "recommendations finished on 11000/13793 queries. users per second: 86614.9"
      ]
     },
     "metadata": {},
     "output_type": "display_data"
    },
    {
     "data": {
      "text/html": [
       "<pre>recommendations finished on 12000/13793 queries. users per second: 87179.5</pre>"
      ],
      "text/plain": [
       "recommendations finished on 12000/13793 queries. users per second: 87179.5"
      ]
     },
     "metadata": {},
     "output_type": "display_data"
    },
    {
     "data": {
      "text/html": [
       "<pre>recommendations finished on 13000/13793 queries. users per second: 86792.8</pre>"
      ],
      "text/plain": [
       "recommendations finished on 13000/13793 queries. users per second: 86792.8"
      ]
     },
     "metadata": {},
     "output_type": "display_data"
    },
    {
     "name": "stdout",
     "output_type": "stream",
     "text": [
      "\n",
      "Precision and recall summary statistics by cutoff\n",
      "+--------+-----------------+-----------------+\n",
      "| cutoff |  mean_precision |   mean_recall   |\n",
      "+--------+-----------------+-----------------+\n",
      "|   1    |  0.113970854781 | 0.0655918419101 |\n",
      "|   2    |  0.097005727543 |  0.110940480359 |\n",
      "|   3    | 0.0816356122671 |  0.138026707047 |\n",
      "|   4    | 0.0713767853259 |  0.159343143762 |\n",
      "|   5    | 0.0637714782861 |  0.177674091534 |\n",
      "|   6    | 0.0575895985887 |  0.191748708879 |\n",
      "|   7    | 0.0529150397199 |  0.205502260002 |\n",
      "|   8    | 0.0488925541942 |  0.216822297457 |\n",
      "|   9    | 0.0458847885804 |  0.227601200719 |\n",
      "|   10   | 0.0432465743493 |  0.237510971527 |\n",
      "+--------+-----------------+-----------------+\n",
      "[10 rows x 3 columns]\n",
      "\n",
      "\n",
      "Overall RMSE: 1.88995579038\n",
      "\n",
      "Per User RMSE (best)\n",
      "+------------+-------+---------------+\n",
      "| customerId | count |      rmse     |\n",
      "+------------+-------+---------------+\n",
      "|   19062    |   1   | 0.10503077507 |\n",
      "+------------+-------+---------------+\n",
      "[1 rows x 3 columns]\n",
      "\n",
      "\n",
      "Per User RMSE (worst)\n",
      "+------------+-------+---------------+\n",
      "| customerId | count |      rmse     |\n",
      "+------------+-------+---------------+\n",
      "|    1138    |   1   | 18.8989232045 |\n",
      "+------------+-------+---------------+\n",
      "[1 rows x 3 columns]\n",
      "\n",
      "\n",
      "Per Item RMSE (best)\n",
      "+-----------+-------+---------------+\n",
      "| productId | count |      rmse     |\n",
      "+-----------+-------+---------------+\n",
      "|    166    |   93  | 1.03871844177 |\n",
      "+-----------+-------+---------------+\n",
      "[1 rows x 3 columns]\n",
      "\n",
      "\n",
      "Per Item RMSE (worst)\n",
      "+-----------+-------+---------------+\n",
      "| productId | count |      rmse     |\n",
      "+-----------+-------+---------------+\n",
      "|    253    |   18  | 5.04575777106 |\n",
      "+-----------+-------+---------------+\n",
      "[1 rows x 3 columns]\n",
      "\n",
      "PROGRESS: Evaluate model Pearson Similarity on Purchase Counts\n"
     ]
    },
    {
     "data": {
      "text/html": [
       "<pre>recommendations finished on 1000/13793 queries. users per second: 157679</pre>"
      ],
      "text/plain": [
       "recommendations finished on 1000/13793 queries. users per second: 157679"
      ]
     },
     "metadata": {},
     "output_type": "display_data"
    },
    {
     "data": {
      "text/html": [
       "<pre>recommendations finished on 2000/13793 queries. users per second: 159046</pre>"
      ],
      "text/plain": [
       "recommendations finished on 2000/13793 queries. users per second: 159046"
      ]
     },
     "metadata": {},
     "output_type": "display_data"
    },
    {
     "data": {
      "text/html": [
       "<pre>recommendations finished on 3000/13793 queries. users per second: 151263</pre>"
      ],
      "text/plain": [
       "recommendations finished on 3000/13793 queries. users per second: 151263"
      ]
     },
     "metadata": {},
     "output_type": "display_data"
    },
    {
     "data": {
      "text/html": [
       "<pre>recommendations finished on 4000/13793 queries. users per second: 160765</pre>"
      ],
      "text/plain": [
       "recommendations finished on 4000/13793 queries. users per second: 160765"
      ]
     },
     "metadata": {},
     "output_type": "display_data"
    },
    {
     "data": {
      "text/html": [
       "<pre>recommendations finished on 5000/13793 queries. users per second: 154622</pre>"
      ],
      "text/plain": [
       "recommendations finished on 5000/13793 queries. users per second: 154622"
      ]
     },
     "metadata": {},
     "output_type": "display_data"
    },
    {
     "data": {
      "text/html": [
       "<pre>recommendations finished on 6000/13793 queries. users per second: 160518</pre>"
      ],
      "text/plain": [
       "recommendations finished on 6000/13793 queries. users per second: 160518"
      ]
     },
     "metadata": {},
     "output_type": "display_data"
    },
    {
     "data": {
      "text/html": [
       "<pre>recommendations finished on 7000/13793 queries. users per second: 161951</pre>"
      ],
      "text/plain": [
       "recommendations finished on 7000/13793 queries. users per second: 161951"
      ]
     },
     "metadata": {},
     "output_type": "display_data"
    },
    {
     "data": {
      "text/html": [
       "<pre>recommendations finished on 8000/13793 queries. users per second: 156320</pre>"
      ],
      "text/plain": [
       "recommendations finished on 8000/13793 queries. users per second: 156320"
      ]
     },
     "metadata": {},
     "output_type": "display_data"
    },
    {
     "data": {
      "text/html": [
       "<pre>recommendations finished on 9000/13793 queries. users per second: 156642</pre>"
      ],
      "text/plain": [
       "recommendations finished on 9000/13793 queries. users per second: 156642"
      ]
     },
     "metadata": {},
     "output_type": "display_data"
    },
    {
     "data": {
      "text/html": [
       "<pre>recommendations finished on 10000/13793 queries. users per second: 157154</pre>"
      ],
      "text/plain": [
       "recommendations finished on 10000/13793 queries. users per second: 157154"
      ]
     },
     "metadata": {},
     "output_type": "display_data"
    },
    {
     "data": {
      "text/html": [
       "<pre>recommendations finished on 11000/13793 queries. users per second: 158868</pre>"
      ],
      "text/plain": [
       "recommendations finished on 11000/13793 queries. users per second: 158868"
      ]
     },
     "metadata": {},
     "output_type": "display_data"
    },
    {
     "data": {
      "text/html": [
       "<pre>recommendations finished on 12000/13793 queries. users per second: 160832</pre>"
      ],
      "text/plain": [
       "recommendations finished on 12000/13793 queries. users per second: 160832"
      ]
     },
     "metadata": {},
     "output_type": "display_data"
    },
    {
     "data": {
      "text/html": [
       "<pre>recommendations finished on 13000/13793 queries. users per second: 154492</pre>"
      ],
      "text/plain": [
       "recommendations finished on 13000/13793 queries. users per second: 154492"
      ]
     },
     "metadata": {},
     "output_type": "display_data"
    },
    {
     "name": "stdout",
     "output_type": "stream",
     "text": [
      "\n",
      "Precision and recall summary statistics by cutoff\n",
      "+--------+------------------+-------------------+\n",
      "| cutoff |  mean_precision  |    mean_recall    |\n",
      "+--------+------------------+-------------------+\n",
      "|   1    | 0.00130500978757 | 0.000643701256331 |\n",
      "|   2    | 0.0034800261002  |  0.00378845623374 |\n",
      "|   3    | 0.00381836197105 |  0.00633722435744 |\n",
      "|   4    | 0.0078119335895  |  0.0177295366216  |\n",
      "|   5    | 0.0080475603567  |  0.0226118466877  |\n",
      "|   6    | 0.00680296768892 |  0.0229743494064  |\n",
      "|   7    | 0.00631790452714 |  0.0248355688962  |\n",
      "|   8    | 0.00587254404408 |  0.0263074162445  |\n",
      "|   9    | 0.00556643063712 |  0.0279378585324  |\n",
      "|   10   | 0.00535779018343 |  0.0300380439266  |\n",
      "+--------+------------------+-------------------+\n",
      "[10 rows x 3 columns]\n",
      "\n",
      "\n",
      "Overall RMSE: 1.03835316824\n",
      "\n",
      "Per User RMSE (best)\n",
      "+------------+-------+------------------+\n",
      "| customerId | count |       rmse       |\n",
      "+------------+-------+------------------+\n",
      "|   13424    |   1   | 4.4408920985e-16 |\n",
      "+------------+-------+------------------+\n",
      "[1 rows x 3 columns]\n",
      "\n",
      "\n",
      "Per User RMSE (worst)\n",
      "+------------+-------+---------------+\n",
      "| customerId | count |      rmse     |\n",
      "+------------+-------+---------------+\n",
      "|    1138    |   1   | 16.9851293747 |\n",
      "+------------+-------+---------------+\n",
      "[1 rows x 3 columns]\n",
      "\n",
      "\n",
      "Per Item RMSE (best)\n",
      "+-----------+-------+----------------+\n",
      "| productId | count |      rmse      |\n",
      "+-----------+-------+----------------+\n",
      "|    166    |   93  | 0.269978903399 |\n",
      "+-----------+-------+----------------+\n",
      "[1 rows x 3 columns]\n",
      "\n",
      "\n",
      "Per Item RMSE (worst)\n",
      "+-----------+-------+---------------+\n",
      "| productId | count |      rmse     |\n",
      "+-----------+-------+---------------+\n",
      "|     47    |  144  | 4.73551196806 |\n",
      "+-----------+-------+---------------+\n",
      "[1 rows x 3 columns]\n",
      "\n"
     ]
    }
   ],
   "source": [
    "eval_counts = tc.recommender.util.compare_models(test_data, models_w_counts, model_names=names_w_counts)"
   ]
  },
  {
   "cell_type": "code",
   "execution_count": 37,
   "metadata": {},
   "outputs": [
    {
     "name": "stdout",
     "output_type": "stream",
     "text": [
      "PROGRESS: Evaluate model Popularity Model on Purchase Dummy\n"
     ]
    },
    {
     "data": {
      "text/html": [
       "<pre>recommendations finished on 1000/13804 queries. users per second: 161943</pre>"
      ],
      "text/plain": [
       "recommendations finished on 1000/13804 queries. users per second: 161943"
      ]
     },
     "metadata": {},
     "output_type": "display_data"
    },
    {
     "data": {
      "text/html": [
       "<pre>recommendations finished on 2000/13804 queries. users per second: 179565</pre>"
      ],
      "text/plain": [
       "recommendations finished on 2000/13804 queries. users per second: 179565"
      ]
     },
     "metadata": {},
     "output_type": "display_data"
    },
    {
     "data": {
      "text/html": [
       "<pre>recommendations finished on 3000/13804 queries. users per second: 181807</pre>"
      ],
      "text/plain": [
       "recommendations finished on 3000/13804 queries. users per second: 181807"
      ]
     },
     "metadata": {},
     "output_type": "display_data"
    },
    {
     "data": {
      "text/html": [
       "<pre>recommendations finished on 4000/13804 queries. users per second: 190042</pre>"
      ],
      "text/plain": [
       "recommendations finished on 4000/13804 queries. users per second: 190042"
      ]
     },
     "metadata": {},
     "output_type": "display_data"
    },
    {
     "data": {
      "text/html": [
       "<pre>recommendations finished on 5000/13804 queries. users per second: 199681</pre>"
      ],
      "text/plain": [
       "recommendations finished on 5000/13804 queries. users per second: 199681"
      ]
     },
     "metadata": {},
     "output_type": "display_data"
    },
    {
     "data": {
      "text/html": [
       "<pre>recommendations finished on 6000/13804 queries. users per second: 197902</pre>"
      ],
      "text/plain": [
       "recommendations finished on 6000/13804 queries. users per second: 197902"
      ]
     },
     "metadata": {},
     "output_type": "display_data"
    },
    {
     "data": {
      "text/html": [
       "<pre>recommendations finished on 7000/13804 queries. users per second: 198931</pre>"
      ],
      "text/plain": [
       "recommendations finished on 7000/13804 queries. users per second: 198931"
      ]
     },
     "metadata": {},
     "output_type": "display_data"
    },
    {
     "data": {
      "text/html": [
       "<pre>recommendations finished on 8000/13804 queries. users per second: 200602</pre>"
      ],
      "text/plain": [
       "recommendations finished on 8000/13804 queries. users per second: 200602"
      ]
     },
     "metadata": {},
     "output_type": "display_data"
    },
    {
     "data": {
      "text/html": [
       "<pre>recommendations finished on 9000/13804 queries. users per second: 200727</pre>"
      ],
      "text/plain": [
       "recommendations finished on 9000/13804 queries. users per second: 200727"
      ]
     },
     "metadata": {},
     "output_type": "display_data"
    },
    {
     "data": {
      "text/html": [
       "<pre>recommendations finished on 10000/13804 queries. users per second: 196359</pre>"
      ],
      "text/plain": [
       "recommendations finished on 10000/13804 queries. users per second: 196359"
      ]
     },
     "metadata": {},
     "output_type": "display_data"
    },
    {
     "data": {
      "text/html": [
       "<pre>recommendations finished on 11000/13804 queries. users per second: 189691</pre>"
      ],
      "text/plain": [
       "recommendations finished on 11000/13804 queries. users per second: 189691"
      ]
     },
     "metadata": {},
     "output_type": "display_data"
    },
    {
     "data": {
      "text/html": [
       "<pre>recommendations finished on 12000/13804 queries. users per second: 183425</pre>"
      ],
      "text/plain": [
       "recommendations finished on 12000/13804 queries. users per second: 183425"
      ]
     },
     "metadata": {},
     "output_type": "display_data"
    },
    {
     "data": {
      "text/html": [
       "<pre>recommendations finished on 13000/13804 queries. users per second: 176147</pre>"
      ],
      "text/plain": [
       "recommendations finished on 13000/13804 queries. users per second: 176147"
      ]
     },
     "metadata": {},
     "output_type": "display_data"
    },
    {
     "name": "stdout",
     "output_type": "stream",
     "text": [
      "\n",
      "Precision and recall summary statistics by cutoff\n",
      "+--------+------------------+------------------+\n",
      "| cutoff |  mean_precision  |   mean_recall    |\n",
      "+--------+------------------+------------------+\n",
      "|   1    | 0.00637496377861 | 0.00292967761817 |\n",
      "|   2    | 0.00525210084034 | 0.0050043868122  |\n",
      "|   3    | 0.00521587945523 | 0.00779943277046 |\n",
      "|   4    | 0.00519776876268 | 0.0106225619116  |\n",
      "|   5    | 0.00482468849609 | 0.0124753388314  |\n",
      "|   6    | 0.0046242634985  | 0.0146713321712  |\n",
      "|   7    | 0.0045742434905  | 0.0169870573119  |\n",
      "|   8    | 0.00448239640684 | 0.0191411948289  |\n",
      "|   9    | 0.00457999291671 | 0.0220672790557  |\n",
      "|   10   | 0.00464358157056 | 0.0247319969805  |\n",
      "+--------+------------------+------------------+\n",
      "[10 rows x 3 columns]\n",
      "\n",
      "\n",
      "Overall RMSE: 0.0\n",
      "\n",
      "Per User RMSE (best)\n",
      "+------------+-------+------+\n",
      "| customerId | count | rmse |\n",
      "+------------+-------+------+\n",
      "|    3006    |   1   | 0.0  |\n",
      "+------------+-------+------+\n",
      "[1 rows x 3 columns]\n",
      "\n",
      "\n",
      "Per User RMSE (worst)\n",
      "+------------+-------+------+\n",
      "| customerId | count | rmse |\n",
      "+------------+-------+------+\n",
      "|    7899    |   1   | 0.0  |\n",
      "+------------+-------+------+\n",
      "[1 rows x 3 columns]\n",
      "\n",
      "\n",
      "Per Item RMSE (best)\n",
      "+-----------+-------+------+\n",
      "| productId | count | rmse |\n",
      "+-----------+-------+------+\n",
      "|    256    |   55  | 0.0  |\n",
      "+-----------+-------+------+\n",
      "[1 rows x 3 columns]\n",
      "\n",
      "\n",
      "Per Item RMSE (worst)\n",
      "+-----------+-------+------+\n",
      "| productId | count | rmse |\n",
      "+-----------+-------+------+\n",
      "|    217    |   48  | 0.0  |\n",
      "+-----------+-------+------+\n",
      "[1 rows x 3 columns]\n",
      "\n",
      "PROGRESS: Evaluate model Cosine Similarity on Purchase Dummy\n"
     ]
    },
    {
     "data": {
      "text/html": [
       "<pre>recommendations finished on 1000/13804 queries. users per second: 178763</pre>"
      ],
      "text/plain": [
       "recommendations finished on 1000/13804 queries. users per second: 178763"
      ]
     },
     "metadata": {},
     "output_type": "display_data"
    },
    {
     "data": {
      "text/html": [
       "<pre>recommendations finished on 2000/13804 queries. users per second: 173400</pre>"
      ],
      "text/plain": [
       "recommendations finished on 2000/13804 queries. users per second: 173400"
      ]
     },
     "metadata": {},
     "output_type": "display_data"
    },
    {
     "data": {
      "text/html": [
       "<pre>recommendations finished on 3000/13804 queries. users per second: 160128</pre>"
      ],
      "text/plain": [
       "recommendations finished on 3000/13804 queries. users per second: 160128"
      ]
     },
     "metadata": {},
     "output_type": "display_data"
    },
    {
     "data": {
      "text/html": [
       "<pre>recommendations finished on 4000/13804 queries. users per second: 156850</pre>"
      ],
      "text/plain": [
       "recommendations finished on 4000/13804 queries. users per second: 156850"
      ]
     },
     "metadata": {},
     "output_type": "display_data"
    },
    {
     "data": {
      "text/html": [
       "<pre>recommendations finished on 5000/13804 queries. users per second: 163666</pre>"
      ],
      "text/plain": [
       "recommendations finished on 5000/13804 queries. users per second: 163666"
      ]
     },
     "metadata": {},
     "output_type": "display_data"
    },
    {
     "data": {
      "text/html": [
       "<pre>recommendations finished on 6000/13804 queries. users per second: 159642</pre>"
      ],
      "text/plain": [
       "recommendations finished on 6000/13804 queries. users per second: 159642"
      ]
     },
     "metadata": {},
     "output_type": "display_data"
    },
    {
     "data": {
      "text/html": [
       "<pre>recommendations finished on 7000/13804 queries. users per second: 152492</pre>"
      ],
      "text/plain": [
       "recommendations finished on 7000/13804 queries. users per second: 152492"
      ]
     },
     "metadata": {},
     "output_type": "display_data"
    },
    {
     "data": {
      "text/html": [
       "<pre>recommendations finished on 8000/13804 queries. users per second: 148519</pre>"
      ],
      "text/plain": [
       "recommendations finished on 8000/13804 queries. users per second: 148519"
      ]
     },
     "metadata": {},
     "output_type": "display_data"
    },
    {
     "data": {
      "text/html": [
       "<pre>recommendations finished on 9000/13804 queries. users per second: 149007</pre>"
      ],
      "text/plain": [
       "recommendations finished on 9000/13804 queries. users per second: 149007"
      ]
     },
     "metadata": {},
     "output_type": "display_data"
    },
    {
     "data": {
      "text/html": [
       "<pre>recommendations finished on 10000/13804 queries. users per second: 149519</pre>"
      ],
      "text/plain": [
       "recommendations finished on 10000/13804 queries. users per second: 149519"
      ]
     },
     "metadata": {},
     "output_type": "display_data"
    },
    {
     "data": {
      "text/html": [
       "<pre>recommendations finished on 11000/13804 queries. users per second: 150906</pre>"
      ],
      "text/plain": [
       "recommendations finished on 11000/13804 queries. users per second: 150906"
      ]
     },
     "metadata": {},
     "output_type": "display_data"
    },
    {
     "data": {
      "text/html": [
       "<pre>recommendations finished on 12000/13804 queries. users per second: 147057</pre>"
      ],
      "text/plain": [
       "recommendations finished on 12000/13804 queries. users per second: 147057"
      ]
     },
     "metadata": {},
     "output_type": "display_data"
    },
    {
     "data": {
      "text/html": [
       "<pre>recommendations finished on 13000/13804 queries. users per second: 141105</pre>"
      ],
      "text/plain": [
       "recommendations finished on 13000/13804 queries. users per second: 141105"
      ]
     },
     "metadata": {},
     "output_type": "display_data"
    },
    {
     "name": "stdout",
     "output_type": "stream",
     "text": [
      "\n",
      "Precision and recall summary statistics by cutoff\n",
      "+--------+-----------------+-----------------+\n",
      "| cutoff |  mean_precision |   mean_recall   |\n",
      "+--------+-----------------+-----------------+\n",
      "|   1    |  0.123007823819 | 0.0718950195624 |\n",
      "|   2    |  0.098630831643 |  0.111618607397 |\n",
      "|   3    | 0.0823432821404 |  0.137143583081 |\n",
      "|   4    | 0.0724971022892 |  0.158122499877 |\n",
      "|   5    | 0.0640683859751 |  0.173501175512 |\n",
      "|   6    | 0.0580991017096 |  0.188590759405 |\n",
      "|   7    | 0.0531315974666 |  0.200865957494 |\n",
      "|   8    | 0.0490980875109 |  0.211680765392 |\n",
      "|   9    | 0.0459689622976 |  0.222555168053 |\n",
      "|   10   | 0.0432410895393 |  0.232054052005 |\n",
      "+--------+-----------------+-----------------+\n",
      "[10 rows x 3 columns]\n",
      "\n",
      "\n",
      "Overall RMSE: 0.969255919449\n",
      "\n",
      "Per User RMSE (best)\n",
      "+------------+-------+----------------+\n",
      "| customerId | count |      rmse      |\n",
      "+------------+-------+----------------+\n",
      "|   22278    |   1   | 0.530925393105 |\n",
      "+------------+-------+----------------+\n",
      "[1 rows x 3 columns]\n",
      "\n",
      "\n",
      "Per User RMSE (worst)\n",
      "+------------+-------+------+\n",
      "| customerId | count | rmse |\n",
      "+------------+-------+------+\n",
      "|    7899    |   1   | 1.0  |\n",
      "+------------+-------+------+\n",
      "[1 rows x 3 columns]\n",
      "\n",
      "\n",
      "Per Item RMSE (best)\n",
      "+-----------+-------+----------------+\n",
      "| productId | count |      rmse      |\n",
      "+-----------+-------+----------------+\n",
      "|     8     |  216  | 0.878885750301 |\n",
      "+-----------+-------+----------------+\n",
      "[1 rows x 3 columns]\n",
      "\n",
      "\n",
      "Per Item RMSE (worst)\n",
      "+-----------+-------+----------------+\n",
      "| productId | count |      rmse      |\n",
      "+-----------+-------+----------------+\n",
      "|    252    |   9   | 0.999706067884 |\n",
      "+-----------+-------+----------------+\n",
      "[1 rows x 3 columns]\n",
      "\n",
      "PROGRESS: Evaluate model Pearson Similarity on Purchase Dummy\n"
     ]
    },
    {
     "data": {
      "text/html": [
       "<pre>recommendations finished on 1000/13804 queries. users per second: 176866</pre>"
      ],
      "text/plain": [
       "recommendations finished on 1000/13804 queries. users per second: 176866"
      ]
     },
     "metadata": {},
     "output_type": "display_data"
    },
    {
     "data": {
      "text/html": [
       "<pre>recommendations finished on 2000/13804 queries. users per second: 193480</pre>"
      ],
      "text/plain": [
       "recommendations finished on 2000/13804 queries. users per second: 193480"
      ]
     },
     "metadata": {},
     "output_type": "display_data"
    },
    {
     "data": {
      "text/html": [
       "<pre>recommendations finished on 3000/13804 queries. users per second: 206725</pre>"
      ],
      "text/plain": [
       "recommendations finished on 3000/13804 queries. users per second: 206725"
      ]
     },
     "metadata": {},
     "output_type": "display_data"
    },
    {
     "data": {
      "text/html": [
       "<pre>recommendations finished on 4000/13804 queries. users per second: 203521</pre>"
      ],
      "text/plain": [
       "recommendations finished on 4000/13804 queries. users per second: 203521"
      ]
     },
     "metadata": {},
     "output_type": "display_data"
    },
    {
     "data": {
      "text/html": [
       "<pre>recommendations finished on 5000/13804 queries. users per second: 206834</pre>"
      ],
      "text/plain": [
       "recommendations finished on 5000/13804 queries. users per second: 206834"
      ]
     },
     "metadata": {},
     "output_type": "display_data"
    },
    {
     "data": {
      "text/html": [
       "<pre>recommendations finished on 6000/13804 queries. users per second: 207347</pre>"
      ],
      "text/plain": [
       "recommendations finished on 6000/13804 queries. users per second: 207347"
      ]
     },
     "metadata": {},
     "output_type": "display_data"
    },
    {
     "data": {
      "text/html": [
       "<pre>recommendations finished on 7000/13804 queries. users per second: 210793</pre>"
      ],
      "text/plain": [
       "recommendations finished on 7000/13804 queries. users per second: 210793"
      ]
     },
     "metadata": {},
     "output_type": "display_data"
    },
    {
     "data": {
      "text/html": [
       "<pre>recommendations finished on 8000/13804 queries. users per second: 205492</pre>"
      ],
      "text/plain": [
       "recommendations finished on 8000/13804 queries. users per second: 205492"
      ]
     },
     "metadata": {},
     "output_type": "display_data"
    },
    {
     "data": {
      "text/html": [
       "<pre>recommendations finished on 9000/13804 queries. users per second: 203192</pre>"
      ],
      "text/plain": [
       "recommendations finished on 9000/13804 queries. users per second: 203192"
      ]
     },
     "metadata": {},
     "output_type": "display_data"
    },
    {
     "data": {
      "text/html": [
       "<pre>recommendations finished on 10000/13804 queries. users per second: 205524</pre>"
      ],
      "text/plain": [
       "recommendations finished on 10000/13804 queries. users per second: 205524"
      ]
     },
     "metadata": {},
     "output_type": "display_data"
    },
    {
     "data": {
      "text/html": [
       "<pre>recommendations finished on 11000/13804 queries. users per second: 206507</pre>"
      ],
      "text/plain": [
       "recommendations finished on 11000/13804 queries. users per second: 206507"
      ]
     },
     "metadata": {},
     "output_type": "display_data"
    },
    {
     "data": {
      "text/html": [
       "<pre>recommendations finished on 12000/13804 queries. users per second: 200043</pre>"
      ],
      "text/plain": [
       "recommendations finished on 12000/13804 queries. users per second: 200043"
      ]
     },
     "metadata": {},
     "output_type": "display_data"
    },
    {
     "data": {
      "text/html": [
       "<pre>recommendations finished on 13000/13804 queries. users per second: 195345</pre>"
      ],
      "text/plain": [
       "recommendations finished on 13000/13804 queries. users per second: 195345"
      ]
     },
     "metadata": {},
     "output_type": "display_data"
    },
    {
     "name": "stdout",
     "output_type": "stream",
     "text": [
      "\n",
      "Precision and recall summary statistics by cutoff\n",
      "+--------+------------------+------------------+\n",
      "| cutoff |  mean_precision  |   mean_recall    |\n",
      "+--------+------------------+------------------+\n",
      "|   1    | 0.00637496377861 | 0.00292967761817 |\n",
      "|   2    | 0.00525210084034 | 0.0050043868122  |\n",
      "|   3    | 0.00521587945523 | 0.00779943277046 |\n",
      "|   4    | 0.00519776876268 | 0.0106225619116  |\n",
      "|   5    | 0.00482468849609 | 0.0124753388314  |\n",
      "|   6    | 0.0046242634985  | 0.0146713321712  |\n",
      "|   7    | 0.0045742434905  | 0.0169870573119  |\n",
      "|   8    | 0.00448239640684 | 0.0191411948289  |\n",
      "|   9    | 0.00457999291671 | 0.0220672790557  |\n",
      "|   10   | 0.00464358157056 | 0.0247319969805  |\n",
      "+--------+------------------+------------------+\n",
      "[10 rows x 3 columns]\n",
      "\n",
      "\n",
      "Overall RMSE: 1.0\n",
      "\n",
      "Per User RMSE (best)\n",
      "+------------+-------+------+\n",
      "| customerId | count | rmse |\n",
      "+------------+-------+------+\n",
      "|    3006    |   1   | 1.0  |\n",
      "+------------+-------+------+\n",
      "[1 rows x 3 columns]\n",
      "\n",
      "\n",
      "Per User RMSE (worst)\n",
      "+------------+-------+------+\n",
      "| customerId | count | rmse |\n",
      "+------------+-------+------+\n",
      "|    7899    |   1   | 1.0  |\n",
      "+------------+-------+------+\n",
      "[1 rows x 3 columns]\n",
      "\n",
      "\n",
      "Per Item RMSE (best)\n",
      "+-----------+-------+------+\n",
      "| productId | count | rmse |\n",
      "+-----------+-------+------+\n",
      "|    256    |   55  | 1.0  |\n",
      "+-----------+-------+------+\n",
      "[1 rows x 3 columns]\n",
      "\n",
      "\n",
      "Per Item RMSE (worst)\n",
      "+-----------+-------+------+\n",
      "| productId | count | rmse |\n",
      "+-----------+-------+------+\n",
      "|    217    |   48  | 1.0  |\n",
      "+-----------+-------+------+\n",
      "[1 rows x 3 columns]\n",
      "\n"
     ]
    }
   ],
   "source": [
    "eval_dummy = tc.recommender.util.compare_models(test_data_dummy, models_w_dummy, model_names=names_w_dummy)"
   ]
  },
  {
   "cell_type": "code",
   "execution_count": 38,
   "metadata": {},
   "outputs": [
    {
     "name": "stdout",
     "output_type": "stream",
     "text": [
      "PROGRESS: Evaluate model Popularity Model on Scaled Purchase Counts\n"
     ]
    },
    {
     "data": {
      "text/html": [
       "<pre>recommendations finished on 1000/13859 queries. users per second: 143431</pre>"
      ],
      "text/plain": [
       "recommendations finished on 1000/13859 queries. users per second: 143431"
      ]
     },
     "metadata": {},
     "output_type": "display_data"
    },
    {
     "data": {
      "text/html": [
       "<pre>recommendations finished on 2000/13859 queries. users per second: 165975</pre>"
      ],
      "text/plain": [
       "recommendations finished on 2000/13859 queries. users per second: 165975"
      ]
     },
     "metadata": {},
     "output_type": "display_data"
    },
    {
     "data": {
      "text/html": [
       "<pre>recommendations finished on 3000/13859 queries. users per second: 174510</pre>"
      ],
      "text/plain": [
       "recommendations finished on 3000/13859 queries. users per second: 174510"
      ]
     },
     "metadata": {},
     "output_type": "display_data"
    },
    {
     "data": {
      "text/html": [
       "<pre>recommendations finished on 4000/13859 queries. users per second: 174634</pre>"
      ],
      "text/plain": [
       "recommendations finished on 4000/13859 queries. users per second: 174634"
      ]
     },
     "metadata": {},
     "output_type": "display_data"
    },
    {
     "data": {
      "text/html": [
       "<pre>recommendations finished on 5000/13859 queries. users per second: 177708</pre>"
      ],
      "text/plain": [
       "recommendations finished on 5000/13859 queries. users per second: 177708"
      ]
     },
     "metadata": {},
     "output_type": "display_data"
    },
    {
     "data": {
      "text/html": [
       "<pre>recommendations finished on 6000/13859 queries. users per second: 176762</pre>"
      ],
      "text/plain": [
       "recommendations finished on 6000/13859 queries. users per second: 176762"
      ]
     },
     "metadata": {},
     "output_type": "display_data"
    },
    {
     "data": {
      "text/html": [
       "<pre>recommendations finished on 7000/13859 queries. users per second: 171443</pre>"
      ],
      "text/plain": [
       "recommendations finished on 7000/13859 queries. users per second: 171443"
      ]
     },
     "metadata": {},
     "output_type": "display_data"
    },
    {
     "data": {
      "text/html": [
       "<pre>recommendations finished on 8000/13859 queries. users per second: 173879</pre>"
      ],
      "text/plain": [
       "recommendations finished on 8000/13859 queries. users per second: 173879"
      ]
     },
     "metadata": {},
     "output_type": "display_data"
    },
    {
     "data": {
      "text/html": [
       "<pre>recommendations finished on 9000/13859 queries. users per second: 172586</pre>"
      ],
      "text/plain": [
       "recommendations finished on 9000/13859 queries. users per second: 172586"
      ]
     },
     "metadata": {},
     "output_type": "display_data"
    },
    {
     "data": {
      "text/html": [
       "<pre>recommendations finished on 10000/13859 queries. users per second: 175929</pre>"
      ],
      "text/plain": [
       "recommendations finished on 10000/13859 queries. users per second: 175929"
      ]
     },
     "metadata": {},
     "output_type": "display_data"
    },
    {
     "data": {
      "text/html": [
       "<pre>recommendations finished on 11000/13859 queries. users per second: 174445</pre>"
      ],
      "text/plain": [
       "recommendations finished on 11000/13859 queries. users per second: 174445"
      ]
     },
     "metadata": {},
     "output_type": "display_data"
    },
    {
     "data": {
      "text/html": [
       "<pre>recommendations finished on 12000/13859 queries. users per second: 170126</pre>"
      ],
      "text/plain": [
       "recommendations finished on 12000/13859 queries. users per second: 170126"
      ]
     },
     "metadata": {},
     "output_type": "display_data"
    },
    {
     "data": {
      "text/html": [
       "<pre>recommendations finished on 13000/13859 queries. users per second: 156645</pre>"
      ],
      "text/plain": [
       "recommendations finished on 13000/13859 queries. users per second: 156645"
      ]
     },
     "metadata": {},
     "output_type": "display_data"
    },
    {
     "name": "stdout",
     "output_type": "stream",
     "text": [
      "\n",
      "Precision and recall summary statistics by cutoff\n",
      "+--------+------------------+------------------+\n",
      "| cutoff |  mean_precision  |   mean_recall    |\n",
      "+--------+------------------+------------------+\n",
      "|   1    | 0.00238112417923 |  0.001102859067  |\n",
      "|   2    | 0.00223681362292 | 0.00202838926953 |\n",
      "|   3    | 0.00223681362292 | 0.00350825966491 |\n",
      "|   4    | 0.00214661952522 | 0.00491356960619 |\n",
      "|   5    | 0.0018183130096  | 0.00520047273601 |\n",
      "|   6    | 0.00202034778844 | 0.00718113512146 |\n",
      "|   7    | 0.00296867430138 | 0.0118756949571  |\n",
      "|   8    | 0.00285013348726 | 0.0128336869907  |\n",
      "|   9    | 0.00281405584819 | 0.0140750969665  |\n",
      "|   10   | 0.00272025398658 | 0.0151130162832  |\n",
      "+--------+------------------+------------------+\n",
      "[10 rows x 3 columns]\n",
      "\n",
      "\n",
      "Overall RMSE: 0.134791699842\n",
      "\n",
      "Per User RMSE (best)\n",
      "+------------+-------+-------------------+\n",
      "| customerId | count |        rmse       |\n",
      "+------------+-------+-------------------+\n",
      "|    8671    |   1   | 0.000384050604314 |\n",
      "+------------+-------+-------------------+\n",
      "[1 rows x 3 columns]\n",
      "\n",
      "\n",
      "Per User RMSE (worst)\n",
      "+------------+-------+----------------+\n",
      "| customerId | count |      rmse      |\n",
      "+------------+-------+----------------+\n",
      "|   22548    |   1   | 0.959349593496 |\n",
      "+------------+-------+----------------+\n",
      "[1 rows x 3 columns]\n",
      "\n",
      "\n",
      "Per Item RMSE (best)\n",
      "+-----------+-------+-----------------+\n",
      "| productId | count |       rmse      |\n",
      "+-----------+-------+-----------------+\n",
      "|     47    |  106  | 0.0115872422391 |\n",
      "+-----------+-------+-----------------+\n",
      "[1 rows x 3 columns]\n",
      "\n",
      "\n",
      "Per Item RMSE (worst)\n",
      "+-----------+-------+----------------+\n",
      "| productId | count |      rmse      |\n",
      "+-----------+-------+----------------+\n",
      "|    226    |   33  | 0.412109862342 |\n",
      "+-----------+-------+----------------+\n",
      "[1 rows x 3 columns]\n",
      "\n",
      "PROGRESS: Evaluate model Cosine Similarity on Scaled Purchase Counts\n"
     ]
    },
    {
     "data": {
      "text/html": [
       "<pre>recommendations finished on 1000/13859 queries. users per second: 161238</pre>"
      ],
      "text/plain": [
       "recommendations finished on 1000/13859 queries. users per second: 161238"
      ]
     },
     "metadata": {},
     "output_type": "display_data"
    },
    {
     "data": {
      "text/html": [
       "<pre>recommendations finished on 2000/13859 queries. users per second: 165948</pre>"
      ],
      "text/plain": [
       "recommendations finished on 2000/13859 queries. users per second: 165948"
      ]
     },
     "metadata": {},
     "output_type": "display_data"
    },
    {
     "data": {
      "text/html": [
       "<pre>recommendations finished on 3000/13859 queries. users per second: 174014</pre>"
      ],
      "text/plain": [
       "recommendations finished on 3000/13859 queries. users per second: 174014"
      ]
     },
     "metadata": {},
     "output_type": "display_data"
    },
    {
     "data": {
      "text/html": [
       "<pre>recommendations finished on 4000/13859 queries. users per second: 171541</pre>"
      ],
      "text/plain": [
       "recommendations finished on 4000/13859 queries. users per second: 171541"
      ]
     },
     "metadata": {},
     "output_type": "display_data"
    },
    {
     "data": {
      "text/html": [
       "<pre>recommendations finished on 5000/13859 queries. users per second: 176897</pre>"
      ],
      "text/plain": [
       "recommendations finished on 5000/13859 queries. users per second: 176897"
      ]
     },
     "metadata": {},
     "output_type": "display_data"
    },
    {
     "data": {
      "text/html": [
       "<pre>recommendations finished on 6000/13859 queries. users per second: 172330</pre>"
      ],
      "text/plain": [
       "recommendations finished on 6000/13859 queries. users per second: 172330"
      ]
     },
     "metadata": {},
     "output_type": "display_data"
    },
    {
     "data": {
      "text/html": [
       "<pre>recommendations finished on 7000/13859 queries. users per second: 167033</pre>"
      ],
      "text/plain": [
       "recommendations finished on 7000/13859 queries. users per second: 167033"
      ]
     },
     "metadata": {},
     "output_type": "display_data"
    },
    {
     "data": {
      "text/html": [
       "<pre>recommendations finished on 8000/13859 queries. users per second: 170419</pre>"
      ],
      "text/plain": [
       "recommendations finished on 8000/13859 queries. users per second: 170419"
      ]
     },
     "metadata": {},
     "output_type": "display_data"
    },
    {
     "data": {
      "text/html": [
       "<pre>recommendations finished on 9000/13859 queries. users per second: 170888</pre>"
      ],
      "text/plain": [
       "recommendations finished on 9000/13859 queries. users per second: 170888"
      ]
     },
     "metadata": {},
     "output_type": "display_data"
    },
    {
     "data": {
      "text/html": [
       "<pre>recommendations finished on 10000/13859 queries. users per second: 164382</pre>"
      ],
      "text/plain": [
       "recommendations finished on 10000/13859 queries. users per second: 164382"
      ]
     },
     "metadata": {},
     "output_type": "display_data"
    },
    {
     "data": {
      "text/html": [
       "<pre>recommendations finished on 11000/13859 queries. users per second: 153135</pre>"
      ],
      "text/plain": [
       "recommendations finished on 11000/13859 queries. users per second: 153135"
      ]
     },
     "metadata": {},
     "output_type": "display_data"
    },
    {
     "data": {
      "text/html": [
       "<pre>recommendations finished on 12000/13859 queries. users per second: 150497</pre>"
      ],
      "text/plain": [
       "recommendations finished on 12000/13859 queries. users per second: 150497"
      ]
     },
     "metadata": {},
     "output_type": "display_data"
    },
    {
     "data": {
      "text/html": [
       "<pre>recommendations finished on 13000/13859 queries. users per second: 147843</pre>"
      ],
      "text/plain": [
       "recommendations finished on 13000/13859 queries. users per second: 147843"
      ]
     },
     "metadata": {},
     "output_type": "display_data"
    },
    {
     "name": "stdout",
     "output_type": "stream",
     "text": [
      "\n",
      "Precision and recall summary statistics by cutoff\n",
      "+--------+-----------------+-----------------+\n",
      "| cutoff |  mean_precision |   mean_recall   |\n",
      "+--------+-----------------+-----------------+\n",
      "|   1    | 0.0654448372898 | 0.0382332472788 |\n",
      "|   2    | 0.0523847319431 | 0.0593816341318 |\n",
      "|   3    | 0.0445438583832 |  0.073133988734 |\n",
      "|   4    | 0.0397214806263 | 0.0857406778641 |\n",
      "|   5    | 0.0356158452991 |  0.094765762884 |\n",
      "|   6    | 0.0324698751714 |  0.103313987234 |\n",
      "|   7    | 0.0302536773422 |  0.111959020717 |\n",
      "|   8    | 0.0284381990043 |  0.119915711076 |\n",
      "|   9    | 0.0268978842469 |  0.127498751758 |\n",
      "|   10   | 0.0255790461072 |  0.134194515653 |\n",
      "+--------+-----------------+-----------------+\n",
      "[10 rows x 3 columns]\n",
      "\n",
      "\n",
      "Overall RMSE: 0.161978582093\n",
      "\n",
      "Per User RMSE (best)\n",
      "+------------+-------+------+\n",
      "| customerId | count | rmse |\n",
      "+------------+-------+------+\n",
      "|    4836    |   1   | 0.0  |\n",
      "+------------+-------+------+\n",
      "[1 rows x 3 columns]\n",
      "\n",
      "\n",
      "Per User RMSE (worst)\n",
      "+------------+-------+------+\n",
      "| customerId | count | rmse |\n",
      "+------------+-------+------+\n",
      "|   18898    |   1   | 1.0  |\n",
      "+------------+-------+------+\n",
      "[1 rows x 3 columns]\n",
      "\n",
      "\n",
      "Per Item RMSE (best)\n",
      "+-----------+-------+-----------------+\n",
      "| productId | count |       rmse      |\n",
      "+-----------+-------+-----------------+\n",
      "|     47    |  106  | 0.0120792924531 |\n",
      "+-----------+-------+-----------------+\n",
      "[1 rows x 3 columns]\n",
      "\n",
      "\n",
      "Per Item RMSE (worst)\n",
      "+-----------+-------+---------------+\n",
      "| productId | count |      rmse     |\n",
      "+-----------+-------+---------------+\n",
      "|    226    |   33  | 0.84632669611 |\n",
      "+-----------+-------+---------------+\n",
      "[1 rows x 3 columns]\n",
      "\n",
      "PROGRESS: Evaluate model Pearson Similarity on Scaled Purchase Counts\n"
     ]
    },
    {
     "data": {
      "text/html": [
       "<pre>recommendations finished on 1000/13859 queries. users per second: 128617</pre>"
      ],
      "text/plain": [
       "recommendations finished on 1000/13859 queries. users per second: 128617"
      ]
     },
     "metadata": {},
     "output_type": "display_data"
    },
    {
     "data": {
      "text/html": [
       "<pre>recommendations finished on 2000/13859 queries. users per second: 136064</pre>"
      ],
      "text/plain": [
       "recommendations finished on 2000/13859 queries. users per second: 136064"
      ]
     },
     "metadata": {},
     "output_type": "display_data"
    },
    {
     "data": {
      "text/html": [
       "<pre>recommendations finished on 3000/13859 queries. users per second: 130628</pre>"
      ],
      "text/plain": [
       "recommendations finished on 3000/13859 queries. users per second: 130628"
      ]
     },
     "metadata": {},
     "output_type": "display_data"
    },
    {
     "data": {
      "text/html": [
       "<pre>recommendations finished on 4000/13859 queries. users per second: 135067</pre>"
      ],
      "text/plain": [
       "recommendations finished on 4000/13859 queries. users per second: 135067"
      ]
     },
     "metadata": {},
     "output_type": "display_data"
    },
    {
     "data": {
      "text/html": [
       "<pre>recommendations finished on 5000/13859 queries. users per second: 139907</pre>"
      ],
      "text/plain": [
       "recommendations finished on 5000/13859 queries. users per second: 139907"
      ]
     },
     "metadata": {},
     "output_type": "display_data"
    },
    {
     "data": {
      "text/html": [
       "<pre>recommendations finished on 6000/13859 queries. users per second: 141190</pre>"
      ],
      "text/plain": [
       "recommendations finished on 6000/13859 queries. users per second: 141190"
      ]
     },
     "metadata": {},
     "output_type": "display_data"
    },
    {
     "data": {
      "text/html": [
       "<pre>recommendations finished on 7000/13859 queries. users per second: 145679</pre>"
      ],
      "text/plain": [
       "recommendations finished on 7000/13859 queries. users per second: 145679"
      ]
     },
     "metadata": {},
     "output_type": "display_data"
    },
    {
     "data": {
      "text/html": [
       "<pre>recommendations finished on 8000/13859 queries. users per second: 146047</pre>"
      ],
      "text/plain": [
       "recommendations finished on 8000/13859 queries. users per second: 146047"
      ]
     },
     "metadata": {},
     "output_type": "display_data"
    },
    {
     "data": {
      "text/html": [
       "<pre>recommendations finished on 9000/13859 queries. users per second: 145506</pre>"
      ],
      "text/plain": [
       "recommendations finished on 9000/13859 queries. users per second: 145506"
      ]
     },
     "metadata": {},
     "output_type": "display_data"
    },
    {
     "data": {
      "text/html": [
       "<pre>recommendations finished on 10000/13859 queries. users per second: 148320</pre>"
      ],
      "text/plain": [
       "recommendations finished on 10000/13859 queries. users per second: 148320"
      ]
     },
     "metadata": {},
     "output_type": "display_data"
    },
    {
     "data": {
      "text/html": [
       "<pre>recommendations finished on 11000/13859 queries. users per second: 149130</pre>"
      ],
      "text/plain": [
       "recommendations finished on 11000/13859 queries. users per second: 149130"
      ]
     },
     "metadata": {},
     "output_type": "display_data"
    },
    {
     "data": {
      "text/html": [
       "<pre>recommendations finished on 12000/13859 queries. users per second: 148539</pre>"
      ],
      "text/plain": [
       "recommendations finished on 12000/13859 queries. users per second: 148539"
      ]
     },
     "metadata": {},
     "output_type": "display_data"
    },
    {
     "data": {
      "text/html": [
       "<pre>recommendations finished on 13000/13859 queries. users per second: 146373</pre>"
      ],
      "text/plain": [
       "recommendations finished on 13000/13859 queries. users per second: 146373"
      ]
     },
     "metadata": {},
     "output_type": "display_data"
    },
    {
     "name": "stdout",
     "output_type": "stream",
     "text": [
      "\n",
      "Precision and recall summary statistics by cutoff\n",
      "+--------+------------------+------------------+\n",
      "| cutoff |  mean_precision  |   mean_recall    |\n",
      "+--------+------------------+------------------+\n",
      "|   1    | 0.00238112417923 |  0.001102859067  |\n",
      "|   2    | 0.00223681362292 | 0.00202838926953 |\n",
      "|   3    | 0.00223681362292 | 0.00350825966491 |\n",
      "|   4    | 0.00214661952522 | 0.00491356960619 |\n",
      "|   5    | 0.0018183130096  | 0.00520047273601 |\n",
      "|   6    | 0.00203237366813 | 0.00725329039962 |\n",
      "|   7    | 0.00299959799202 | 0.0120440572728  |\n",
      "|   8    | 0.00285915289703 | 0.0129539457877  |\n",
      "|   9    | 0.00283810760757 | 0.0142735239815  |\n",
      "|   10   | 0.00275633162566 | 0.0153775856364  |\n",
      "+--------+------------------+------------------+\n",
      "[10 rows x 3 columns]\n",
      "\n",
      "\n",
      "Overall RMSE: 0.134493734496\n",
      "\n",
      "Per User RMSE (best)\n",
      "+------------+-------+-------------------+\n",
      "| customerId | count |        rmse       |\n",
      "+------------+-------+-------------------+\n",
      "|    5996    |   1   | 1.56759879118e-06 |\n",
      "+------------+-------+-------------------+\n",
      "[1 rows x 3 columns]\n",
      "\n",
      "\n",
      "Per User RMSE (worst)\n",
      "+------------+-------+----------------+\n",
      "| customerId | count |      rmse      |\n",
      "+------------+-------+----------------+\n",
      "|   22548    |   1   | 0.959349593496 |\n",
      "+------------+-------+----------------+\n",
      "[1 rows x 3 columns]\n",
      "\n",
      "\n",
      "Per Item RMSE (best)\n",
      "+-----------+-------+----------------+\n",
      "| productId | count |      rmse      |\n",
      "+-----------+-------+----------------+\n",
      "|     47    |  106  | 0.011135174624 |\n",
      "+-----------+-------+----------------+\n",
      "[1 rows x 3 columns]\n",
      "\n",
      "\n",
      "Per Item RMSE (worst)\n",
      "+-----------+-------+----------------+\n",
      "| productId | count |      rmse      |\n",
      "+-----------+-------+----------------+\n",
      "|    226    |   33  | 0.411991275583 |\n",
      "+-----------+-------+----------------+\n",
      "[1 rows x 3 columns]\n",
      "\n"
     ]
    }
   ],
   "source": [
    "eval_norm = tc.recommender.util.compare_models(test_data_norm, models_w_norm, model_names=names_w_norm)"
   ]
  },
  {
   "cell_type": "code",
   "execution_count": 39,
   "metadata": {},
   "outputs": [
    {
     "data": {
      "text/html": [
       "<pre>Warning: Ignoring columns purchase_count;</pre>"
      ],
      "text/plain": [
       "Warning: Ignoring columns purchase_count;"
      ]
     },
     "metadata": {},
     "output_type": "display_data"
    },
    {
     "data": {
      "text/html": [
       "<pre>    To use these columns in scoring predictions, use a model that allows the use of additional features.</pre>"
      ],
      "text/plain": [
       "    To use these columns in scoring predictions, use a model that allows the use of additional features."
      ]
     },
     "metadata": {},
     "output_type": "display_data"
    },
    {
     "data": {
      "text/html": [
       "<pre>Preparing data set.</pre>"
      ],
      "text/plain": [
       "Preparing data set."
      ]
     },
     "metadata": {},
     "output_type": "display_data"
    },
    {
     "data": {
      "text/html": [
       "<pre>    Data has 133585 observations with 24429 users and 300 items.</pre>"
      ],
      "text/plain": [
       "    Data has 133585 observations with 24429 users and 300 items."
      ]
     },
     "metadata": {},
     "output_type": "display_data"
    },
    {
     "data": {
      "text/html": [
       "<pre>    Data prepared in: 0.058597s</pre>"
      ],
      "text/plain": [
       "    Data prepared in: 0.058597s"
      ]
     },
     "metadata": {},
     "output_type": "display_data"
    },
    {
     "data": {
      "text/html": [
       "<pre>Training model from provided data.</pre>"
      ],
      "text/plain": [
       "Training model from provided data."
      ]
     },
     "metadata": {},
     "output_type": "display_data"
    },
    {
     "data": {
      "text/html": [
       "<pre>Gathering per-item and per-user statistics.</pre>"
      ],
      "text/plain": [
       "Gathering per-item and per-user statistics."
      ]
     },
     "metadata": {},
     "output_type": "display_data"
    },
    {
     "data": {
      "text/html": [
       "<pre>+--------------------------------+------------+</pre>"
      ],
      "text/plain": [
       "+--------------------------------+------------+"
      ]
     },
     "metadata": {},
     "output_type": "display_data"
    },
    {
     "data": {
      "text/html": [
       "<pre>| Elapsed Time (Item Statistics) | % Complete |</pre>"
      ],
      "text/plain": [
       "| Elapsed Time (Item Statistics) | % Complete |"
      ]
     },
     "metadata": {},
     "output_type": "display_data"
    },
    {
     "data": {
      "text/html": [
       "<pre>+--------------------------------+------------+</pre>"
      ],
      "text/plain": [
       "+--------------------------------+------------+"
      ]
     },
     "metadata": {},
     "output_type": "display_data"
    },
    {
     "data": {
      "text/html": [
       "<pre>| 516us                          | 4          |</pre>"
      ],
      "text/plain": [
       "| 516us                          | 4          |"
      ]
     },
     "metadata": {},
     "output_type": "display_data"
    },
    {
     "data": {
      "text/html": [
       "<pre>| 6.36ms                         | 100        |</pre>"
      ],
      "text/plain": [
       "| 6.36ms                         | 100        |"
      ]
     },
     "metadata": {},
     "output_type": "display_data"
    },
    {
     "data": {
      "text/html": [
       "<pre>+--------------------------------+------------+</pre>"
      ],
      "text/plain": [
       "+--------------------------------+------------+"
      ]
     },
     "metadata": {},
     "output_type": "display_data"
    },
    {
     "data": {
      "text/html": [
       "<pre>Setting up lookup tables.</pre>"
      ],
      "text/plain": [
       "Setting up lookup tables."
      ]
     },
     "metadata": {},
     "output_type": "display_data"
    },
    {
     "data": {
      "text/html": [
       "<pre>Processing data in one pass using dense lookup tables.</pre>"
      ],
      "text/plain": [
       "Processing data in one pass using dense lookup tables."
      ]
     },
     "metadata": {},
     "output_type": "display_data"
    },
    {
     "data": {
      "text/html": [
       "<pre>+-------------------------------------+------------------+-----------------+</pre>"
      ],
      "text/plain": [
       "+-------------------------------------+------------------+-----------------+"
      ]
     },
     "metadata": {},
     "output_type": "display_data"
    },
    {
     "data": {
      "text/html": [
       "<pre>| Elapsed Time (Constructing Lookups) | Total % Complete | Items Processed |</pre>"
      ],
      "text/plain": [
       "| Elapsed Time (Constructing Lookups) | Total % Complete | Items Processed |"
      ]
     },
     "metadata": {},
     "output_type": "display_data"
    },
    {
     "data": {
      "text/html": [
       "<pre>+-------------------------------------+------------------+-----------------+</pre>"
      ],
      "text/plain": [
       "+-------------------------------------+------------------+-----------------+"
      ]
     },
     "metadata": {},
     "output_type": "display_data"
    },
    {
     "data": {
      "text/html": [
       "<pre>| 7.108ms                             | 0                | 0               |</pre>"
      ],
      "text/plain": [
       "| 7.108ms                             | 0                | 0               |"
      ]
     },
     "metadata": {},
     "output_type": "display_data"
    },
    {
     "data": {
      "text/html": [
       "<pre>| 19.79ms                             | 100              | 300             |</pre>"
      ],
      "text/plain": [
       "| 19.79ms                             | 100              | 300             |"
      ]
     },
     "metadata": {},
     "output_type": "display_data"
    },
    {
     "data": {
      "text/html": [
       "<pre>+-------------------------------------+------------------+-----------------+</pre>"
      ],
      "text/plain": [
       "+-------------------------------------+------------------+-----------------+"
      ]
     },
     "metadata": {},
     "output_type": "display_data"
    },
    {
     "data": {
      "text/html": [
       "<pre>Finalizing lookup tables.</pre>"
      ],
      "text/plain": [
       "Finalizing lookup tables."
      ]
     },
     "metadata": {},
     "output_type": "display_data"
    },
    {
     "data": {
      "text/html": [
       "<pre>Generating candidate set for working with new users.</pre>"
      ],
      "text/plain": [
       "Generating candidate set for working with new users."
      ]
     },
     "metadata": {},
     "output_type": "display_data"
    },
    {
     "data": {
      "text/html": [
       "<pre>Finished training in 0.027239s</pre>"
      ],
      "text/plain": [
       "Finished training in 0.027239s"
      ]
     },
     "metadata": {},
     "output_type": "display_data"
    },
    {
     "data": {
      "text/html": [
       "<pre>recommendations finished on 1000/1000 queries. users per second: 37929.1</pre>"
      ],
      "text/plain": [
       "recommendations finished on 1000/1000 queries. users per second: 37929.1"
      ]
     },
     "metadata": {},
     "output_type": "display_data"
    },
    {
     "name": "stdout",
     "output_type": "stream",
     "text": [
      "+------------+-----------+-----------------+------+\n",
      "| customerId | productId |      score      | rank |\n",
      "+------------+-----------+-----------------+------+\n",
      "|    1553    |     1     |  0.103481757641 |  1   |\n",
      "|    1553    |     2     | 0.0934672474861 |  2   |\n",
      "|    1553    |     35    | 0.0845762014389 |  3   |\n",
      "|    1553    |     33    | 0.0668614387512 |  4   |\n",
      "|    1553    |     61    | 0.0651255607605 |  5   |\n",
      "|    1553    |     15    | 0.0647641539574 |  6   |\n",
      "|    1553    |     11    | 0.0546789884567 |  7   |\n",
      "|    1553    |     5     | 0.0540698170662 |  8   |\n",
      "|    1553    |     17    | 0.0519999623299 |  9   |\n",
      "|    1553    |     36    | 0.0504865050316 |  10  |\n",
      "|   20400    |     26    | 0.0581226944923 |  1   |\n",
      "|   20400    |     6     | 0.0536174178123 |  2   |\n",
      "|   20400    |    113    | 0.0531278848648 |  3   |\n",
      "|   20400    |     1     | 0.0521045923233 |  4   |\n",
      "|   20400    |     15    | 0.0476838946342 |  5   |\n",
      "|   20400    |     27    | 0.0446733832359 |  6   |\n",
      "|   20400    |     13    | 0.0438398122787 |  7   |\n",
      "|   20400    |    246    | 0.0437311530113 |  8   |\n",
      "|   20400    |    160    | 0.0425115227699 |  9   |\n",
      "|   20400    |     4     | 0.0424287319183 |  10  |\n",
      "|   19750    |     48    |  0.13228414456  |  1   |\n",
      "|   19750    |     36    |  0.124051958323 |  2   |\n",
      "|   19750    |     38    |  0.123459448417 |  3   |\n",
      "|   19750    |     79    |  0.104314138492 |  4   |\n",
      "|   19750    |     1     |  0.103862037261 |  5   |\n",
      "|   19750    |     2     | 0.0902213354905 |  6   |\n",
      "|   19750    |     21    | 0.0739881594976 |  7   |\n",
      "|   19750    |     5     |  0.070933530728 |  8   |\n",
      "|   19750    |     17    | 0.0650665064653 |  9   |\n",
      "|   19750    |     44    | 0.0646822353204 |  10  |\n",
      "+------------+-----------+-----------------+------+\n",
      "[10000 rows x 4 columns]\n",
      "\n"
     ]
    }
   ],
   "source": [
    "users_to_recommend = list(customers[user_id])\n",
    "\n",
    "final_model = tc.item_similarity_recommender.create(tc.SFrame(data_dummy), \n",
    "                                            user_id=user_id, \n",
    "                                            item_id=item_id, \n",
    "                                            target='purchase_dummy', \n",
    "                                            similarity_type='cosine')\n",
    "\n",
    "recom = final_model.recommend(users=users_to_recommend, k=n_rec)\n",
    "recom.print_rows(n_display)"
   ]
  },
  {
   "cell_type": "code",
   "execution_count": 40,
   "metadata": {},
   "outputs": [
    {
     "name": "stdout",
     "output_type": "stream",
     "text": [
      "(10000, 4)\n"
     ]
    },
    {
     "data": {
      "text/html": [
       "<div>\n",
       "<style scoped>\n",
       "    .dataframe tbody tr th:only-of-type {\n",
       "        vertical-align: middle;\n",
       "    }\n",
       "\n",
       "    .dataframe tbody tr th {\n",
       "        vertical-align: top;\n",
       "    }\n",
       "\n",
       "    .dataframe thead th {\n",
       "        text-align: right;\n",
       "    }\n",
       "</style>\n",
       "<table border=\"1\" class=\"dataframe\">\n",
       "  <thead>\n",
       "    <tr style=\"text-align: right;\">\n",
       "      <th></th>\n",
       "      <th>customerId</th>\n",
       "      <th>productId</th>\n",
       "      <th>score</th>\n",
       "      <th>rank</th>\n",
       "    </tr>\n",
       "  </thead>\n",
       "  <tbody>\n",
       "    <tr>\n",
       "      <th>0</th>\n",
       "      <td>1553</td>\n",
       "      <td>1</td>\n",
       "      <td>0.103482</td>\n",
       "      <td>1</td>\n",
       "    </tr>\n",
       "    <tr>\n",
       "      <th>1</th>\n",
       "      <td>1553</td>\n",
       "      <td>2</td>\n",
       "      <td>0.093467</td>\n",
       "      <td>2</td>\n",
       "    </tr>\n",
       "    <tr>\n",
       "      <th>2</th>\n",
       "      <td>1553</td>\n",
       "      <td>35</td>\n",
       "      <td>0.084576</td>\n",
       "      <td>3</td>\n",
       "    </tr>\n",
       "    <tr>\n",
       "      <th>3</th>\n",
       "      <td>1553</td>\n",
       "      <td>33</td>\n",
       "      <td>0.066861</td>\n",
       "      <td>4</td>\n",
       "    </tr>\n",
       "    <tr>\n",
       "      <th>4</th>\n",
       "      <td>1553</td>\n",
       "      <td>61</td>\n",
       "      <td>0.065126</td>\n",
       "      <td>5</td>\n",
       "    </tr>\n",
       "  </tbody>\n",
       "</table>\n",
       "</div>"
      ],
      "text/plain": [
       "   customerId  productId     score  rank\n",
       "0        1553          1  0.103482     1\n",
       "1        1553          2  0.093467     2\n",
       "2        1553         35  0.084576     3\n",
       "3        1553         33  0.066861     4\n",
       "4        1553         61  0.065126     5"
      ]
     },
     "execution_count": 40,
     "metadata": {},
     "output_type": "execute_result"
    }
   ],
   "source": [
    "df_rec = recom.to_dataframe()\n",
    "print(df_rec.shape)\n",
    "df_rec.head()"
   ]
  },
  {
   "cell_type": "code",
   "execution_count": 41,
   "metadata": {},
   "outputs": [],
   "source": [
    "df_rec['recommendedProducts'] = df_rec.groupby([user_id])[item_id].transform(lambda x: '|'.join(x.astype(str)))\n",
    "df_output = df_rec[['customerId', 'recommendedProducts']].drop_duplicates().sort_values('customerId').set_index('customerId')"
   ]
  },
  {
   "cell_type": "code",
   "execution_count": 42,
   "metadata": {},
   "outputs": [],
   "source": [
    "def create_output(model, users_to_recommend, n_rec, print_csv=True):\n",
    "    recomendation = model.recommend(users=users_to_recommend, k=n_rec)\n",
    "    df_rec = recomendation.to_dataframe()\n",
    "    df_rec['recommendedProducts'] = df_rec.groupby([user_id])[item_id] \\\n",
    "        .transform(lambda x: '|'.join(x.astype(str)))\n",
    "    df_output = df_rec[['customerId', 'recommendedProducts']].drop_duplicates() \\\n",
    "        .sort_values('customerId').set_index('customerId')\n",
    "    if print_csv:\n",
    "        df_output.to_csv('output/option1_recommendation.csv')\n",
    "        print(\"An output file can be found in 'output' folder with name 'option1_recommendation.csv'\")\n",
    "    return df_output"
   ]
  },
  {
   "cell_type": "code",
   "execution_count": 44,
   "metadata": {},
   "outputs": [
    {
     "data": {
      "text/html": [
       "<pre>recommendations finished on 1000/1000 queries. users per second: 257998</pre>"
      ],
      "text/plain": [
       "recommendations finished on 1000/1000 queries. users per second: 257998"
      ]
     },
     "metadata": {},
     "output_type": "display_data"
    },
    {
     "name": "stdout",
     "output_type": "stream",
     "text": [
      "An output file can be found in 'output' folder with name 'option1_recommendation.csv'\n",
      "(1000, 1)\n"
     ]
    },
    {
     "data": {
      "text/html": [
       "<div>\n",
       "<style scoped>\n",
       "    .dataframe tbody tr th:only-of-type {\n",
       "        vertical-align: middle;\n",
       "    }\n",
       "\n",
       "    .dataframe tbody tr th {\n",
       "        vertical-align: top;\n",
       "    }\n",
       "\n",
       "    .dataframe thead th {\n",
       "        text-align: right;\n",
       "    }\n",
       "</style>\n",
       "<table border=\"1\" class=\"dataframe\">\n",
       "  <thead>\n",
       "    <tr style=\"text-align: right;\">\n",
       "      <th></th>\n",
       "      <th>recommendedProducts</th>\n",
       "    </tr>\n",
       "    <tr>\n",
       "      <th>customerId</th>\n",
       "      <th></th>\n",
       "    </tr>\n",
       "  </thead>\n",
       "  <tbody>\n",
       "    <tr>\n",
       "      <th>4</th>\n",
       "      <td>226|247|230|125|248|294|72|276|165|83</td>\n",
       "    </tr>\n",
       "    <tr>\n",
       "      <th>11</th>\n",
       "      <td>226|247|230|125|248|294|72|276|165|83</td>\n",
       "    </tr>\n",
       "    <tr>\n",
       "      <th>12</th>\n",
       "      <td>226|247|230|125|248|294|72|276|165|83</td>\n",
       "    </tr>\n",
       "    <tr>\n",
       "      <th>16</th>\n",
       "      <td>226|247|230|125|248|294|72|276|165|83</td>\n",
       "    </tr>\n",
       "    <tr>\n",
       "      <th>21</th>\n",
       "      <td>226|247|230|125|248|294|72|276|165|83</td>\n",
       "    </tr>\n",
       "  </tbody>\n",
       "</table>\n",
       "</div>"
      ],
      "text/plain": [
       "                              recommendedProducts\n",
       "customerId                                       \n",
       "4           226|247|230|125|248|294|72|276|165|83\n",
       "11          226|247|230|125|248|294|72|276|165|83\n",
       "12          226|247|230|125|248|294|72|276|165|83\n",
       "16          226|247|230|125|248|294|72|276|165|83\n",
       "21          226|247|230|125|248|294|72|276|165|83"
      ]
     },
     "execution_count": 44,
     "metadata": {},
     "output_type": "execute_result"
    }
   ],
   "source": [
    "df_output = create_output(pear_norm, users_to_recommend, n_rec, print_csv=True)\n",
    "print(df_output.shape)\n",
    "df_output.head()"
   ]
  },
  {
   "cell_type": "code",
   "execution_count": 45,
   "metadata": {},
   "outputs": [],
   "source": [
    "def customer_recomendation(customer_id):\n",
    "    if customer_id not in df_output.index:\n",
    "        print('Customer not found.')\n",
    "        return customer_id\n",
    "    return df_output.loc[customer_id]"
   ]
  },
  {
   "cell_type": "code",
   "execution_count": 46,
   "metadata": {},
   "outputs": [
    {
     "data": {
      "text/plain": [
       "recommendedProducts    226|247|230|125|248|294|72|276|165|83\n",
       "Name: 4, dtype: object"
      ]
     },
     "execution_count": 46,
     "metadata": {},
     "output_type": "execute_result"
    }
   ],
   "source": [
    "customer_recomendation(4)"
   ]
  },
  {
   "cell_type": "code",
   "execution_count": 47,
   "metadata": {},
   "outputs": [
    {
     "data": {
      "text/plain": [
       "recommendedProducts    226|247|230|125|248|294|72|276|165|83\n",
       "Name: 21, dtype: object"
      ]
     },
     "execution_count": 47,
     "metadata": {},
     "output_type": "execute_result"
    }
   ],
   "source": [
    "customer_recomendation(21)"
   ]
  },
  {
   "cell_type": "code",
   "execution_count": null,
   "metadata": {},
   "outputs": [],
   "source": []
  }
 ],
 "metadata": {
  "kernelspec": {
   "display_name": "Python 3",
   "language": "python",
   "name": "python3"
  },
  "language_info": {
   "codemirror_mode": {
    "name": "ipython",
    "version": 2
   },
   "file_extension": ".py",
   "mimetype": "text/x-python",
   "name": "python",
   "nbconvert_exporter": "python",
   "pygments_lexer": "ipython2",
   "version": "2.7.15"
  }
 },
 "nbformat": 4,
 "nbformat_minor": 2
}
