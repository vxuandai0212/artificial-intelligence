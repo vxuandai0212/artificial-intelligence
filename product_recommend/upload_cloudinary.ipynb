{
 "cells": [
  {
   "cell_type": "code",
   "execution_count": 1,
   "metadata": {},
   "outputs": [],
   "source": [
    "import cloudinary.uploader\n",
    "import pandas as pd\n",
    "import uuid"
   ]
  },
  {
   "cell_type": "code",
   "execution_count": 2,
   "metadata": {},
   "outputs": [],
   "source": [
    "api_key = '933392669637745'\n",
    "api_secret = '1zoGKEuecwuoB1MTdo-9UYjzf80'\n",
    "cloud_name = 'fit1501040028'"
   ]
  },
  {
   "cell_type": "code",
   "execution_count": 3,
   "metadata": {},
   "outputs": [],
   "source": [
    "products_1 = pd.read_csv('famousfootwear_1.csv')\n",
    "products_2 = pd.read_csv('famousfootwear_2.csv')\n",
    "products_3 = pd.read_csv('famousfootwear_3.csv')\n",
    "products_4 = pd.read_csv('famousfootwear_4.csv')"
   ]
  },
  {
   "cell_type": "code",
   "execution_count": 4,
   "metadata": {},
   "outputs": [],
   "source": [
    "concat_pt = pd.concat([products_1, products_2, products_3, products_4])"
   ]
  },
  {
   "cell_type": "code",
   "execution_count": 5,
   "metadata": {},
   "outputs": [],
   "source": [
    "total_products = concat_pt.sort_values(by=['product_name']).reset_index(drop=True)"
   ]
  },
  {
   "cell_type": "code",
   "execution_count": 6,
   "metadata": {},
   "outputs": [
    {
     "data": {
      "text/html": [
       "<div>\n",
       "<style scoped>\n",
       "    .dataframe tbody tr th:only-of-type {\n",
       "        vertical-align: middle;\n",
       "    }\n",
       "\n",
       "    .dataframe tbody tr th {\n",
       "        vertical-align: top;\n",
       "    }\n",
       "\n",
       "    .dataframe thead th {\n",
       "        text-align: right;\n",
       "    }\n",
       "</style>\n",
       "<table border=\"1\" class=\"dataframe\">\n",
       "  <thead>\n",
       "    <tr style=\"text-align: right;\">\n",
       "      <th></th>\n",
       "      <th>product_name</th>\n",
       "      <th>product_image</th>\n",
       "      <th>product_code</th>\n",
       "      <th>product_price</th>\n",
       "    </tr>\n",
       "  </thead>\n",
       "  <tbody>\n",
       "    <tr>\n",
       "      <th>0</th>\n",
       "      <td>Chuck Taylor All Star High Street High Top Sne...</td>\n",
       "      <td>https://www.famousfootwear.com/ProductImages/s...</td>\n",
       "      <td>33426</td>\n",
       "      <td>59.99</td>\n",
       "    </tr>\n",
       "    <tr>\n",
       "      <th>1</th>\n",
       "      <td>Chuck Taylor All Star High Street High Top Sne...</td>\n",
       "      <td>https://www.famousfootwear.com/ProductImages/s...</td>\n",
       "      <td>74965</td>\n",
       "      <td>54.99</td>\n",
       "    </tr>\n",
       "    <tr>\n",
       "      <th>2</th>\n",
       "      <td>Chuck Taylor All Star High Top Sneaker</td>\n",
       "      <td>https://www.famousfootwear.com/ProductImages/s...</td>\n",
       "      <td>68412</td>\n",
       "      <td>59.99</td>\n",
       "    </tr>\n",
       "    <tr>\n",
       "      <th>3</th>\n",
       "      <td>Chuck Taylor All Star High Top Sneaker</td>\n",
       "      <td>https://www.famousfootwear.com/ProductImages/s...</td>\n",
       "      <td>68403</td>\n",
       "      <td>59.99</td>\n",
       "    </tr>\n",
       "    <tr>\n",
       "      <th>4</th>\n",
       "      <td>Chuck Taylor All Star High Top Sneaker</td>\n",
       "      <td>https://www.famousfootwear.com/ProductImages/s...</td>\n",
       "      <td>29948</td>\n",
       "      <td>59.99</td>\n",
       "    </tr>\n",
       "  </tbody>\n",
       "</table>\n",
       "</div>"
      ],
      "text/plain": [
       "                                        product_name  \\\n",
       "0  Chuck Taylor All Star High Street High Top Sne...   \n",
       "1  Chuck Taylor All Star High Street High Top Sne...   \n",
       "2             Chuck Taylor All Star High Top Sneaker   \n",
       "3             Chuck Taylor All Star High Top Sneaker   \n",
       "4             Chuck Taylor All Star High Top Sneaker   \n",
       "\n",
       "                                       product_image  product_code  \\\n",
       "0  https://www.famousfootwear.com/ProductImages/s...         33426   \n",
       "1  https://www.famousfootwear.com/ProductImages/s...         74965   \n",
       "2  https://www.famousfootwear.com/ProductImages/s...         68412   \n",
       "3  https://www.famousfootwear.com/ProductImages/s...         68403   \n",
       "4  https://www.famousfootwear.com/ProductImages/s...         29948   \n",
       "\n",
       "  product_price  \n",
       "0         59.99  \n",
       "1         54.99  \n",
       "2         59.99  \n",
       "3         59.99  \n",
       "4         59.99  "
      ]
     },
     "execution_count": 6,
     "metadata": {},
     "output_type": "execute_result"
    }
   ],
   "source": [
    "total_products.head()"
   ]
  },
  {
   "cell_type": "code",
   "execution_count": 7,
   "metadata": {},
   "outputs": [],
   "source": [
    "total_products.loc[total_products['product_price'] == '\\r\\n            Add to cart for price', ['product_price']] = 59.99"
   ]
  },
  {
   "cell_type": "code",
   "execution_count": 8,
   "metadata": {},
   "outputs": [],
   "source": [
    "prices = total_products['product_price'].unique()"
   ]
  },
  {
   "cell_type": "code",
   "execution_count": 9,
   "metadata": {},
   "outputs": [
    {
     "name": "stdout",
     "output_type": "stream",
     "text": [
      "['59.99' 54.99 59.99 '49.99' '54.99' 49.99 '64.99' '69.99' 64.99 '94.99'\n",
      " '89.99' 94.99 89.99 79.99 '79.99' '84.99' 84.99 74.99 '74.99' 44.99 69.99\n",
      " '109.99' '99.99' 36.99 '44.99' '39.99']\n"
     ]
    }
   ],
   "source": [
    "print(prices)"
   ]
  },
  {
   "cell_type": "code",
   "execution_count": 10,
   "metadata": {},
   "outputs": [],
   "source": [
    "cloud_ids = []\n",
    "for index, row in total_products.iterrows():\n",
    "    product_code = row['product_code']\n",
    "    image = '/home/lam/Desktop/vini-intern/product_recommend/download/' + str(product_code) + '.jpg'\n",
    "    image_id = str(uuid.uuid4())\n",
    "    cloudinary.uploader.upload(image, public_id = image_id, api_key=api_key, api_secret=api_secret, cloud_name=cloud_name)\n",
    "    cloud_ids.append(image_id)\n",
    "\n",
    "ids = {'cloud_ids': cloud_ids}\n",
    "ids_df = pd.DataFrame(data=ids)\n",
    "products = total_products.join(ids_df)    "
   ]
  },
  {
   "cell_type": "code",
   "execution_count": 11,
   "metadata": {},
   "outputs": [
    {
     "data": {
      "text/html": [
       "<div>\n",
       "<style scoped>\n",
       "    .dataframe tbody tr th:only-of-type {\n",
       "        vertical-align: middle;\n",
       "    }\n",
       "\n",
       "    .dataframe tbody tr th {\n",
       "        vertical-align: top;\n",
       "    }\n",
       "\n",
       "    .dataframe thead th {\n",
       "        text-align: right;\n",
       "    }\n",
       "</style>\n",
       "<table border=\"1\" class=\"dataframe\">\n",
       "  <thead>\n",
       "    <tr style=\"text-align: right;\">\n",
       "      <th></th>\n",
       "      <th>product_name</th>\n",
       "      <th>product_image</th>\n",
       "      <th>product_code</th>\n",
       "      <th>product_price</th>\n",
       "      <th>cloud_ids</th>\n",
       "    </tr>\n",
       "  </thead>\n",
       "  <tbody>\n",
       "    <tr>\n",
       "      <th>0</th>\n",
       "      <td>Chuck Taylor All Star High Street High Top Sne...</td>\n",
       "      <td>https://www.famousfootwear.com/ProductImages/s...</td>\n",
       "      <td>33426</td>\n",
       "      <td>59.99</td>\n",
       "      <td>e0919662-c8c9-4d09-9dfb-db2cb38d4f79</td>\n",
       "    </tr>\n",
       "    <tr>\n",
       "      <th>1</th>\n",
       "      <td>Chuck Taylor All Star High Street High Top Sne...</td>\n",
       "      <td>https://www.famousfootwear.com/ProductImages/s...</td>\n",
       "      <td>74965</td>\n",
       "      <td>54.99</td>\n",
       "      <td>aee5ff01-df76-4f3b-a3ff-3ef22caf4625</td>\n",
       "    </tr>\n",
       "    <tr>\n",
       "      <th>2</th>\n",
       "      <td>Chuck Taylor All Star High Top Sneaker</td>\n",
       "      <td>https://www.famousfootwear.com/ProductImages/s...</td>\n",
       "      <td>68412</td>\n",
       "      <td>59.99</td>\n",
       "      <td>2134b7a1-04a8-4617-abe2-a032a51adc3b</td>\n",
       "    </tr>\n",
       "    <tr>\n",
       "      <th>3</th>\n",
       "      <td>Chuck Taylor All Star High Top Sneaker</td>\n",
       "      <td>https://www.famousfootwear.com/ProductImages/s...</td>\n",
       "      <td>68403</td>\n",
       "      <td>59.99</td>\n",
       "      <td>19bfb9e6-a894-4ef2-890f-e917eb8dd28d</td>\n",
       "    </tr>\n",
       "    <tr>\n",
       "      <th>4</th>\n",
       "      <td>Chuck Taylor All Star High Top Sneaker</td>\n",
       "      <td>https://www.famousfootwear.com/ProductImages/s...</td>\n",
       "      <td>29948</td>\n",
       "      <td>59.99</td>\n",
       "      <td>bdb6f9bd-7cdc-4838-b6b0-6bef56ef2ae2</td>\n",
       "    </tr>\n",
       "  </tbody>\n",
       "</table>\n",
       "</div>"
      ],
      "text/plain": [
       "                                        product_name  \\\n",
       "0  Chuck Taylor All Star High Street High Top Sne...   \n",
       "1  Chuck Taylor All Star High Street High Top Sne...   \n",
       "2             Chuck Taylor All Star High Top Sneaker   \n",
       "3             Chuck Taylor All Star High Top Sneaker   \n",
       "4             Chuck Taylor All Star High Top Sneaker   \n",
       "\n",
       "                                       product_image  product_code  \\\n",
       "0  https://www.famousfootwear.com/ProductImages/s...         33426   \n",
       "1  https://www.famousfootwear.com/ProductImages/s...         74965   \n",
       "2  https://www.famousfootwear.com/ProductImages/s...         68412   \n",
       "3  https://www.famousfootwear.com/ProductImages/s...         68403   \n",
       "4  https://www.famousfootwear.com/ProductImages/s...         29948   \n",
       "\n",
       "  product_price                             cloud_ids  \n",
       "0         59.99  e0919662-c8c9-4d09-9dfb-db2cb38d4f79  \n",
       "1         54.99  aee5ff01-df76-4f3b-a3ff-3ef22caf4625  \n",
       "2         59.99  2134b7a1-04a8-4617-abe2-a032a51adc3b  \n",
       "3         59.99  19bfb9e6-a894-4ef2-890f-e917eb8dd28d  \n",
       "4         59.99  bdb6f9bd-7cdc-4838-b6b0-6bef56ef2ae2  "
      ]
     },
     "execution_count": 11,
     "metadata": {},
     "output_type": "execute_result"
    }
   ],
   "source": [
    "products.head()"
   ]
  },
  {
   "cell_type": "code",
   "execution_count": 12,
   "metadata": {},
   "outputs": [],
   "source": [
    "products.to_csv('total_products.csv', index=False)"
   ]
  },
  {
   "cell_type": "code",
   "execution_count": null,
   "metadata": {},
   "outputs": [],
   "source": []
  }
 ],
 "metadata": {
  "kernelspec": {
   "display_name": "Python 2",
   "language": "python",
   "name": "python2"
  },
  "language_info": {
   "codemirror_mode": {
    "name": "ipython",
    "version": 2
   },
   "file_extension": ".py",
   "mimetype": "text/x-python",
   "name": "python",
   "nbconvert_exporter": "python",
   "pygments_lexer": "ipython2",
   "version": "2.7.15"
  }
 },
 "nbformat": 4,
 "nbformat_minor": 2
}
