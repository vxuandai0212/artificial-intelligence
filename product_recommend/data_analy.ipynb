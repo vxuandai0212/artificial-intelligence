{
 "cells": [
  {
   "cell_type": "code",
   "execution_count": 1,
   "metadata": {},
   "outputs": [],
   "source": [
    "import pandas as pd\n",
    "import numpy as np\n",
    "import time\n",
    "from sklearn.model_selection import train_test_split\n",
    "import turicreate as tc"
   ]
  },
  {
   "cell_type": "code",
   "execution_count": 2,
   "metadata": {},
   "outputs": [],
   "source": [
    "products_1 = pd.read_csv('famousfootwear_1.csv')\n",
    "products_2 = pd.read_csv('famousfootwear_2.csv')\n",
    "products_3 = pd.read_csv('famousfootwear_3.csv')"
   ]
  },
  {
   "cell_type": "code",
   "execution_count": 3,
   "metadata": {},
   "outputs": [
    {
     "data": {
      "text/html": [
       "<div>\n",
       "<style scoped>\n",
       "    .dataframe tbody tr th:only-of-type {\n",
       "        vertical-align: middle;\n",
       "    }\n",
       "\n",
       "    .dataframe tbody tr th {\n",
       "        vertical-align: top;\n",
       "    }\n",
       "\n",
       "    .dataframe thead th {\n",
       "        text-align: right;\n",
       "    }\n",
       "</style>\n",
       "<table border=\"1\" class=\"dataframe\">\n",
       "  <thead>\n",
       "    <tr style=\"text-align: right;\">\n",
       "      <th></th>\n",
       "      <th>product_name</th>\n",
       "      <th>product_image</th>\n",
       "      <th>product_code</th>\n",
       "      <th>product_price</th>\n",
       "    </tr>\n",
       "  </thead>\n",
       "  <tbody>\n",
       "    <tr>\n",
       "      <th>0</th>\n",
       "      <td>Women's Air Max Motion 2 Sneaker</td>\n",
       "      <td>https://www.famousfootwear.com/ProductImages/s...</td>\n",
       "      <td>33086</td>\n",
       "      <td>84.99</td>\n",
       "    </tr>\n",
       "    <tr>\n",
       "      <th>1</th>\n",
       "      <td>Women's Pacer Next Cage Sneaker</td>\n",
       "      <td>https://www.famousfootwear.com/ProductImages/s...</td>\n",
       "      <td>56544</td>\n",
       "      <td>69.99</td>\n",
       "    </tr>\n",
       "    <tr>\n",
       "      <th>2</th>\n",
       "      <td>Women's Meridian Sneaker</td>\n",
       "      <td>https://www.famousfootwear.com/ProductImages/s...</td>\n",
       "      <td>871</td>\n",
       "      <td>36.99</td>\n",
       "    </tr>\n",
       "    <tr>\n",
       "      <th>3</th>\n",
       "      <td>Women's Disruptor Premium 2 Sneaker</td>\n",
       "      <td>https://www.famousfootwear.com/ProductImages/s...</td>\n",
       "      <td>77889</td>\n",
       "      <td>64.99</td>\n",
       "    </tr>\n",
       "    <tr>\n",
       "      <th>4</th>\n",
       "      <td>Women's Chuck Taylor All Star Madison Low Top ...</td>\n",
       "      <td>https://www.famousfootwear.com/ProductImages/s...</td>\n",
       "      <td>78512</td>\n",
       "      <td>44.99</td>\n",
       "    </tr>\n",
       "  </tbody>\n",
       "</table>\n",
       "</div>"
      ],
      "text/plain": [
       "                                        product_name  \\\n",
       "0                   Women's Air Max Motion 2 Sneaker   \n",
       "1                    Women's Pacer Next Cage Sneaker   \n",
       "2                           Women's Meridian Sneaker   \n",
       "3                Women's Disruptor Premium 2 Sneaker   \n",
       "4  Women's Chuck Taylor All Star Madison Low Top ...   \n",
       "\n",
       "                                       product_image  product_code  \\\n",
       "0  https://www.famousfootwear.com/ProductImages/s...         33086   \n",
       "1  https://www.famousfootwear.com/ProductImages/s...         56544   \n",
       "2  https://www.famousfootwear.com/ProductImages/s...           871   \n",
       "3  https://www.famousfootwear.com/ProductImages/s...         77889   \n",
       "4  https://www.famousfootwear.com/ProductImages/s...         78512   \n",
       "\n",
       "   product_price  \n",
       "0          84.99  \n",
       "1          69.99  \n",
       "2          36.99  \n",
       "3          64.99  \n",
       "4          44.99  "
      ]
     },
     "execution_count": 3,
     "metadata": {},
     "output_type": "execute_result"
    }
   ],
   "source": [
    "products_1.head()"
   ]
  },
  {
   "cell_type": "code",
   "execution_count": 4,
   "metadata": {},
   "outputs": [
    {
     "data": {
      "text/plain": [
       "product_name     96\n",
       "product_image    96\n",
       "product_code     96\n",
       "product_price    96\n",
       "dtype: int64"
      ]
     },
     "execution_count": 4,
     "metadata": {},
     "output_type": "execute_result"
    }
   ],
   "source": [
    "products_1.count()"
   ]
  },
  {
   "cell_type": "code",
   "execution_count": 5,
   "metadata": {},
   "outputs": [
    {
     "data": {
      "text/plain": [
       "product_name     96\n",
       "product_image    96\n",
       "product_code     96\n",
       "product_price    96\n",
       "dtype: int64"
      ]
     },
     "execution_count": 5,
     "metadata": {},
     "output_type": "execute_result"
    }
   ],
   "source": [
    "products_2.count()"
   ]
  },
  {
   "cell_type": "code",
   "execution_count": 6,
   "metadata": {},
   "outputs": [
    {
     "data": {
      "text/plain": [
       "product_name     96\n",
       "product_image    96\n",
       "product_code     96\n",
       "product_price    96\n",
       "dtype: int64"
      ]
     },
     "execution_count": 6,
     "metadata": {},
     "output_type": "execute_result"
    }
   ],
   "source": [
    "products_3.count()"
   ]
  },
  {
   "cell_type": "code",
   "execution_count": 34,
   "metadata": {
    "scrolled": true
   },
   "outputs": [],
   "source": [
    "concat_pt = pd.concat([products_1, products_2, products_3])"
   ]
  },
  {
   "cell_type": "code",
   "execution_count": 35,
   "metadata": {},
   "outputs": [
    {
     "data": {
      "text/plain": [
       "product_name     288\n",
       "product_image    288\n",
       "product_code     288\n",
       "product_price    288\n",
       "dtype: int64"
      ]
     },
     "execution_count": 35,
     "metadata": {},
     "output_type": "execute_result"
    }
   ],
   "source": [
    "concat_pt.count()"
   ]
  },
  {
   "cell_type": "code",
   "execution_count": 36,
   "metadata": {},
   "outputs": [
    {
     "data": {
      "text/html": [
       "<div>\n",
       "<style scoped>\n",
       "    .dataframe tbody tr th:only-of-type {\n",
       "        vertical-align: middle;\n",
       "    }\n",
       "\n",
       "    .dataframe tbody tr th {\n",
       "        vertical-align: top;\n",
       "    }\n",
       "\n",
       "    .dataframe thead th {\n",
       "        text-align: right;\n",
       "    }\n",
       "</style>\n",
       "<table border=\"1\" class=\"dataframe\">\n",
       "  <thead>\n",
       "    <tr style=\"text-align: right;\">\n",
       "      <th></th>\n",
       "      <th>product_name</th>\n",
       "      <th>product_image</th>\n",
       "      <th>product_code</th>\n",
       "      <th>product_price</th>\n",
       "    </tr>\n",
       "  </thead>\n",
       "  <tbody>\n",
       "    <tr>\n",
       "      <th>0</th>\n",
       "      <td>Women's Air Max Motion 2 Sneaker</td>\n",
       "      <td>https://www.famousfootwear.com/ProductImages/s...</td>\n",
       "      <td>33086</td>\n",
       "      <td>84.99</td>\n",
       "    </tr>\n",
       "    <tr>\n",
       "      <th>1</th>\n",
       "      <td>Women's Pacer Next Cage Sneaker</td>\n",
       "      <td>https://www.famousfootwear.com/ProductImages/s...</td>\n",
       "      <td>56544</td>\n",
       "      <td>69.99</td>\n",
       "    </tr>\n",
       "    <tr>\n",
       "      <th>2</th>\n",
       "      <td>Women's Meridian Sneaker</td>\n",
       "      <td>https://www.famousfootwear.com/ProductImages/s...</td>\n",
       "      <td>871</td>\n",
       "      <td>36.99</td>\n",
       "    </tr>\n",
       "    <tr>\n",
       "      <th>3</th>\n",
       "      <td>Women's Disruptor Premium 2 Sneaker</td>\n",
       "      <td>https://www.famousfootwear.com/ProductImages/s...</td>\n",
       "      <td>77889</td>\n",
       "      <td>64.99</td>\n",
       "    </tr>\n",
       "    <tr>\n",
       "      <th>4</th>\n",
       "      <td>Women's Chuck Taylor All Star Madison Low Top ...</td>\n",
       "      <td>https://www.famousfootwear.com/ProductImages/s...</td>\n",
       "      <td>78512</td>\n",
       "      <td>44.99</td>\n",
       "    </tr>\n",
       "  </tbody>\n",
       "</table>\n",
       "</div>"
      ],
      "text/plain": [
       "                                        product_name  \\\n",
       "0                   Women's Air Max Motion 2 Sneaker   \n",
       "1                    Women's Pacer Next Cage Sneaker   \n",
       "2                           Women's Meridian Sneaker   \n",
       "3                Women's Disruptor Premium 2 Sneaker   \n",
       "4  Women's Chuck Taylor All Star Madison Low Top ...   \n",
       "\n",
       "                                       product_image  product_code  \\\n",
       "0  https://www.famousfootwear.com/ProductImages/s...         33086   \n",
       "1  https://www.famousfootwear.com/ProductImages/s...         56544   \n",
       "2  https://www.famousfootwear.com/ProductImages/s...           871   \n",
       "3  https://www.famousfootwear.com/ProductImages/s...         77889   \n",
       "4  https://www.famousfootwear.com/ProductImages/s...         78512   \n",
       "\n",
       "  product_price  \n",
       "0         84.99  \n",
       "1         69.99  \n",
       "2         36.99  \n",
       "3         64.99  \n",
       "4         44.99  "
      ]
     },
     "execution_count": 36,
     "metadata": {},
     "output_type": "execute_result"
    }
   ],
   "source": [
    "concat_pt.head()"
   ]
  },
  {
   "cell_type": "code",
   "execution_count": 37,
   "metadata": {},
   "outputs": [],
   "source": [
    "concat_pt.sort_values(by=['product_name']).reset_index(drop=True).to_csv('total_products.csv', index=False)"
   ]
  },
  {
   "cell_type": "code",
   "execution_count": null,
   "metadata": {},
   "outputs": [],
   "source": [
    "# analyze train data"
   ]
  },
  {
   "cell_type": "code",
   "execution_count": 38,
   "metadata": {},
   "outputs": [],
   "source": [
    "train_data = pd.read_csv('data/trx_data.csv')"
   ]
  },
  {
   "cell_type": "code",
   "execution_count": 42,
   "metadata": {},
   "outputs": [
    {
     "data": {
      "text/html": [
       "<div>\n",
       "<style scoped>\n",
       "    .dataframe tbody tr th:only-of-type {\n",
       "        vertical-align: middle;\n",
       "    }\n",
       "\n",
       "    .dataframe tbody tr th {\n",
       "        vertical-align: top;\n",
       "    }\n",
       "\n",
       "    .dataframe thead th {\n",
       "        text-align: right;\n",
       "    }\n",
       "</style>\n",
       "<table border=\"1\" class=\"dataframe\">\n",
       "  <thead>\n",
       "    <tr style=\"text-align: right;\">\n",
       "      <th></th>\n",
       "      <th>customerId</th>\n",
       "      <th>products</th>\n",
       "    </tr>\n",
       "  </thead>\n",
       "  <tbody>\n",
       "    <tr>\n",
       "      <th>0</th>\n",
       "      <td>0</td>\n",
       "      <td>20</td>\n",
       "    </tr>\n",
       "    <tr>\n",
       "      <th>37938</th>\n",
       "      <td>0</td>\n",
       "      <td>1|1|31|31</td>\n",
       "    </tr>\n",
       "    <tr>\n",
       "      <th>46211</th>\n",
       "      <td>0</td>\n",
       "      <td>260|256</td>\n",
       "    </tr>\n",
       "    <tr>\n",
       "      <th>47996</th>\n",
       "      <td>0</td>\n",
       "      <td>260|13</td>\n",
       "    </tr>\n",
       "    <tr>\n",
       "      <th>23799</th>\n",
       "      <td>0</td>\n",
       "      <td>216|52|260|93|93|93</td>\n",
       "    </tr>\n",
       "  </tbody>\n",
       "</table>\n",
       "</div>"
      ],
      "text/plain": [
       "       customerId             products\n",
       "0               0                   20\n",
       "37938           0            1|1|31|31\n",
       "46211           0              260|256\n",
       "47996           0               260|13\n",
       "23799           0  216|52|260|93|93|93"
      ]
     },
     "execution_count": 42,
     "metadata": {},
     "output_type": "execute_result"
    }
   ],
   "source": [
    "train_data.head()"
   ]
  },
  {
   "cell_type": "code",
   "execution_count": 43,
   "metadata": {},
   "outputs": [],
   "source": [
    "train_data = train_data.sort_values(by=['customerId']).reset_index(drop=True)"
   ]
  },
  {
   "cell_type": "code",
   "execution_count": 44,
   "metadata": {},
   "outputs": [
    {
     "data": {
      "text/html": [
       "<div>\n",
       "<style scoped>\n",
       "    .dataframe tbody tr th:only-of-type {\n",
       "        vertical-align: middle;\n",
       "    }\n",
       "\n",
       "    .dataframe tbody tr th {\n",
       "        vertical-align: top;\n",
       "    }\n",
       "\n",
       "    .dataframe thead th {\n",
       "        text-align: right;\n",
       "    }\n",
       "</style>\n",
       "<table border=\"1\" class=\"dataframe\">\n",
       "  <thead>\n",
       "    <tr style=\"text-align: right;\">\n",
       "      <th></th>\n",
       "      <th>customerId</th>\n",
       "      <th>products</th>\n",
       "    </tr>\n",
       "  </thead>\n",
       "  <tbody>\n",
       "    <tr>\n",
       "      <th>0</th>\n",
       "      <td>0</td>\n",
       "      <td>20</td>\n",
       "    </tr>\n",
       "    <tr>\n",
       "      <th>1</th>\n",
       "      <td>0</td>\n",
       "      <td>1|1|31|31</td>\n",
       "    </tr>\n",
       "    <tr>\n",
       "      <th>2</th>\n",
       "      <td>0</td>\n",
       "      <td>260|256</td>\n",
       "    </tr>\n",
       "    <tr>\n",
       "      <th>3</th>\n",
       "      <td>0</td>\n",
       "      <td>260|13</td>\n",
       "    </tr>\n",
       "    <tr>\n",
       "      <th>4</th>\n",
       "      <td>0</td>\n",
       "      <td>216|52|260|93|93|93</td>\n",
       "    </tr>\n",
       "  </tbody>\n",
       "</table>\n",
       "</div>"
      ],
      "text/plain": [
       "   customerId             products\n",
       "0           0                   20\n",
       "1           0            1|1|31|31\n",
       "2           0              260|256\n",
       "3           0               260|13\n",
       "4           0  216|52|260|93|93|93"
      ]
     },
     "execution_count": 44,
     "metadata": {},
     "output_type": "execute_result"
    }
   ],
   "source": [
    "train_data.head()"
   ]
  },
  {
   "cell_type": "code",
   "execution_count": 45,
   "metadata": {},
   "outputs": [
    {
     "data": {
      "text/plain": [
       "customerId    62483\n",
       "products      62483\n",
       "dtype: int64"
      ]
     },
     "execution_count": 45,
     "metadata": {},
     "output_type": "execute_result"
    }
   ],
   "source": [
    "train_data.count()"
   ]
  },
  {
   "cell_type": "code",
   "execution_count": 46,
   "metadata": {},
   "outputs": [
    {
     "data": {
      "text/plain": [
       "24429"
      ]
     },
     "execution_count": 46,
     "metadata": {},
     "output_type": "execute_result"
    }
   ],
   "source": [
    "train_data['customerId'].nunique()"
   ]
  },
  {
   "cell_type": "code",
   "execution_count": null,
   "metadata": {},
   "outputs": [],
   "source": [
    "# process user"
   ]
  },
  {
   "cell_type": "code",
   "execution_count": 2,
   "metadata": {},
   "outputs": [],
   "source": [
    "users = pd.read_csv('customer_sample_name.csv')"
   ]
  },
  {
   "cell_type": "code",
   "execution_count": 3,
   "metadata": {},
   "outputs": [
    {
     "data": {
      "text/plain": [
       "lastname    88799\n",
       "dtype: int64"
      ]
     },
     "execution_count": 3,
     "metadata": {},
     "output_type": "execute_result"
    }
   ],
   "source": [
    "users.count()"
   ]
  },
  {
   "cell_type": "code",
   "execution_count": 4,
   "metadata": {},
   "outputs": [
    {
     "data": {
      "text/html": [
       "<div>\n",
       "<style scoped>\n",
       "    .dataframe tbody tr th:only-of-type {\n",
       "        vertical-align: middle;\n",
       "    }\n",
       "\n",
       "    .dataframe tbody tr th {\n",
       "        vertical-align: top;\n",
       "    }\n",
       "\n",
       "    .dataframe thead th {\n",
       "        text-align: right;\n",
       "    }\n",
       "</style>\n",
       "<table border=\"1\" class=\"dataframe\">\n",
       "  <thead>\n",
       "    <tr style=\"text-align: right;\">\n",
       "      <th></th>\n",
       "      <th>lastname</th>\n",
       "    </tr>\n",
       "  </thead>\n",
       "  <tbody>\n",
       "    <tr>\n",
       "      <th>0</th>\n",
       "      <td>Aaberg</td>\n",
       "    </tr>\n",
       "    <tr>\n",
       "      <th>1</th>\n",
       "      <td>Aaby</td>\n",
       "    </tr>\n",
       "    <tr>\n",
       "      <th>2</th>\n",
       "      <td>Aadland</td>\n",
       "    </tr>\n",
       "    <tr>\n",
       "      <th>3</th>\n",
       "      <td>Aagaard</td>\n",
       "    </tr>\n",
       "    <tr>\n",
       "      <th>4</th>\n",
       "      <td>Aakre</td>\n",
       "    </tr>\n",
       "  </tbody>\n",
       "</table>\n",
       "</div>"
      ],
      "text/plain": [
       "  lastname\n",
       "0   Aaberg\n",
       "1     Aaby\n",
       "2  Aadland\n",
       "3  Aagaard\n",
       "4    Aakre"
      ]
     },
     "execution_count": 4,
     "metadata": {},
     "output_type": "execute_result"
    }
   ],
   "source": [
    "users.head()"
   ]
  },
  {
   "cell_type": "code",
   "execution_count": 5,
   "metadata": {},
   "outputs": [],
   "source": [
    "take_users = users[:30000]"
   ]
  },
  {
   "cell_type": "code",
   "execution_count": 6,
   "metadata": {},
   "outputs": [
    {
     "data": {
      "text/plain": [
       "lastname    30000\n",
       "dtype: int64"
      ]
     },
     "execution_count": 6,
     "metadata": {},
     "output_type": "execute_result"
    }
   ],
   "source": [
    "take_users.count()"
   ]
  },
  {
   "cell_type": "code",
   "execution_count": 7,
   "metadata": {},
   "outputs": [
    {
     "data": {
      "text/html": [
       "<div>\n",
       "<style scoped>\n",
       "    .dataframe tbody tr th:only-of-type {\n",
       "        vertical-align: middle;\n",
       "    }\n",
       "\n",
       "    .dataframe tbody tr th {\n",
       "        vertical-align: top;\n",
       "    }\n",
       "\n",
       "    .dataframe thead th {\n",
       "        text-align: right;\n",
       "    }\n",
       "</style>\n",
       "<table border=\"1\" class=\"dataframe\">\n",
       "  <thead>\n",
       "    <tr style=\"text-align: right;\">\n",
       "      <th></th>\n",
       "      <th>lastname</th>\n",
       "    </tr>\n",
       "  </thead>\n",
       "  <tbody>\n",
       "    <tr>\n",
       "      <th>0</th>\n",
       "      <td>Aaberg</td>\n",
       "    </tr>\n",
       "    <tr>\n",
       "      <th>1</th>\n",
       "      <td>Aaby</td>\n",
       "    </tr>\n",
       "    <tr>\n",
       "      <th>2</th>\n",
       "      <td>Aadland</td>\n",
       "    </tr>\n",
       "    <tr>\n",
       "      <th>3</th>\n",
       "      <td>Aagaard</td>\n",
       "    </tr>\n",
       "    <tr>\n",
       "      <th>4</th>\n",
       "      <td>Aakre</td>\n",
       "    </tr>\n",
       "  </tbody>\n",
       "</table>\n",
       "</div>"
      ],
      "text/plain": [
       "  lastname\n",
       "0   Aaberg\n",
       "1     Aaby\n",
       "2  Aadland\n",
       "3  Aagaard\n",
       "4    Aakre"
      ]
     },
     "execution_count": 7,
     "metadata": {},
     "output_type": "execute_result"
    }
   ],
   "source": [
    "take_users.head()"
   ]
  },
  {
   "cell_type": "code",
   "execution_count": 8,
   "metadata": {},
   "outputs": [
    {
     "data": {
      "text/plain": [
       "30000"
      ]
     },
     "execution_count": 8,
     "metadata": {},
     "output_type": "execute_result"
    }
   ],
   "source": [
    "take_users['lastname'].nunique()"
   ]
  },
  {
   "cell_type": "code",
   "execution_count": 9,
   "metadata": {},
   "outputs": [],
   "source": [
    "take_users.to_csv('users.csv', index=False)"
   ]
  },
  {
   "cell_type": "code",
   "execution_count": 2,
   "metadata": {},
   "outputs": [],
   "source": [
    "products_path = '/home/lam/Desktop/vini-intern/product_recommend/crawler/famousfootwear/famousfootwear.csv'"
   ]
  },
  {
   "cell_type": "code",
   "execution_count": 3,
   "metadata": {},
   "outputs": [],
   "source": [
    "products = pd.read_csv(products_path)"
   ]
  },
  {
   "cell_type": "code",
   "execution_count": 4,
   "metadata": {},
   "outputs": [
    {
     "data": {
      "text/html": [
       "<div>\n",
       "<style scoped>\n",
       "    .dataframe tbody tr th:only-of-type {\n",
       "        vertical-align: middle;\n",
       "    }\n",
       "\n",
       "    .dataframe tbody tr th {\n",
       "        vertical-align: top;\n",
       "    }\n",
       "\n",
       "    .dataframe thead th {\n",
       "        text-align: right;\n",
       "    }\n",
       "</style>\n",
       "<table border=\"1\" class=\"dataframe\">\n",
       "  <thead>\n",
       "    <tr style=\"text-align: right;\">\n",
       "      <th></th>\n",
       "      <th>product_name</th>\n",
       "      <th>product_image</th>\n",
       "      <th>product_code</th>\n",
       "      <th>product_price</th>\n",
       "    </tr>\n",
       "  </thead>\n",
       "  <tbody>\n",
       "    <tr>\n",
       "      <th>0</th>\n",
       "      <td>Chuck Taylor All Star High Top Sneaker</td>\n",
       "      <td>https://www.famousfootwear.com/ProductImages/s...</td>\n",
       "      <td>68403</td>\n",
       "      <td>59.99</td>\n",
       "    </tr>\n",
       "    <tr>\n",
       "      <th>1</th>\n",
       "      <td>Women's 577 Wide Training Shoe</td>\n",
       "      <td>https://www.famousfootwear.com/ProductImages/s...</td>\n",
       "      <td>50565</td>\n",
       "      <td>54.99</td>\n",
       "    </tr>\n",
       "    <tr>\n",
       "      <th>2</th>\n",
       "      <td>Women's D'Lites Sneaker</td>\n",
       "      <td>https://www.famousfootwear.com/ProductImages/s...</td>\n",
       "      <td>58251</td>\n",
       "      <td>54.99</td>\n",
       "    </tr>\n",
       "    <tr>\n",
       "      <th>3</th>\n",
       "      <td>Women's Zuma Studio Sneaker</td>\n",
       "      <td>https://www.famousfootwear.com/ProductImages/s...</td>\n",
       "      <td>32163</td>\n",
       "      <td>49.99</td>\n",
       "    </tr>\n",
       "    <tr>\n",
       "      <th>4</th>\n",
       "      <td>Women's Hurricane 4 ISO Running Shoe</td>\n",
       "      <td>https://www.famousfootwear.com/ProductImages/s...</td>\n",
       "      <td>96188</td>\n",
       "      <td>99.99</td>\n",
       "    </tr>\n",
       "  </tbody>\n",
       "</table>\n",
       "</div>"
      ],
      "text/plain": [
       "                             product_name  \\\n",
       "0  Chuck Taylor All Star High Top Sneaker   \n",
       "1          Women's 577 Wide Training Shoe   \n",
       "2                 Women's D'Lites Sneaker   \n",
       "3             Women's Zuma Studio Sneaker   \n",
       "4    Women's Hurricane 4 ISO Running Shoe   \n",
       "\n",
       "                                       product_image  product_code  \\\n",
       "0  https://www.famousfootwear.com/ProductImages/s...         68403   \n",
       "1  https://www.famousfootwear.com/ProductImages/s...         50565   \n",
       "2  https://www.famousfootwear.com/ProductImages/s...         58251   \n",
       "3  https://www.famousfootwear.com/ProductImages/s...         32163   \n",
       "4  https://www.famousfootwear.com/ProductImages/s...         96188   \n",
       "\n",
       "  product_price  \n",
       "0         59.99  \n",
       "1         54.99  \n",
       "2         54.99  \n",
       "3         49.99  \n",
       "4         99.99  "
      ]
     },
     "execution_count": 4,
     "metadata": {},
     "output_type": "execute_result"
    }
   ],
   "source": [
    "products.head()"
   ]
  },
  {
   "cell_type": "code",
   "execution_count": 5,
   "metadata": {},
   "outputs": [
    {
     "name": "stdout",
     "output_type": "stream",
     "text": [
      "https://www.famousfootwear.com/ProductImages/shoes_ia33426.jpg?preset=details\n",
      "https://www.famousfootwear.com/ProductImages/shoes_ia74965.jpg?preset=details\n",
      "https://www.famousfootwear.com/ProductImages/shoes_ia69924.jpg?preset=details\n",
      "https://www.famousfootwear.com/ProductImages/shoes_ia68412.jpg?preset=details\n",
      "https://www.famousfootwear.com/ProductImages/shoes_ia70817.jpg?preset=details\n",
      "https://www.famousfootwear.com/ProductImages/shoes_ia26039.jpg?preset=details\n",
      "https://www.famousfootwear.com/ProductImages/shoes_ia68403.jpg?preset=details\n",
      "https://www.famousfootwear.com/ProductImages/shoes_ia29948.jpg?preset=details\n",
      "https://www.famousfootwear.com/ProductImages/shoes_ia33421.jpg?preset=details\n",
      "https://www.famousfootwear.com/ProductImages/shoes_ia72318.jpg?preset=details\n",
      "https://www.famousfootwear.com/ProductImages/shoes_ia32079.jpg?preset=details\n",
      "https://www.famousfootwear.com/ProductImages/shoes_ia92401.jpg?preset=details\n",
      "https://www.famousfootwear.com/ProductImages/shoes_ia15888.jpg?preset=details\n",
      "https://www.famousfootwear.com/ProductImages/shoes_ia68522.jpg?preset=details\n",
      "https://www.famousfootwear.com/ProductImages/shoes_ia77832.jpg?preset=details\n",
      "https://www.famousfootwear.com/ProductImages/shoes_ia61184.jpg?preset=details\n",
      "https://www.famousfootwear.com/ProductImages/shoes_ia71079.jpg?preset=details\n",
      "https://www.famousfootwear.com/ProductImages/shoes_ia69926.jpg?preset=details\n",
      "https://www.famousfootwear.com/ProductImages/shoes_ia92406.jpg?preset=details\n",
      "https://www.famousfootwear.com/ProductImages/shoes_ia92403.jpg?preset=details\n",
      "https://www.famousfootwear.com/ProductImages/shoes_ia92405.jpg?preset=details\n",
      "https://www.famousfootwear.com/ProductImages/shoes_ia50261.jpg?preset=details\n",
      "https://www.famousfootwear.com/ProductImages/shoes_ia50268.jpg?preset=details\n",
      "https://www.famousfootwear.com/ProductImages/shoes_ia00299.jpg?preset=details\n",
      "https://www.famousfootwear.com/ProductImages/shoes_ia50304.jpg?preset=details\n",
      "https://www.famousfootwear.com/ProductImages/shoes_ia50259.jpg?preset=details\n",
      "https://www.famousfootwear.com/ProductImages/shoes_ia50244.jpg?preset=details\n",
      "https://www.famousfootwear.com/ProductImages/shoes_ia78988.jpg?preset=details\n",
      "https://www.famousfootwear.com/ProductImages/shoes_ia56579.jpg?preset=details\n",
      "https://www.famousfootwear.com/ProductImages/shoes_ia59519.jpg?preset=details\n",
      "https://www.famousfootwear.com/ProductImages/shoes_ia91892.jpg?preset=details\n",
      "https://www.famousfootwear.com/ProductImages/shoes_ia91850.jpg?preset=details\n",
      "https://www.famousfootwear.com/ProductImages/shoes_ia54344.jpg?preset=details\n",
      "https://www.famousfootwear.com/ProductImages/shoes_ia73077.jpg?preset=details\n",
      "https://www.famousfootwear.com/ProductImages/shoes_ia77048.jpg?preset=details\n",
      "https://www.famousfootwear.com/ProductImages/shoes_ia78820.jpg?preset=details\n",
      "https://www.famousfootwear.com/ProductImages/shoes_ia96727.jpg?preset=details\n",
      "https://www.famousfootwear.com/ProductImages/shoes_ia32656.jpg?preset=details\n",
      "https://www.famousfootwear.com/ProductImages/shoes_ia93423.jpg?preset=details\n",
      "https://www.famousfootwear.com/ProductImages/shoes_ia92702.jpg?preset=details\n",
      "https://www.famousfootwear.com/ProductImages/shoes_ia35408.jpg?preset=details\n",
      "https://www.famousfootwear.com/ProductImages/shoes_ia92910.jpg?preset=details\n",
      "https://www.famousfootwear.com/ProductImages/shoes_ia32942.jpg?preset=details\n",
      "https://www.famousfootwear.com/ProductImages/shoes_ia72740.jpg?preset=details\n",
      "https://www.famousfootwear.com/ProductImages/shoes_ia31661.jpg?preset=details\n",
      "https://www.famousfootwear.com/ProductImages/shoes_ia33000.jpg?preset=details\n",
      "https://www.famousfootwear.com/ProductImages/shoes_ia92636.jpg?preset=details\n",
      "https://www.famousfootwear.com/ProductImages/shoes_ia77931.jpg?preset=details\n",
      "https://www.famousfootwear.com/ProductImages/shoes_ia35401.jpg?preset=details\n",
      "https://www.famousfootwear.com/ProductImages/shoes_ia35400.jpg?preset=details\n",
      "https://www.famousfootwear.com/ProductImages/shoes_ia33086.jpg?preset=details\n",
      "https://www.famousfootwear.com/ProductImages/shoes_ia35402.jpg?preset=details\n",
      "https://www.famousfootwear.com/ProductImages/shoes_ia72760.jpg?preset=details\n",
      "https://www.famousfootwear.com/ProductImages/shoes_ia72763.jpg?preset=details\n",
      "https://www.famousfootwear.com/ProductImages/shoes_ia92672.jpg?preset=details\n",
      "https://www.famousfootwear.com/ProductImages/shoes_ia73711.jpg?preset=details\n",
      "https://www.famousfootwear.com/ProductImages/shoes_ia73714.jpg?preset=details\n",
      "https://www.famousfootwear.com/ProductImages/shoes_ia92671.jpg?preset=details\n",
      "https://www.famousfootwear.com/ProductImages/shoes_ia77864.jpg?preset=details\n",
      "https://www.famousfootwear.com/ProductImages/shoes_ia77452.jpg?preset=details\n",
      "https://www.famousfootwear.com/ProductImages/shoes_ia26023.jpg?preset=details\n",
      "https://www.famousfootwear.com/ProductImages/shoes_ia36794.jpg?preset=details\n",
      "https://www.famousfootwear.com/ProductImages/shoes_ia94933.jpg?preset=details\n",
      "https://www.famousfootwear.com/ProductImages/shoes_ia34148.jpg?preset=details\n",
      "https://www.famousfootwear.com/ProductImages/shoes_ia95064.jpg?preset=details\n",
      "https://www.famousfootwear.com/ProductImages/shoes_ia78529.jpg?preset=details\n",
      "https://www.famousfootwear.com/ProductImages/shoes_ia78550.jpg?preset=details\n",
      "https://www.famousfootwear.com/ProductImages/shoes_ia78528.jpg?preset=details\n",
      "https://www.famousfootwear.com/ProductImages/shoes_ia18756.jpg?preset=details\n",
      "https://www.famousfootwear.com/ProductImages/shoes_ia18744.jpg?preset=details\n",
      "https://www.famousfootwear.com/ProductImages/shoes_ia50747.jpg?preset=details\n",
      "https://www.famousfootwear.com/ProductImages/shoes_ia50718.jpg?preset=details\n",
      "https://www.famousfootwear.com/ProductImages/shoes_ia78508.jpg?preset=details\n",
      "https://www.famousfootwear.com/ProductImages/shoes_ia92384.jpg?preset=details\n",
      "https://www.famousfootwear.com/ProductImages/shoes_ia78511.jpg?preset=details\n",
      "https://www.famousfootwear.com/ProductImages/shoes_ia30159.jpg?preset=details\n",
      "https://www.famousfootwear.com/ProductImages/shoes_ia78512.jpg?preset=details\n",
      "https://www.famousfootwear.com/ProductImages/shoes_ia92387.jpg?preset=details\n",
      "https://www.famousfootwear.com/ProductImages/shoes_ia30162.jpg?preset=details\n",
      "https://www.famousfootwear.com/ProductImages/shoes_ia95003.jpg?preset=details\n",
      "https://www.famousfootwear.com/ProductImages/shoes_ia95008.jpg?preset=details\n",
      "https://www.famousfootwear.com/ProductImages/shoes_ia50749.jpg?preset=details\n",
      "https://www.famousfootwear.com/ProductImages/shoes_ia75863.jpg?preset=details\n",
      "https://www.famousfootwear.com/ProductImages/shoes_ia95007.jpg?preset=details\n",
      "https://www.famousfootwear.com/ProductImages/shoes_ia92389.jpg?preset=details\n",
      "https://www.famousfootwear.com/ProductImages/shoes_ia95306.jpg?preset=details\n",
      "https://www.famousfootwear.com/ProductImages/shoes_ia92388.jpg?preset=details\n",
      "https://www.famousfootwear.com/ProductImages/shoes_ia92398.jpg?preset=details\n",
      "https://www.famousfootwear.com/ProductImages/shoes_ia93968.jpg?preset=details\n",
      "https://www.famousfootwear.com/ProductImages/shoes_ia93220.jpg?preset=details\n",
      "https://www.famousfootwear.com/ProductImages/shoes_ia57644.jpg?preset=details\n",
      "https://www.famousfootwear.com/ProductImages/shoes_ia70715.jpg?preset=details\n",
      "https://www.famousfootwear.com/ProductImages/shoes_ia18041.jpg?preset=details\n",
      "https://www.famousfootwear.com/ProductImages/shoes_ia78779.jpg?preset=details\n",
      "https://www.famousfootwear.com/ProductImages/shoes_ia57578.jpg?preset=details\n",
      "https://www.famousfootwear.com/ProductImages/shoes_ia70717.jpg?preset=details\n",
      "https://www.famousfootwear.com/ProductImages/shoes_ia33462.jpg?preset=details\n",
      "https://www.famousfootwear.com/ProductImages/shoes_ia56543.jpg?preset=details\n",
      "https://www.famousfootwear.com/ProductImages/shoes_ia90972.jpg?preset=details\n",
      "https://www.famousfootwear.com/ProductImages/shoes_ia70814.jpg?preset=details\n",
      "https://www.famousfootwear.com/ProductImages/shoes_ia90317.jpg?preset=details\n",
      "https://www.famousfootwear.com/ProductImages/shoes_ia30212.jpg?preset=details\n",
      "https://www.famousfootwear.com/ProductImages/shoes_ia58968.jpg?preset=details\n",
      "https://www.famousfootwear.com/ProductImages/shoes_ia58971.jpg?preset=details\n",
      "https://www.famousfootwear.com/ProductImages/shoes_ia31460.jpg?preset=details\n",
      "https://www.famousfootwear.com/ProductImages/shoes_ia77147.jpg?preset=details\n",
      "https://www.famousfootwear.com/ProductImages/shoes_ia96328.jpg?preset=details\n",
      "https://www.famousfootwear.com/ProductImages/shoes_ia92695.jpg?preset=details\n",
      "https://www.famousfootwear.com/ProductImages/shoes_ia92687.jpg?preset=details\n",
      "https://www.famousfootwear.com/ProductImages/shoes_ia90322.jpg?preset=details\n",
      "https://www.famousfootwear.com/ProductImages/shoes_ia90319.jpg?preset=details\n",
      "https://www.famousfootwear.com/ProductImages/shoes_ia72450.jpg?preset=details\n",
      "https://www.famousfootwear.com/ProductImages/shoes_ia93068.jpg?preset=details\n",
      "https://www.famousfootwear.com/ProductImages/shoes_ia32228.jpg?preset=details\n",
      "https://www.famousfootwear.com/ProductImages/shoes_ia69029.jpg?preset=details\n",
      "https://www.famousfootwear.com/ProductImages/shoes_ia72456.jpg?preset=details\n",
      "https://www.famousfootwear.com/ProductImages/shoes_ia00846.jpg?preset=details\n",
      "https://www.famousfootwear.com/ProductImages/shoes_ia91359.jpg?preset=details\n",
      "https://www.famousfootwear.com/ProductImages/shoes_ia72478.jpg?preset=details\n",
      "https://www.famousfootwear.com/ProductImages/shoes_ia35509.jpg?preset=details\n",
      "https://www.famousfootwear.com/ProductImages/shoes_ia92958.jpg?preset=details\n",
      "https://www.famousfootwear.com/ProductImages/shoes_ia54229.jpg?preset=details\n",
      "https://www.famousfootwear.com/ProductImages/shoes_ia91363.jpg?preset=details\n",
      "https://www.famousfootwear.com/ProductImages/shoes_ia91434.jpg?preset=details\n",
      "https://www.famousfootwear.com/ProductImages/shoes_ia91362.jpg?preset=details\n",
      "https://www.famousfootwear.com/ProductImages/shoes_ia54230.jpg?preset=details\n",
      "https://www.famousfootwear.com/ProductImages/shoes_ia70794.jpg?preset=details\n",
      "https://www.famousfootwear.com/ProductImages/shoes_ia54232.jpg?preset=details\n",
      "https://www.famousfootwear.com/ProductImages/shoes_ia72441.jpg?preset=details\n",
      "https://www.famousfootwear.com/ProductImages/shoes_ia93064.jpg?preset=details\n",
      "https://www.famousfootwear.com/ProductImages/shoes_ia77889.jpg?preset=details\n",
      "https://www.famousfootwear.com/ProductImages/shoes_ia90944.jpg?preset=details\n",
      "https://www.famousfootwear.com/ProductImages/shoes_ia91209.jpg?preset=details\n",
      "https://www.famousfootwear.com/ProductImages/shoes_ia91210.jpg?preset=details\n",
      "https://www.famousfootwear.com/ProductImages/shoes_ia50624.jpg?preset=details\n",
      "https://www.famousfootwear.com/ProductImages/shoes_ia50625.jpg?preset=details\n",
      "https://www.famousfootwear.com/ProductImages/shoes_ia50309.jpg?preset=details\n",
      "https://www.famousfootwear.com/ProductImages/shoes_ia50310.jpg?preset=details\n",
      "https://www.famousfootwear.com/ProductImages/shoes_ia57645.jpg?preset=details\n",
      "https://www.famousfootwear.com/ProductImages/shoes_ia50333.jpg?preset=details\n",
      "https://www.famousfootwear.com/ProductImages/shoes_ia50334.jpg?preset=details\n",
      "https://www.famousfootwear.com/ProductImages/shoes_ia90697.jpg?preset=details\n",
      "https://www.famousfootwear.com/ProductImages/shoes_ia91721.jpg?preset=details\n",
      "https://www.famousfootwear.com/ProductImages/shoes_ia57649.jpg?preset=details\n",
      "https://www.famousfootwear.com/ProductImages/shoes_ia78531.jpg?preset=details\n",
      "https://www.famousfootwear.com/ProductImages/shoes_ia78496.jpg?preset=details\n",
      "https://www.famousfootwear.com/ProductImages/shoes_ia94848.jpg?preset=details\n",
      "https://www.famousfootwear.com/ProductImages/shoes_ia90312.jpg?preset=details\n",
      "https://www.famousfootwear.com/ProductImages/shoes_ia93182.jpg?preset=details\n",
      "https://www.famousfootwear.com/ProductImages/shoes_ia93174.jpg?preset=details\n",
      "https://www.famousfootwear.com/ProductImages/shoes_ia90521.jpg?preset=details\n",
      "https://www.famousfootwear.com/ProductImages/shoes_ia58224.jpg?preset=details\n",
      "https://www.famousfootwear.com/ProductImages/shoes_ia90824.jpg?preset=details\n",
      "https://www.famousfootwear.com/ProductImages/shoes_ia92701.jpg?preset=details\n",
      "https://www.famousfootwear.com/ProductImages/shoes_ia90825.jpg?preset=details\n",
      "https://www.famousfootwear.com/ProductImages/shoes_ia33679.jpg?preset=details\n",
      "https://www.famousfootwear.com/ProductImages/shoes_ia92789.jpg?preset=details\n",
      "https://www.famousfootwear.com/ProductImages/shoes_ia92788.jpg?preset=details\n",
      "https://www.famousfootwear.com/ProductImages/shoes_ia97190.jpg?preset=details\n",
      "https://www.famousfootwear.com/ProductImages/shoes_ia35892.jpg?preset=details\n",
      "https://www.famousfootwear.com/ProductImages/shoes_ia32681.jpg?preset=details\n",
      "https://www.famousfootwear.com/ProductImages/shoes_ia35894.jpg?preset=details\n",
      "https://www.famousfootwear.com/ProductImages/shoes_ia35893.jpg?preset=details\n",
      "https://www.famousfootwear.com/ProductImages/shoes_ia32688.jpg?preset=details\n",
      "https://www.famousfootwear.com/ProductImages/shoes_ia32680.jpg?preset=details\n",
      "https://www.famousfootwear.com/ProductImages/shoes_ia92800.jpg?preset=details\n",
      "https://www.famousfootwear.com/ProductImages/shoes_ia91743.jpg?preset=details\n",
      "https://www.famousfootwear.com/ProductImages/shoes_ia91749.jpg?preset=details\n",
      "https://www.famousfootwear.com/ProductImages/shoes_ia92136.jpg?preset=details\n",
      "https://www.famousfootwear.com/ProductImages/shoes_ia30755.jpg?preset=details\n",
      "https://www.famousfootwear.com/ProductImages/shoes_ia78542.jpg?preset=details\n",
      "https://www.famousfootwear.com/ProductImages/shoes_ia72649.jpg?preset=details\n",
      "https://www.famousfootwear.com/ProductImages/shoes_ia74480.jpg?preset=details\n",
      "https://www.famousfootwear.com/ProductImages/shoes_ia72071.jpg?preset=details\n",
      "https://www.famousfootwear.com/ProductImages/shoes_ia72631.jpg?preset=details\n",
      "https://www.famousfootwear.com/ProductImages/shoes_ia72632.jpg?preset=details\n",
      "https://www.famousfootwear.com/ProductImages/shoes_ia18619.jpg?preset=details\n",
      "https://www.famousfootwear.com/ProductImages/shoes_ia18874.jpg?preset=details\n",
      "https://www.famousfootwear.com/ProductImages/shoes_ia00711.jpg?preset=details\n",
      "https://www.famousfootwear.com/ProductImages/shoes_ia91982.jpg?preset=details\n",
      "https://www.famousfootwear.com/ProductImages/shoes_ia72647.jpg?preset=details\n",
      "https://www.famousfootwear.com/ProductImages/shoes_ia35423.jpg?preset=details\n",
      "https://www.famousfootwear.com/ProductImages/shoes_ia35413.jpg?preset=details\n",
      "https://www.famousfootwear.com/ProductImages/shoes_ia33533.jpg?preset=details\n",
      "https://www.famousfootwear.com/ProductImages/shoes_ia56694.jpg?preset=details\n",
      "https://www.famousfootwear.com/ProductImages/shoes_ia30215.jpg?preset=details\n",
      "https://www.famousfootwear.com/ProductImages/shoes_ia30219.jpg?preset=details\n",
      "https://www.famousfootwear.com/ProductImages/shoes_ia33526.jpg?preset=details\n",
      "https://www.famousfootwear.com/ProductImages/shoes_ia90189.jpg?preset=details\n",
      "https://www.famousfootwear.com/ProductImages/shoes_ia75624.jpg?preset=details\n",
      "https://www.famousfootwear.com/ProductImages/shoes_ia58370.jpg?preset=details\n",
      "https://www.famousfootwear.com/ProductImages/shoes_ia90263.jpg?preset=details\n",
      "https://www.famousfootwear.com/ProductImages/shoes_ia33690.jpg?preset=details\n",
      "https://www.famousfootwear.com/ProductImages/shoes_ia78357.jpg?preset=details\n",
      "https://www.famousfootwear.com/ProductImages/shoes_ia58339.jpg?preset=details\n",
      "https://www.famousfootwear.com/ProductImages/shoes_ia92051.jpg?preset=details\n",
      "https://www.famousfootwear.com/ProductImages/shoes_ia58340.jpg?preset=details\n",
      "https://www.famousfootwear.com/ProductImages/shoes_ia91861.jpg?preset=details\n",
      "https://www.famousfootwear.com/ProductImages/shoes_ia78518.jpg?preset=details\n",
      "https://www.famousfootwear.com/ProductImages/shoes_ia30413.jpg?preset=details\n",
      "https://www.famousfootwear.com/ProductImages/shoes_ia00858.jpg?preset=details\n",
      "https://www.famousfootwear.com/ProductImages/shoes_ia00871.jpg?preset=details\n",
      "https://www.famousfootwear.com/ProductImages/shoes_ia73679.jpg?preset=details\n",
      "https://www.famousfootwear.com/ProductImages/shoes_ia91426.jpg?preset=details\n",
      "https://www.famousfootwear.com/ProductImages/shoes_ia70747.jpg?preset=details\n",
      "https://www.famousfootwear.com/ProductImages/shoes_ia35516.jpg?preset=details\n",
      "https://www.famousfootwear.com/ProductImages/shoes_ia18955.jpg?preset=details\n",
      "https://www.famousfootwear.com/ProductImages/shoes_ia74770.jpg?preset=details\n",
      "https://www.famousfootwear.com/ProductImages/shoes_ia58233.jpg?preset=details\n",
      "https://www.famousfootwear.com/ProductImages/shoes_ia91962.jpg?preset=details\n",
      "https://www.famousfootwear.com/ProductImages/shoes_ia91283.jpg?preset=details\n",
      "https://www.famousfootwear.com/ProductImages/shoes_ia72689.jpg?preset=details\n",
      "https://www.famousfootwear.com/ProductImages/shoes_ia90388.jpg?preset=details\n",
      "https://www.famousfootwear.com/ProductImages/shoes_ia58234.jpg?preset=details\n",
      "https://www.famousfootwear.com/ProductImages/shoes_ia74199.jpg?preset=details\n",
      "https://www.famousfootwear.com/ProductImages/shoes_ia56544.jpg?preset=details\n",
      "https://www.famousfootwear.com/ProductImages/shoes_ia73304.jpg?preset=details\n",
      "https://www.famousfootwear.com/ProductImages/shoes_ia72716.jpg?preset=details\n",
      "https://www.famousfootwear.com/ProductImages/shoes_ia74344.jpg?preset=details\n",
      "https://www.famousfootwear.com/ProductImages/shoes_ia91960.jpg?preset=details\n",
      "https://www.famousfootwear.com/ProductImages/shoes_ia72507.jpg?preset=details\n",
      "https://www.famousfootwear.com/ProductImages/shoes_ia92790.jpg?preset=details\n",
      "https://www.famousfootwear.com/ProductImages/shoes_ia33463.jpg?preset=details\n",
      "https://www.famousfootwear.com/ProductImages/shoes_ia56504.jpg?preset=details\n",
      "https://www.famousfootwear.com/ProductImages/shoes_ia30429.jpg?preset=details\n",
      "https://www.famousfootwear.com/ProductImages/shoes_ia94982.jpg?preset=details\n",
      "https://www.famousfootwear.com/ProductImages/shoes_ia94981.jpg?preset=details\n",
      "https://www.famousfootwear.com/ProductImages/shoes_ia72566.jpg?preset=details\n",
      "https://www.famousfootwear.com/ProductImages/shoes_ia70829.jpg?preset=details\n",
      "https://www.famousfootwear.com/ProductImages/shoes_ia74514.jpg?preset=details\n",
      "https://www.famousfootwear.com/ProductImages/shoes_ia96715.jpg?preset=details\n",
      "https://www.famousfootwear.com/ProductImages/shoes_ia71084.jpg?preset=details\n",
      "https://www.famousfootwear.com/ProductImages/shoes_ia92132.jpg?preset=details\n",
      "https://www.famousfootwear.com/ProductImages/shoes_ia77927.jpg?preset=details\n",
      "https://www.famousfootwear.com/ProductImages/shoes_ia00340.jpg?preset=details\n",
      "https://www.famousfootwear.com/ProductImages/shoes_ia92133.jpg?preset=details\n",
      "https://www.famousfootwear.com/ProductImages/shoes_ia91776.jpg?preset=details\n",
      "https://www.famousfootwear.com/ProductImages/shoes_ia18930.jpg?preset=details\n",
      "https://www.famousfootwear.com/ProductImages/shoes_ia18939.jpg?preset=details\n",
      "https://www.famousfootwear.com/ProductImages/shoes_ia70286.jpg?preset=details\n",
      "https://www.famousfootwear.com/ProductImages/shoes_ia76974.jpg?preset=details\n",
      "https://www.famousfootwear.com/ProductImages/shoes_ia94700.jpg?preset=details\n",
      "https://www.famousfootwear.com/ProductImages/shoes_ia94705.jpg?preset=details\n",
      "https://www.famousfootwear.com/ProductImages/shoes_ia76966.jpg?preset=details\n",
      "https://www.famousfootwear.com/ProductImages/shoes_ia90823.jpg?preset=details\n",
      "https://www.famousfootwear.com/ProductImages/shoes_ia78530.jpg?preset=details\n",
      "https://www.famousfootwear.com/ProductImages/shoes_ia59550.jpg?preset=details\n",
      "https://www.famousfootwear.com/ProductImages/shoes_ia54552.jpg?preset=details\n",
      "https://www.famousfootwear.com/ProductImages/shoes_ia32020.jpg?preset=details\n",
      "https://www.famousfootwear.com/ProductImages/shoes_ia54553.jpg?preset=details\n",
      "https://www.famousfootwear.com/ProductImages/shoes_ia92151.jpg?preset=details\n",
      "https://www.famousfootwear.com/ProductImages/shoes_ia91857.jpg?preset=details\n",
      "https://www.famousfootwear.com/ProductImages/shoes_ia34939.jpg?preset=details\n",
      "https://www.famousfootwear.com/ProductImages/shoes_ia32022.jpg?preset=details\n",
      "https://www.famousfootwear.com/ProductImages/shoes_ia71895.jpg?preset=details\n",
      "https://www.famousfootwear.com/ProductImages/shoes_ia91598.jpg?preset=details\n",
      "https://www.famousfootwear.com/ProductImages/shoes_ia77124.jpg?preset=details\n",
      "https://www.famousfootwear.com/ProductImages/shoes_ia76338.jpg?preset=details\n",
      "https://www.famousfootwear.com/ProductImages/shoes_ia18025.jpg?preset=details\n",
      "https://www.famousfootwear.com/ProductImages/shoes_ia92700.jpg?preset=details\n",
      "https://www.famousfootwear.com/ProductImages/shoes_ia32645.jpg?preset=details\n",
      "https://www.famousfootwear.com/ProductImages/shoes_ia30286.jpg?preset=details\n",
      "https://www.famousfootwear.com/ProductImages/shoes_ia30285.jpg?preset=details\n",
      "https://www.famousfootwear.com/ProductImages/shoes_ia18013.jpg?preset=details\n",
      "https://www.famousfootwear.com/ProductImages/shoes_ia50327.jpg?preset=details\n",
      "https://www.famousfootwear.com/ProductImages/shoes_ia50324.jpg?preset=details\n",
      "https://www.famousfootwear.com/ProductImages/shoes_ia74141.jpg?preset=details\n",
      "https://www.famousfootwear.com/ProductImages/shoes_ia75302.jpg?preset=details\n",
      "https://www.famousfootwear.com/ProductImages/shoes_ia57655.jpg?preset=details\n",
      "https://www.famousfootwear.com/ProductImages/shoes_ia00310.jpg?preset=details\n",
      "https://www.famousfootwear.com/ProductImages/shoes_ia00327.jpg?preset=details\n",
      "https://www.famousfootwear.com/ProductImages/shoes_ia00320.jpg?preset=details\n",
      "https://www.famousfootwear.com/ProductImages/shoes_ia30540.jpg?preset=details\n",
      "https://www.famousfootwear.com/ProductImages/shoes_ia91710.jpg?preset=details\n",
      "https://www.famousfootwear.com/ProductImages/shoes_ia30271.jpg?preset=details\n",
      "https://www.famousfootwear.com/ProductImages/shoes_ia30526.jpg?preset=details\n",
      "https://www.famousfootwear.com/ProductImages/shoes_ia57674.jpg?preset=details\n",
      "https://www.famousfootwear.com/ProductImages/shoes_ia50282.jpg?preset=details\n",
      "https://www.famousfootwear.com/ProductImages/shoes_ia18171.jpg?preset=details\n",
      "https://www.famousfootwear.com/ProductImages/shoes_ia92113.jpg?preset=details\n",
      "https://www.famousfootwear.com/ProductImages/shoes_ia94804.jpg?preset=details\n",
      "https://www.famousfootwear.com/ProductImages/shoes_ia94802.jpg?preset=details\n",
      "https://www.famousfootwear.com/ProductImages/shoes_ia94805.jpg?preset=details\n",
      "https://www.famousfootwear.com/ProductImages/shoes_ia32699.jpg?preset=details\n",
      "https://www.famousfootwear.com/ProductImages/shoes_ia00349.jpg?preset=details\n",
      "https://www.famousfootwear.com/ProductImages/shoes_ia35891.jpg?preset=details\n",
      "https://www.famousfootwear.com/ProductImages/shoes_ia32704.jpg?preset=details\n",
      "https://www.famousfootwear.com/ProductImages/shoes_ia18327.jpg?preset=details\n"
     ]
    }
   ],
   "source": [
    "for index, row in products.iterrows():\n",
    "    print(row['product_image'])"
   ]
  },
  {
   "cell_type": "code",
   "execution_count": 5,
   "metadata": {},
   "outputs": [
    {
     "data": {
      "text/plain": [
       "96"
      ]
     },
     "execution_count": 5,
     "metadata": {},
     "output_type": "execute_result"
    }
   ],
   "source": [
    "products['product_code'].nunique()"
   ]
  },
  {
   "cell_type": "code",
   "execution_count": 6,
   "metadata": {},
   "outputs": [
    {
     "data": {
      "text/plain": [
       "product_name     96\n",
       "product_image    96\n",
       "product_code     96\n",
       "product_price    96\n",
       "dtype: int64"
      ]
     },
     "execution_count": 6,
     "metadata": {},
     "output_type": "execute_result"
    }
   ],
   "source": [
    "products.count()"
   ]
  },
  {
   "cell_type": "code",
   "execution_count": 7,
   "metadata": {},
   "outputs": [
    {
     "data": {
      "text/plain": [
       "64"
      ]
     },
     "execution_count": 7,
     "metadata": {},
     "output_type": "execute_result"
    }
   ],
   "source": [
    "products['product_name'].nunique()"
   ]
  },
  {
   "cell_type": "code",
   "execution_count": 8,
   "metadata": {},
   "outputs": [],
   "source": [
    "import requests\n",
    "headers = {\n",
    "    'user-agent': 'Mozilla/5.0 (Windows NT 10.0; Win64; x64) AppleWebKit/537.36' \\\n",
    "             ' (KHTML, like Gecko) Chrome/63.0.3239.84 Safari/537.36'\n",
    "}\n",
    "for index, row in products.iterrows():\n",
    "    product_image = row['product_image']\n",
    "    url = product_image.replace(\"?preset=details\", \"?trim.threshold=105&paddingWidth=60&height=550&anchor=bottomcenter&width=1200\")\n",
    "    page = requests.get(url, headers=headers)\n",
    "    open('download/' + str(row['product_code']) + '.jpg', 'wb').write(page.content)\n",
    "    "
   ]
  },
  {
   "cell_type": "code",
   "execution_count": 11,
   "metadata": {},
   "outputs": [],
   "source": [
    "product_image = 'https://www.famousfootwear.com/ProductImages/shoes_ia50747.jpg?preset=details'\n",
    "url = product_image.replace(\"?preset=details\", \"?trim.threshold=105&paddingWidth=60&height=550&anchor=bottomcenter&width=1200\")\n",
    "page = requests.get(url, headers=headers)\n",
    "open('50747.jpg', 'wb').write(page.content)"
   ]
  },
  {
   "cell_type": "code",
   "execution_count": null,
   "metadata": {},
   "outputs": [],
   "source": []
  }
 ],
 "metadata": {
  "kernelspec": {
   "display_name": "Python 3",
   "language": "python",
   "name": "python3"
  },
  "language_info": {
   "codemirror_mode": {
    "name": "ipython",
    "version": 2
   },
   "file_extension": ".py",
   "mimetype": "text/x-python",
   "name": "python",
   "nbconvert_exporter": "python",
   "pygments_lexer": "ipython2",
   "version": "2.7.15"
  }
 },
 "nbformat": 4,
 "nbformat_minor": 2
}
